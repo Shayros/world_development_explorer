{
  "cells": [
    {
      "cell_type": "markdown",
      "source": "# Plotly Express \nExplorer the World Development Indicators",
      "metadata": {
        "id": "9dnM2N6M70tb",
        "cell_id": "00000-7bb37483-975e-4d79-b4fe-256d81e4abb5",
        "deepnote_cell_type": "markdown"
      }
    },
    {
      "cell_type": "code",
      "metadata": {
        "id": "h54aY-Wvl11G",
        "cell_id": "00001-cfa97f1b-dd9c-4255-a908-85edfd3aaa58",
        "deepnote_to_be_reexecuted": false,
        "source_hash": "e66c8e4",
        "execution_millis": 1,
        "execution_start": 1617323771774,
        "deepnote_cell_type": "code"
      },
      "source": "import pandas as pd\nimport plotly.express as px",
      "execution_count": 3,
      "outputs": []
    },
    {
      "cell_type": "markdown",
      "source": "## 1 - Data Prep",
      "metadata": {
        "id": "jrBvmwu37_7i",
        "cell_id": "00002-70e42b6e-bf48-4f64-ac73-5b312596f476",
        "deepnote_cell_type": "markdown"
      }
    },
    {
      "cell_type": "code",
      "metadata": {
        "colab": {
          "base_uri": "https://localhost:8080/"
        },
        "id": "GJrdCO9Zl-y3",
        "outputId": "d24a789f-4691-4a64-d873-34203ef85678",
        "cell_id": "00003-78633104-ac7c-478c-9af9-b25e2a5e7a94",
        "deepnote_to_be_reexecuted": false,
        "source_hash": "1e16f767",
        "execution_millis": 21,
        "execution_start": 1617323780400,
        "deepnote_cell_type": "code"
      },
      "source": "df =pd.read_csv(\"wdi_data-2.csv\")\ndf.shape",
      "execution_count": 4,
      "outputs": [
        {
          "output_type": "execute_result",
          "execution_count": 4,
          "data": {
            "text/plain": "(1661, 10)"
          },
          "metadata": {}
        }
      ]
    },
    {
      "cell_type": "code",
      "metadata": {
        "colab": {
          "base_uri": "https://localhost:8080/",
          "height": 306
        },
        "id": "WQnm4eiYmfB2",
        "outputId": "2f910085-7d4f-4740-da6c-d32bd8272c58",
        "cell_id": "00004-97f59910-049b-46d7-9ce5-4b04d76172f9",
        "deepnote_to_be_reexecuted": false,
        "source_hash": "c085b6ba",
        "execution_start": 1617323788785,
        "execution_millis": 22,
        "deepnote_cell_type": "code"
      },
      "source": "df.head()",
      "execution_count": 5,
      "outputs": [
        {
          "output_type": "execute_result",
          "execution_count": 5,
          "data": {
            "application/vnd.deepnote.dataframe.v2+json": {
              "row_count": 5,
              "column_count": 10,
              "columns": [
                {
                  "name": "Unnamed: 0",
                  "dtype": "int64",
                  "stats": {
                    "unique_count": 5,
                    "nan_count": 0,
                    "min": 0,
                    "max": 4,
                    "histogram": [
                      {
                        "bin_start": 0,
                        "bin_end": 0.4,
                        "count": 1
                      },
                      {
                        "bin_start": 0.4,
                        "bin_end": 0.8,
                        "count": 0
                      },
                      {
                        "bin_start": 0.8,
                        "bin_end": 1.2000000000000002,
                        "count": 1
                      },
                      {
                        "bin_start": 1.2000000000000002,
                        "bin_end": 1.6,
                        "count": 0
                      },
                      {
                        "bin_start": 1.6,
                        "bin_end": 2,
                        "count": 0
                      },
                      {
                        "bin_start": 2,
                        "bin_end": 2.4000000000000004,
                        "count": 1
                      },
                      {
                        "bin_start": 2.4000000000000004,
                        "bin_end": 2.8000000000000003,
                        "count": 0
                      },
                      {
                        "bin_start": 2.8000000000000003,
                        "bin_end": 3.2,
                        "count": 1
                      },
                      {
                        "bin_start": 3.2,
                        "bin_end": 3.6,
                        "count": 0
                      },
                      {
                        "bin_start": 3.6,
                        "bin_end": 4,
                        "count": 1
                      }
                    ]
                  }
                },
                {
                  "name": "Year",
                  "dtype": "int64",
                  "stats": {
                    "unique_count": 5,
                    "nan_count": 0,
                    "min": 2010,
                    "max": 2014,
                    "histogram": [
                      {
                        "bin_start": 2010,
                        "bin_end": 2010.4,
                        "count": 1
                      },
                      {
                        "bin_start": 2010.4,
                        "bin_end": 2010.8,
                        "count": 0
                      },
                      {
                        "bin_start": 2010.8,
                        "bin_end": 2011.2,
                        "count": 1
                      },
                      {
                        "bin_start": 2011.2,
                        "bin_end": 2011.6,
                        "count": 0
                      },
                      {
                        "bin_start": 2011.6,
                        "bin_end": 2012,
                        "count": 0
                      },
                      {
                        "bin_start": 2012,
                        "bin_end": 2012.4,
                        "count": 1
                      },
                      {
                        "bin_start": 2012.4,
                        "bin_end": 2012.8,
                        "count": 0
                      },
                      {
                        "bin_start": 2012.8,
                        "bin_end": 2013.2,
                        "count": 1
                      },
                      {
                        "bin_start": 2013.2,
                        "bin_end": 2013.6,
                        "count": 0
                      },
                      {
                        "bin_start": 2013.6,
                        "bin_end": 2014,
                        "count": 1
                      }
                    ]
                  }
                },
                {
                  "name": "SP.POP.TOTL",
                  "dtype": "float64",
                  "stats": {
                    "unique_count": 5,
                    "nan_count": 0,
                    "min": 29185507,
                    "max": 33370794,
                    "histogram": [
                      {
                        "bin_start": 29185507,
                        "bin_end": 29604035.7,
                        "count": 1
                      },
                      {
                        "bin_start": 29604035.7,
                        "bin_end": 30022564.4,
                        "count": 0
                      },
                      {
                        "bin_start": 30022564.4,
                        "bin_end": 30441093.1,
                        "count": 1
                      },
                      {
                        "bin_start": 30441093.1,
                        "bin_end": 30859621.8,
                        "count": 0
                      },
                      {
                        "bin_start": 30859621.8,
                        "bin_end": 31278150.5,
                        "count": 1
                      },
                      {
                        "bin_start": 31278150.5,
                        "bin_end": 31696679.2,
                        "count": 0
                      },
                      {
                        "bin_start": 31696679.2,
                        "bin_end": 32115207.9,
                        "count": 0
                      },
                      {
                        "bin_start": 32115207.9,
                        "bin_end": 32533736.6,
                        "count": 1
                      },
                      {
                        "bin_start": 32533736.6,
                        "bin_end": 32952265.3,
                        "count": 0
                      },
                      {
                        "bin_start": 32952265.3,
                        "bin_end": 33370794,
                        "count": 1
                      }
                    ]
                  }
                },
                {
                  "name": "SP.DYN.LE00.IN",
                  "dtype": "float64",
                  "stats": {
                    "unique_count": 5,
                    "nan_count": 0,
                    "min": 61.028,
                    "max": 62.966,
                    "histogram": [
                      {
                        "bin_start": 61.028,
                        "bin_end": 61.2218,
                        "count": 1
                      },
                      {
                        "bin_start": 61.2218,
                        "bin_end": 61.4156,
                        "count": 0
                      },
                      {
                        "bin_start": 61.4156,
                        "bin_end": 61.6094,
                        "count": 1
                      },
                      {
                        "bin_start": 61.6094,
                        "bin_end": 61.8032,
                        "count": 0
                      },
                      {
                        "bin_start": 61.8032,
                        "bin_end": 61.997,
                        "count": 0
                      },
                      {
                        "bin_start": 61.997,
                        "bin_end": 62.1908,
                        "count": 1
                      },
                      {
                        "bin_start": 62.1908,
                        "bin_end": 62.3846,
                        "count": 0
                      },
                      {
                        "bin_start": 62.3846,
                        "bin_end": 62.5784,
                        "count": 1
                      },
                      {
                        "bin_start": 62.5784,
                        "bin_end": 62.7722,
                        "count": 0
                      },
                      {
                        "bin_start": 62.7722,
                        "bin_end": 62.966,
                        "count": 1
                      }
                    ]
                  }
                },
                {
                  "name": "NY.GDP.PCAP.PP.CD",
                  "dtype": "float64",
                  "stats": {
                    "unique_count": 5,
                    "nan_count": 0,
                    "min": 1699.4879973399,
                    "max": 2069.4246418039,
                    "histogram": [
                      {
                        "bin_start": 1699.4879973399,
                        "bin_end": 1736.4816617863,
                        "count": 2
                      },
                      {
                        "bin_start": 1736.4816617863,
                        "bin_end": 1773.4753262327,
                        "count": 0
                      },
                      {
                        "bin_start": 1773.4753262327,
                        "bin_end": 1810.4689906791,
                        "count": 0
                      },
                      {
                        "bin_start": 1810.4689906791,
                        "bin_end": 1847.4626551255,
                        "count": 0
                      },
                      {
                        "bin_start": 1847.4626551255,
                        "bin_end": 1884.4563195719002,
                        "count": 0
                      },
                      {
                        "bin_start": 1884.4563195719002,
                        "bin_end": 1921.4499840183,
                        "count": 1
                      },
                      {
                        "bin_start": 1921.4499840183,
                        "bin_end": 1958.4436484647001,
                        "count": 0
                      },
                      {
                        "bin_start": 1958.4436484647001,
                        "bin_end": 1995.4373129111,
                        "count": 0
                      },
                      {
                        "bin_start": 1995.4373129111,
                        "bin_end": 2032.4309773575,
                        "count": 1
                      },
                      {
                        "bin_start": 2032.4309773575,
                        "bin_end": 2069.4246418039,
                        "count": 1
                      }
                    ]
                  }
                },
                {
                  "name": "Country Code",
                  "dtype": "object",
                  "stats": {
                    "unique_count": 1,
                    "nan_count": 0,
                    "categories": [
                      {
                        "name": "AFG",
                        "count": 5
                      }
                    ]
                  }
                },
                {
                  "name": "Country Name",
                  "dtype": "object",
                  "stats": {
                    "unique_count": 1,
                    "nan_count": 0,
                    "categories": [
                      {
                        "name": "Afghanistan",
                        "count": 5
                      }
                    ]
                  }
                },
                {
                  "name": "Region",
                  "dtype": "object",
                  "stats": {
                    "unique_count": 1,
                    "nan_count": 0,
                    "categories": [
                      {
                        "name": "South Asia",
                        "count": 5
                      }
                    ]
                  }
                },
                {
                  "name": "Income Group",
                  "dtype": "object",
                  "stats": {
                    "unique_count": 1,
                    "nan_count": 0,
                    "categories": [
                      {
                        "name": "Low income",
                        "count": 5
                      }
                    ]
                  }
                },
                {
                  "name": "Lending Type",
                  "dtype": "object",
                  "stats": {
                    "unique_count": 1,
                    "nan_count": 0,
                    "categories": [
                      {
                        "name": "IDA",
                        "count": 5
                      }
                    ]
                  }
                },
                {
                  "name": "_deepnote_index_column",
                  "dtype": "int64"
                }
              ],
              "rows_top": [
                {
                  "Unnamed: 0": 0,
                  "Year": 2010,
                  "SP.POP.TOTL": 29185507,
                  "SP.DYN.LE00.IN": 61.028,
                  "NY.GDP.PCAP.PP.CD": 1710.5756453843,
                  "Country Code": "AFG",
                  "Country Name": "Afghanistan",
                  "Region": "South Asia",
                  "Income Group": "Low income",
                  "Lending Type": "IDA",
                  "_deepnote_index_column": 0
                },
                {
                  "Unnamed: 0": 1,
                  "Year": 2011,
                  "SP.POP.TOTL": 30117413,
                  "SP.DYN.LE00.IN": 61.553,
                  "NY.GDP.PCAP.PP.CD": 1699.4879973399,
                  "Country Code": "AFG",
                  "Country Name": "Afghanistan",
                  "Region": "South Asia",
                  "Income Group": "Low income",
                  "Lending Type": "IDA",
                  "_deepnote_index_column": 1
                },
                {
                  "Unnamed: 0": 2,
                  "Year": 2012,
                  "SP.POP.TOTL": 31161376,
                  "SP.DYN.LE00.IN": 62.054,
                  "NY.GDP.PCAP.PP.CD": 1914.7743512737,
                  "Country Code": "AFG",
                  "Country Name": "Afghanistan",
                  "Region": "South Asia",
                  "Income Group": "Low income",
                  "Lending Type": "IDA",
                  "_deepnote_index_column": 2
                },
                {
                  "Unnamed: 0": 3,
                  "Year": 2013,
                  "SP.POP.TOTL": 32269589,
                  "SP.DYN.LE00.IN": 62.525,
                  "NY.GDP.PCAP.PP.CD": 2015.5149620454,
                  "Country Code": "AFG",
                  "Country Name": "Afghanistan",
                  "Region": "South Asia",
                  "Income Group": "Low income",
                  "Lending Type": "IDA",
                  "_deepnote_index_column": 3
                },
                {
                  "Unnamed: 0": 4,
                  "Year": 2014,
                  "SP.POP.TOTL": 33370794,
                  "SP.DYN.LE00.IN": 62.966,
                  "NY.GDP.PCAP.PP.CD": 2069.4246418039,
                  "Country Code": "AFG",
                  "Country Name": "Afghanistan",
                  "Region": "South Asia",
                  "Income Group": "Low income",
                  "Lending Type": "IDA",
                  "_deepnote_index_column": 4
                }
              ],
              "rows_bottom": null
            },
            "text/plain": "   Unnamed: 0  Year  SP.POP.TOTL  SP.DYN.LE00.IN  NY.GDP.PCAP.PP.CD  \\\n0           0  2010   29185507.0          61.028        1710.575645   \n1           1  2011   30117413.0          61.553        1699.487997   \n2           2  2012   31161376.0          62.054        1914.774351   \n3           3  2013   32269589.0          62.525        2015.514962   \n4           4  2014   33370794.0          62.966        2069.424642   \n\n  Country Code Country Name      Region Income Group Lending Type  \n0          AFG  Afghanistan  South Asia   Low income          IDA  \n1          AFG  Afghanistan  South Asia   Low income          IDA  \n2          AFG  Afghanistan  South Asia   Low income          IDA  \n3          AFG  Afghanistan  South Asia   Low income          IDA  \n4          AFG  Afghanistan  South Asia   Low income          IDA  ",
            "text/html": "<div>\n<style scoped>\n    .dataframe tbody tr th:only-of-type {\n        vertical-align: middle;\n    }\n\n    .dataframe tbody tr th {\n        vertical-align: top;\n    }\n\n    .dataframe thead th {\n        text-align: right;\n    }\n</style>\n<table border=\"1\" class=\"dataframe\">\n  <thead>\n    <tr style=\"text-align: right;\">\n      <th></th>\n      <th>Unnamed: 0</th>\n      <th>Year</th>\n      <th>SP.POP.TOTL</th>\n      <th>SP.DYN.LE00.IN</th>\n      <th>NY.GDP.PCAP.PP.CD</th>\n      <th>Country Code</th>\n      <th>Country Name</th>\n      <th>Region</th>\n      <th>Income Group</th>\n      <th>Lending Type</th>\n    </tr>\n  </thead>\n  <tbody>\n    <tr>\n      <th>0</th>\n      <td>0</td>\n      <td>2010</td>\n      <td>29185507.0</td>\n      <td>61.028</td>\n      <td>1710.575645</td>\n      <td>AFG</td>\n      <td>Afghanistan</td>\n      <td>South Asia</td>\n      <td>Low income</td>\n      <td>IDA</td>\n    </tr>\n    <tr>\n      <th>1</th>\n      <td>1</td>\n      <td>2011</td>\n      <td>30117413.0</td>\n      <td>61.553</td>\n      <td>1699.487997</td>\n      <td>AFG</td>\n      <td>Afghanistan</td>\n      <td>South Asia</td>\n      <td>Low income</td>\n      <td>IDA</td>\n    </tr>\n    <tr>\n      <th>2</th>\n      <td>2</td>\n      <td>2012</td>\n      <td>31161376.0</td>\n      <td>62.054</td>\n      <td>1914.774351</td>\n      <td>AFG</td>\n      <td>Afghanistan</td>\n      <td>South Asia</td>\n      <td>Low income</td>\n      <td>IDA</td>\n    </tr>\n    <tr>\n      <th>3</th>\n      <td>3</td>\n      <td>2013</td>\n      <td>32269589.0</td>\n      <td>62.525</td>\n      <td>2015.514962</td>\n      <td>AFG</td>\n      <td>Afghanistan</td>\n      <td>South Asia</td>\n      <td>Low income</td>\n      <td>IDA</td>\n    </tr>\n    <tr>\n      <th>4</th>\n      <td>4</td>\n      <td>2014</td>\n      <td>33370794.0</td>\n      <td>62.966</td>\n      <td>2069.424642</td>\n      <td>AFG</td>\n      <td>Afghanistan</td>\n      <td>South Asia</td>\n      <td>Low income</td>\n      <td>IDA</td>\n    </tr>\n  </tbody>\n</table>\n</div>"
          },
          "metadata": {}
        }
      ]
    },
    {
      "cell_type": "code",
      "metadata": {
        "colab": {
          "base_uri": "https://localhost:8080/",
          "height": 80
        },
        "id": "npmqYj877jJU",
        "outputId": "a8e9f566-39bd-4dc4-f88d-406c6902ea0c",
        "cell_id": "00005-b2314340-bc44-48c8-95c8-3c3ef38270b7",
        "deepnote_to_be_reexecuted": false,
        "source_hash": "f490a108",
        "execution_start": 1617323791764,
        "execution_millis": 27,
        "deepnote_cell_type": "code"
      },
      "source": "df.drop(columns=[\"Unnamed: 0\"], inplace=True)\ndf.sample()",
      "execution_count": 6,
      "outputs": [
        {
          "output_type": "execute_result",
          "execution_count": 6,
          "data": {
            "application/vnd.deepnote.dataframe.v2+json": {
              "row_count": 1,
              "column_count": 9,
              "columns": [
                {
                  "name": "Year",
                  "dtype": "int64",
                  "stats": {
                    "unique_count": 1,
                    "nan_count": 0,
                    "min": 2012,
                    "max": 2012,
                    "histogram": [
                      {
                        "bin_start": 2011.5,
                        "bin_end": 2011.6,
                        "count": 0
                      },
                      {
                        "bin_start": 2011.6,
                        "bin_end": 2011.7,
                        "count": 0
                      },
                      {
                        "bin_start": 2011.7,
                        "bin_end": 2011.8,
                        "count": 0
                      },
                      {
                        "bin_start": 2011.8,
                        "bin_end": 2011.9,
                        "count": 0
                      },
                      {
                        "bin_start": 2011.9,
                        "bin_end": 2012,
                        "count": 0
                      },
                      {
                        "bin_start": 2012,
                        "bin_end": 2012.1,
                        "count": 1
                      },
                      {
                        "bin_start": 2012.1,
                        "bin_end": 2012.2,
                        "count": 0
                      },
                      {
                        "bin_start": 2012.2,
                        "bin_end": 2012.3,
                        "count": 0
                      },
                      {
                        "bin_start": 2012.3,
                        "bin_end": 2012.4,
                        "count": 0
                      },
                      {
                        "bin_start": 2012.4,
                        "bin_end": 2012.5,
                        "count": 0
                      }
                    ]
                  }
                },
                {
                  "name": "SP.POP.TOTL",
                  "dtype": "float64",
                  "stats": {
                    "unique_count": 1,
                    "nan_count": 0,
                    "min": 1135046,
                    "max": 1135046,
                    "histogram": [
                      {
                        "bin_start": 1135045.5,
                        "bin_end": 1135045.6,
                        "count": 0
                      },
                      {
                        "bin_start": 1135045.6,
                        "bin_end": 1135045.7,
                        "count": 0
                      },
                      {
                        "bin_start": 1135045.7,
                        "bin_end": 1135045.8,
                        "count": 0
                      },
                      {
                        "bin_start": 1135045.8,
                        "bin_end": 1135045.9,
                        "count": 0
                      },
                      {
                        "bin_start": 1135045.9,
                        "bin_end": 1135046,
                        "count": 0
                      },
                      {
                        "bin_start": 1135046,
                        "bin_end": 1135046.1,
                        "count": 1
                      },
                      {
                        "bin_start": 1135046.1,
                        "bin_end": 1135046.2,
                        "count": 0
                      },
                      {
                        "bin_start": 1135046.2,
                        "bin_end": 1135046.3,
                        "count": 0
                      },
                      {
                        "bin_start": 1135046.3,
                        "bin_end": 1135046.4,
                        "count": 0
                      },
                      {
                        "bin_start": 1135046.4,
                        "bin_end": 1135046.5,
                        "count": 0
                      }
                    ]
                  }
                },
                {
                  "name": "SP.DYN.LE00.IN",
                  "dtype": "float64",
                  "stats": {
                    "unique_count": 1,
                    "nan_count": 0,
                    "min": 79.812,
                    "max": 79.812,
                    "histogram": [
                      {
                        "bin_start": 79.312,
                        "bin_end": 79.41199999999999,
                        "count": 0
                      },
                      {
                        "bin_start": 79.41199999999999,
                        "bin_end": 79.512,
                        "count": 0
                      },
                      {
                        "bin_start": 79.512,
                        "bin_end": 79.612,
                        "count": 0
                      },
                      {
                        "bin_start": 79.612,
                        "bin_end": 79.712,
                        "count": 0
                      },
                      {
                        "bin_start": 79.712,
                        "bin_end": 79.812,
                        "count": 0
                      },
                      {
                        "bin_start": 79.812,
                        "bin_end": 79.91199999999999,
                        "count": 1
                      },
                      {
                        "bin_start": 79.91199999999999,
                        "bin_end": 80.012,
                        "count": 0
                      },
                      {
                        "bin_start": 80.012,
                        "bin_end": 80.112,
                        "count": 0
                      },
                      {
                        "bin_start": 80.112,
                        "bin_end": 80.212,
                        "count": 0
                      },
                      {
                        "bin_start": 80.212,
                        "bin_end": 80.312,
                        "count": 0
                      }
                    ]
                  }
                },
                {
                  "name": "NY.GDP.PCAP.PP.CD",
                  "dtype": "float64",
                  "stats": {
                    "unique_count": 1,
                    "nan_count": 0,
                    "min": 31834.6763630286,
                    "max": 31834.6763630286,
                    "histogram": [
                      {
                        "bin_start": 31834.1763630286,
                        "bin_end": 31834.2763630286,
                        "count": 0
                      },
                      {
                        "bin_start": 31834.2763630286,
                        "bin_end": 31834.3763630286,
                        "count": 0
                      },
                      {
                        "bin_start": 31834.3763630286,
                        "bin_end": 31834.4763630286,
                        "count": 0
                      },
                      {
                        "bin_start": 31834.4763630286,
                        "bin_end": 31834.576363028602,
                        "count": 0
                      },
                      {
                        "bin_start": 31834.576363028602,
                        "bin_end": 31834.6763630286,
                        "count": 0
                      },
                      {
                        "bin_start": 31834.6763630286,
                        "bin_end": 31834.7763630286,
                        "count": 1
                      },
                      {
                        "bin_start": 31834.7763630286,
                        "bin_end": 31834.8763630286,
                        "count": 0
                      },
                      {
                        "bin_start": 31834.8763630286,
                        "bin_end": 31834.9763630286,
                        "count": 0
                      },
                      {
                        "bin_start": 31834.9763630286,
                        "bin_end": 31835.076363028602,
                        "count": 0
                      },
                      {
                        "bin_start": 31835.076363028602,
                        "bin_end": 31835.1763630286,
                        "count": 0
                      }
                    ]
                  }
                },
                {
                  "name": "Country Code",
                  "dtype": "object",
                  "stats": {
                    "unique_count": 1,
                    "nan_count": 0,
                    "categories": [
                      {
                        "name": "CYP",
                        "count": 1
                      }
                    ]
                  }
                },
                {
                  "name": "Country Name",
                  "dtype": "object",
                  "stats": {
                    "unique_count": 1,
                    "nan_count": 0,
                    "categories": [
                      {
                        "name": "Cyprus",
                        "count": 1
                      }
                    ]
                  }
                },
                {
                  "name": "Region",
                  "dtype": "object",
                  "stats": {
                    "unique_count": 1,
                    "nan_count": 0,
                    "categories": [
                      {
                        "name": "Europe & Central Asia",
                        "count": 1
                      }
                    ]
                  }
                },
                {
                  "name": "Income Group",
                  "dtype": "object",
                  "stats": {
                    "unique_count": 1,
                    "nan_count": 0,
                    "categories": [
                      {
                        "name": "High income",
                        "count": 1
                      }
                    ]
                  }
                },
                {
                  "name": "Lending Type",
                  "dtype": "object",
                  "stats": {
                    "unique_count": 1,
                    "nan_count": 0,
                    "categories": [
                      {
                        "name": "Not classified",
                        "count": 1
                      }
                    ]
                  }
                },
                {
                  "name": "_deepnote_index_column",
                  "dtype": "int64"
                }
              ],
              "rows_top": [
                {
                  "Year": 2012,
                  "SP.POP.TOTL": 1135046,
                  "SP.DYN.LE00.IN": 79.812,
                  "NY.GDP.PCAP.PP.CD": 31834.6763630286,
                  "Country Code": "CYP",
                  "Country Name": "Cyprus",
                  "Region": "Europe & Central Asia",
                  "Income Group": "High income",
                  "Lending Type": "Not classified",
                  "_deepnote_index_column": 405
                }
              ],
              "rows_bottom": null
            },
            "text/plain": "     Year  SP.POP.TOTL  SP.DYN.LE00.IN  NY.GDP.PCAP.PP.CD Country Code  \\\n405  2012    1135046.0          79.812       31834.676363          CYP   \n\n    Country Name                 Region Income Group    Lending Type  \n405       Cyprus  Europe & Central Asia  High income  Not classified  ",
            "text/html": "<div>\n<style scoped>\n    .dataframe tbody tr th:only-of-type {\n        vertical-align: middle;\n    }\n\n    .dataframe tbody tr th {\n        vertical-align: top;\n    }\n\n    .dataframe thead th {\n        text-align: right;\n    }\n</style>\n<table border=\"1\" class=\"dataframe\">\n  <thead>\n    <tr style=\"text-align: right;\">\n      <th></th>\n      <th>Year</th>\n      <th>SP.POP.TOTL</th>\n      <th>SP.DYN.LE00.IN</th>\n      <th>NY.GDP.PCAP.PP.CD</th>\n      <th>Country Code</th>\n      <th>Country Name</th>\n      <th>Region</th>\n      <th>Income Group</th>\n      <th>Lending Type</th>\n    </tr>\n  </thead>\n  <tbody>\n    <tr>\n      <th>405</th>\n      <td>2012</td>\n      <td>1135046.0</td>\n      <td>79.812</td>\n      <td>31834.676363</td>\n      <td>CYP</td>\n      <td>Cyprus</td>\n      <td>Europe &amp; Central Asia</td>\n      <td>High income</td>\n      <td>Not classified</td>\n    </tr>\n  </tbody>\n</table>\n</div>"
          },
          "metadata": {}
        }
      ]
    },
    {
      "cell_type": "code",
      "metadata": {
        "colab": {
          "base_uri": "https://localhost:8080/"
        },
        "id": "qYAg1Bw1mnN1",
        "outputId": "cbf8cce8-dc31-479b-c262-dcf519b2e854",
        "cell_id": "00006-1c2a27ef-dd49-47f9-a47d-ee44f993744d",
        "deepnote_to_be_reexecuted": false,
        "source_hash": "de1e323c",
        "execution_start": 1617323794006,
        "execution_millis": 8,
        "deepnote_cell_type": "code"
      },
      "source": "df.info()",
      "execution_count": 7,
      "outputs": [
        {
          "name": "stdout",
          "text": "<class 'pandas.core.frame.DataFrame'>\nRangeIndex: 1661 entries, 0 to 1660\nData columns (total 9 columns):\n #   Column             Non-Null Count  Dtype  \n---  ------             --------------  -----  \n 0   Year               1661 non-null   int64  \n 1   SP.POP.TOTL        1661 non-null   float64\n 2   SP.DYN.LE00.IN     1661 non-null   float64\n 3   NY.GDP.PCAP.PP.CD  1661 non-null   float64\n 4   Country Code       1661 non-null   object \n 5   Country Name       1661 non-null   object \n 6   Region             1661 non-null   object \n 7   Income Group       1661 non-null   object \n 8   Lending Type       1661 non-null   object \ndtypes: float64(3), int64(1), object(5)\nmemory usage: 116.9+ KB\n",
          "output_type": "stream"
        }
      ]
    },
    {
      "cell_type": "code",
      "metadata": {
        "colab": {
          "base_uri": "https://localhost:8080/"
        },
        "id": "cmpLt6aRqN02",
        "outputId": "ece1d637-02d9-4585-f885-8f45c7f15026",
        "cell_id": "00007-77ca4655-5ada-4414-a2ef-ea52fa7cca05",
        "deepnote_to_be_reexecuted": false,
        "source_hash": "bfa49537",
        "execution_start": 1617323797588,
        "execution_millis": 13,
        "deepnote_cell_type": "code"
      },
      "source": "df_2018 = df[df[\"Year\"]==2018]\ndf_2018.shape",
      "execution_count": 8,
      "outputs": [
        {
          "output_type": "execute_result",
          "execution_count": 8,
          "data": {
            "text/plain": "(181, 9)"
          },
          "metadata": {}
        }
      ]
    },
    {
      "cell_type": "code",
      "metadata": {
        "colab": {
          "base_uri": "https://localhost:8080/",
          "height": 289
        },
        "id": "h3rmR1p8qVZR",
        "outputId": "ae3a3097-0aeb-45b1-f697-2b038012ab2a",
        "cell_id": "00008-ecdee876-f916-45f8-a12a-f99371eb2f48",
        "deepnote_to_be_reexecuted": false,
        "source_hash": "7c422c6b",
        "execution_start": 1617323800926,
        "execution_millis": 17,
        "deepnote_cell_type": "code"
      },
      "source": "df_2018.head()",
      "execution_count": 9,
      "outputs": [
        {
          "output_type": "execute_result",
          "execution_count": 9,
          "data": {
            "application/vnd.deepnote.dataframe.v2+json": {
              "row_count": 5,
              "column_count": 9,
              "columns": [
                {
                  "name": "Year",
                  "dtype": "int64",
                  "stats": {
                    "unique_count": 1,
                    "nan_count": 0,
                    "min": 2018,
                    "max": 2018,
                    "histogram": [
                      {
                        "bin_start": 2017.5,
                        "bin_end": 2017.6,
                        "count": 0
                      },
                      {
                        "bin_start": 2017.6,
                        "bin_end": 2017.7,
                        "count": 0
                      },
                      {
                        "bin_start": 2017.7,
                        "bin_end": 2017.8,
                        "count": 0
                      },
                      {
                        "bin_start": 2017.8,
                        "bin_end": 2017.9,
                        "count": 0
                      },
                      {
                        "bin_start": 2017.9,
                        "bin_end": 2018,
                        "count": 0
                      },
                      {
                        "bin_start": 2018,
                        "bin_end": 2018.1,
                        "count": 5
                      },
                      {
                        "bin_start": 2018.1,
                        "bin_end": 2018.2,
                        "count": 0
                      },
                      {
                        "bin_start": 2018.2,
                        "bin_end": 2018.3,
                        "count": 0
                      },
                      {
                        "bin_start": 2018.3,
                        "bin_end": 2018.4,
                        "count": 0
                      },
                      {
                        "bin_start": 2018.4,
                        "bin_end": 2018.5,
                        "count": 0
                      }
                    ]
                  }
                },
                {
                  "name": "SP.POP.TOTL",
                  "dtype": "float64",
                  "stats": {
                    "unique_count": 5,
                    "nan_count": 0,
                    "min": 96286,
                    "max": 42228429,
                    "histogram": [
                      {
                        "bin_start": 96286,
                        "bin_end": 4309500.3,
                        "count": 2
                      },
                      {
                        "bin_start": 4309500.3,
                        "bin_end": 8522714.6,
                        "count": 0
                      },
                      {
                        "bin_start": 8522714.6,
                        "bin_end": 12735928.899999999,
                        "count": 0
                      },
                      {
                        "bin_start": 12735928.899999999,
                        "bin_end": 16949143.2,
                        "count": 0
                      },
                      {
                        "bin_start": 16949143.2,
                        "bin_end": 21162357.5,
                        "count": 0
                      },
                      {
                        "bin_start": 21162357.5,
                        "bin_end": 25375571.799999997,
                        "count": 0
                      },
                      {
                        "bin_start": 25375571.799999997,
                        "bin_end": 29588786.099999998,
                        "count": 0
                      },
                      {
                        "bin_start": 29588786.099999998,
                        "bin_end": 33802000.4,
                        "count": 1
                      },
                      {
                        "bin_start": 33802000.4,
                        "bin_end": 38015214.699999996,
                        "count": 1
                      },
                      {
                        "bin_start": 38015214.699999996,
                        "bin_end": 42228429,
                        "count": 1
                      }
                    ]
                  }
                },
                {
                  "name": "SP.DYN.LE00.IN",
                  "dtype": "float64",
                  "stats": {
                    "unique_count": 5,
                    "nan_count": 0,
                    "min": 60.782,
                    "max": 78.458,
                    "histogram": [
                      {
                        "bin_start": 60.782,
                        "bin_end": 62.5496,
                        "count": 1
                      },
                      {
                        "bin_start": 62.5496,
                        "bin_end": 64.3172,
                        "count": 0
                      },
                      {
                        "bin_start": 64.3172,
                        "bin_end": 66.0848,
                        "count": 1
                      },
                      {
                        "bin_start": 66.0848,
                        "bin_end": 67.8524,
                        "count": 0
                      },
                      {
                        "bin_start": 67.8524,
                        "bin_end": 69.62,
                        "count": 0
                      },
                      {
                        "bin_start": 69.62,
                        "bin_end": 71.38759999999999,
                        "count": 0
                      },
                      {
                        "bin_start": 71.38759999999999,
                        "bin_end": 73.1552,
                        "count": 0
                      },
                      {
                        "bin_start": 73.1552,
                        "bin_end": 74.9228,
                        "count": 0
                      },
                      {
                        "bin_start": 74.9228,
                        "bin_end": 76.6904,
                        "count": 0
                      },
                      {
                        "bin_start": 76.6904,
                        "bin_end": 78.458,
                        "count": 3
                      }
                    ]
                  }
                },
                {
                  "name": "NY.GDP.PCAP.PP.CD",
                  "dtype": "float64",
                  "stats": {
                    "unique_count": 5,
                    "nan_count": 0,
                    "min": 2083.3218972239,
                    "max": 21630.1795148993,
                    "histogram": [
                      {
                        "bin_start": 2083.3218972239,
                        "bin_end": 4038.00765899144,
                        "count": 1
                      },
                      {
                        "bin_start": 4038.00765899144,
                        "bin_end": 5992.69342075898,
                        "count": 0
                      },
                      {
                        "bin_start": 5992.69342075898,
                        "bin_end": 7947.379182526521,
                        "count": 1
                      },
                      {
                        "bin_start": 7947.379182526521,
                        "bin_end": 9902.06494429406,
                        "count": 0
                      },
                      {
                        "bin_start": 9902.06494429406,
                        "bin_end": 11856.7507060616,
                        "count": 0
                      },
                      {
                        "bin_start": 11856.7507060616,
                        "bin_end": 13811.436467829142,
                        "count": 1
                      },
                      {
                        "bin_start": 13811.436467829142,
                        "bin_end": 15766.12222959668,
                        "count": 1
                      },
                      {
                        "bin_start": 15766.12222959668,
                        "bin_end": 17720.80799136422,
                        "count": 0
                      },
                      {
                        "bin_start": 17720.80799136422,
                        "bin_end": 19675.493753131763,
                        "count": 0
                      },
                      {
                        "bin_start": 19675.493753131763,
                        "bin_end": 21630.1795148993,
                        "count": 1
                      }
                    ]
                  }
                },
                {
                  "name": "Country Code",
                  "dtype": "object",
                  "stats": {
                    "unique_count": 5,
                    "nan_count": 0,
                    "categories": [
                      {
                        "name": "AFG",
                        "count": 1
                      },
                      {
                        "name": "ALB",
                        "count": 1
                      },
                      {
                        "name": "3 others",
                        "count": 3
                      }
                    ]
                  }
                },
                {
                  "name": "Country Name",
                  "dtype": "object",
                  "stats": {
                    "unique_count": 5,
                    "nan_count": 0,
                    "categories": [
                      {
                        "name": "Afghanistan",
                        "count": 1
                      },
                      {
                        "name": "Albania",
                        "count": 1
                      },
                      {
                        "name": "3 others",
                        "count": 3
                      }
                    ]
                  }
                },
                {
                  "name": "Region",
                  "dtype": "object",
                  "stats": {
                    "unique_count": 5,
                    "nan_count": 0,
                    "categories": [
                      {
                        "name": "South Asia",
                        "count": 1
                      },
                      {
                        "name": "Europe & Central Asia",
                        "count": 1
                      },
                      {
                        "name": "3 others",
                        "count": 3
                      }
                    ]
                  }
                },
                {
                  "name": "Income Group",
                  "dtype": "object",
                  "stats": {
                    "unique_count": 4,
                    "nan_count": 0,
                    "categories": [
                      {
                        "name": "Lower middle income",
                        "count": 2
                      },
                      {
                        "name": "Low income",
                        "count": 1
                      },
                      {
                        "name": "2 others",
                        "count": 2
                      }
                    ]
                  }
                },
                {
                  "name": "Lending Type",
                  "dtype": "object",
                  "stats": {
                    "unique_count": 2,
                    "nan_count": 0,
                    "categories": [
                      {
                        "name": "IBRD",
                        "count": 4
                      },
                      {
                        "name": "IDA",
                        "count": 1
                      }
                    ]
                  }
                },
                {
                  "name": "_deepnote_index_column",
                  "dtype": "int64"
                }
              ],
              "rows_top": [
                {
                  "Year": 2018,
                  "SP.POP.TOTL": 37172386,
                  "SP.DYN.LE00.IN": 64.486,
                  "NY.GDP.PCAP.PP.CD": 2083.3218972239,
                  "Country Code": "AFG",
                  "Country Name": "Afghanistan",
                  "Region": "South Asia",
                  "Income Group": "Low income",
                  "Lending Type": "IDA",
                  "_deepnote_index_column": 8
                },
                {
                  "Year": 2018,
                  "SP.POP.TOTL": 2866376,
                  "SP.DYN.LE00.IN": 78.458,
                  "NY.GDP.PCAP.PP.CD": 13974.0116065658,
                  "Country Code": "ALB",
                  "Country Name": "Albania",
                  "Region": "Europe & Central Asia",
                  "Income Group": "Upper middle income",
                  "Lending Type": "IBRD",
                  "_deepnote_index_column": 17
                },
                {
                  "Year": 2018,
                  "SP.POP.TOTL": 42228429,
                  "SP.DYN.LE00.IN": 76.693,
                  "NY.GDP.PCAP.PP.CD": 11925.7985636431,
                  "Country Code": "DZA",
                  "Country Name": "Algeria",
                  "Region": "Middle East & North Africa",
                  "Income Group": "Lower middle income",
                  "Lending Type": "IBRD",
                  "_deepnote_index_column": 26
                },
                {
                  "Year": 2018,
                  "SP.POP.TOTL": 30809762,
                  "SP.DYN.LE00.IN": 60.782,
                  "NY.GDP.PCAP.PP.CD": 7102.4058870923,
                  "Country Code": "AGO",
                  "Country Name": "Angola",
                  "Region": "Sub-Saharan Africa ",
                  "Income Group": "Lower middle income",
                  "Lending Type": "IBRD",
                  "_deepnote_index_column": 35
                },
                {
                  "Year": 2018,
                  "SP.POP.TOTL": 96286,
                  "SP.DYN.LE00.IN": 76.885,
                  "NY.GDP.PCAP.PP.CD": 21630.1795148993,
                  "Country Code": "ATG",
                  "Country Name": "Antigua and Barbuda",
                  "Region": "Latin America & Caribbean ",
                  "Income Group": "High income",
                  "Lending Type": "IBRD",
                  "_deepnote_index_column": 44
                }
              ],
              "rows_bottom": null
            },
            "text/plain": "    Year  SP.POP.TOTL  SP.DYN.LE00.IN  NY.GDP.PCAP.PP.CD Country Code  \\\n8   2018   37172386.0          64.486        2083.321897          AFG   \n17  2018    2866376.0          78.458       13974.011607          ALB   \n26  2018   42228429.0          76.693       11925.798564          DZA   \n35  2018   30809762.0          60.782        7102.405887          AGO   \n44  2018      96286.0          76.885       21630.179515          ATG   \n\n           Country Name                      Region         Income Group  \\\n8           Afghanistan                  South Asia           Low income   \n17              Albania       Europe & Central Asia  Upper middle income   \n26              Algeria  Middle East & North Africa  Lower middle income   \n35               Angola         Sub-Saharan Africa   Lower middle income   \n44  Antigua and Barbuda  Latin America & Caribbean           High income   \n\n   Lending Type  \n8           IDA  \n17         IBRD  \n26         IBRD  \n35         IBRD  \n44         IBRD  ",
            "text/html": "<div>\n<style scoped>\n    .dataframe tbody tr th:only-of-type {\n        vertical-align: middle;\n    }\n\n    .dataframe tbody tr th {\n        vertical-align: top;\n    }\n\n    .dataframe thead th {\n        text-align: right;\n    }\n</style>\n<table border=\"1\" class=\"dataframe\">\n  <thead>\n    <tr style=\"text-align: right;\">\n      <th></th>\n      <th>Year</th>\n      <th>SP.POP.TOTL</th>\n      <th>SP.DYN.LE00.IN</th>\n      <th>NY.GDP.PCAP.PP.CD</th>\n      <th>Country Code</th>\n      <th>Country Name</th>\n      <th>Region</th>\n      <th>Income Group</th>\n      <th>Lending Type</th>\n    </tr>\n  </thead>\n  <tbody>\n    <tr>\n      <th>8</th>\n      <td>2018</td>\n      <td>37172386.0</td>\n      <td>64.486</td>\n      <td>2083.321897</td>\n      <td>AFG</td>\n      <td>Afghanistan</td>\n      <td>South Asia</td>\n      <td>Low income</td>\n      <td>IDA</td>\n    </tr>\n    <tr>\n      <th>17</th>\n      <td>2018</td>\n      <td>2866376.0</td>\n      <td>78.458</td>\n      <td>13974.011607</td>\n      <td>ALB</td>\n      <td>Albania</td>\n      <td>Europe &amp; Central Asia</td>\n      <td>Upper middle income</td>\n      <td>IBRD</td>\n    </tr>\n    <tr>\n      <th>26</th>\n      <td>2018</td>\n      <td>42228429.0</td>\n      <td>76.693</td>\n      <td>11925.798564</td>\n      <td>DZA</td>\n      <td>Algeria</td>\n      <td>Middle East &amp; North Africa</td>\n      <td>Lower middle income</td>\n      <td>IBRD</td>\n    </tr>\n    <tr>\n      <th>35</th>\n      <td>2018</td>\n      <td>30809762.0</td>\n      <td>60.782</td>\n      <td>7102.405887</td>\n      <td>AGO</td>\n      <td>Angola</td>\n      <td>Sub-Saharan Africa</td>\n      <td>Lower middle income</td>\n      <td>IBRD</td>\n    </tr>\n    <tr>\n      <th>44</th>\n      <td>2018</td>\n      <td>96286.0</td>\n      <td>76.885</td>\n      <td>21630.179515</td>\n      <td>ATG</td>\n      <td>Antigua and Barbuda</td>\n      <td>Latin America &amp; Caribbean</td>\n      <td>High income</td>\n      <td>IBRD</td>\n    </tr>\n  </tbody>\n</table>\n</div>"
          },
          "metadata": {}
        }
      ]
    },
    {
      "cell_type": "markdown",
      "source": "## 2 - Histogram\nHistogram applies to a numerical variable. It is also known as **Frequency Distribution**.",
      "metadata": {
        "id": "2draCchUmz80",
        "cell_id": "00009-5b8304b0-a305-46b9-ace0-14a0b7a72fd6",
        "deepnote_cell_type": "markdown"
      }
    },
    {
      "cell_type": "code",
      "metadata": {
        "colab": {
          "base_uri": "https://localhost:8080/",
          "height": 542
        },
        "id": "ZFfCKSp0mwlI",
        "outputId": "ce196da6-950a-40ea-cb7b-057db80272ca",
        "cell_id": "00010-248c1c26-f05c-4898-b77e-47dcefc87069",
        "deepnote_to_be_reexecuted": false,
        "source_hash": "e555ecc7",
        "execution_start": 1617323804575,
        "execution_millis": 1928,
        "deepnote_cell_type": "code"
      },
      "source": "fig = px.histogram(data_frame=df_2018, x=\"SP.POP.TOTL\", nbins=10)\nfig.show()",
      "execution_count": 10,
      "outputs": [
        {
          "data": {
            "text/html": "<html>\n<head><meta charset=\"utf-8\" /></head>\n<body>\n    <div>            <script src=\"https://cdnjs.cloudflare.com/ajax/libs/mathjax/2.7.5/MathJax.js?config=TeX-AMS-MML_SVG\"></script><script type=\"text/javascript\">if (window.MathJax) {MathJax.Hub.Config({SVG: {font: \"STIX-Web\"}});}</script>                <script type=\"text/javascript\">window.PlotlyConfig = {MathJaxConfig: 'local'};</script>\n        <script src=\"https://cdn.plot.ly/plotly-latest.min.js\"></script>                <div id=\"2e9578cd-c476-4674-bb8e-a074e4228f88\" class=\"plotly-graph-div\" style=\"height:525px; width:100%;\"></div>            <script type=\"text/javascript\">                                    window.PLOTLYENV=window.PLOTLYENV || {};                                    if (document.getElementById(\"2e9578cd-c476-4674-bb8e-a074e4228f88\")) {                    Plotly.newPlot(                        \"2e9578cd-c476-4674-bb8e-a074e4228f88\",                        [{\"alignmentgroup\": \"True\", \"bingroup\": \"x\", \"hovertemplate\": \"SP.POP.TOTL=%{x}<br>count=%{y}<extra></extra>\", \"legendgroup\": \"\", \"marker\": {\"color\": \"#636efa\"}, \"name\": \"\", \"nbinsx\": 10, \"offsetgroup\": \"\", \"orientation\": \"v\", \"showlegend\": false, \"type\": \"histogram\", \"x\": [37172386.0, 2866376.0, 42228429.0, 30809762.0, 96286.0, 44494502.0, 2951776.0, 24982688.0, 8840521.0, 9939771.0, 385640.0, 1569439.0, 161356039.0, 286641.0, 9483499.0, 11427054.0, 383071.0, 11485048.0, 63920.0, 754394.0, 11353142.0, 3323929.0, 2254126.0, 209469333.0, 428962.0, 7025037.0, 19751535.0, 11175378.0, 543767.0, 16249798.0, 25216237.0, 37057765.0, 4666377.0, 15477751.0, 18729160.0, 1392730000.0, 49661056.0, 832322.0, 84068091.0, 5244363.0, 4999441.0, 25069229.0, 4087843.0, 1189265.0, 10629928.0, 5793636.0, 958920.0, 10627165.0, 17084357.0, 98423595.0, 6420744.0, 1308974.0, 1321977.0, 1136191.0, 109224559.0, 883483.0, 5515525.0, 66965912.0, 2119275.0, 2280102.0, 3726549.0, 82905782.0, 29767108.0, 10732882.0, 111454.0, 16346950.0, 12414318.0, 1874309.0, 779004.0, 11123176.0, 9587522.0, 7451000.0, 9775564.0, 352721.0, 1352617328.0, 267663435.0, 81800269.0, 38433600.0, 4867316.0, 8882800.0, 60421760.0, 2934855.0, 126529100.0, 9956011.0, 18276498.5, 51393010.0, 115847.0, 51606633.0, 1797085.0, 4137312.0, 6322800.0, 7061507.0, 1927174.0, 6848925.0, 2108132.0, 4818977.0, 6678567.0, 2801543.0, 607950.0, 631636.0, 26262368.0, 18143315.0, 31528585.0, 515696.0, 19077690.0, 484630.0, 4403319.0, 1265303.0, 126190788.0, 112640.0, 2706049.0, 3170208.0, 622227.0, 36029138.0, 29495962.0, 53708395.0, 2448255.0, 28087871.0, 17231624.0, 4841000.0, 6465513.0, 22442948.0, 195874740.0, 2082958.0, 5311916.0, 4829483.0, 212215030.0, 4176873.0, 8606316.0, 6956071.0, 31989256.0, 106651922.0, 37974750.0, 10283822.0, 3193354.0, 2781677.0, 19472545.0, 144477860.0, 12301939.0, 196130.0, 211028.0, 33699947.0, 15854360.0, 6982604.0, 96762.0, 7650154.0, 5638676.0, 5446771.0, 2073894.0, 652858.0, 57779622.0, 46797754.0, 21670000.0, 181889.0, 110210.0, 41801533.0, 575987.0, 10175214.0, 8514329.0, 9100837.0, 56318348.0, 69428524.0, 1267972.0, 7889094.0, 103197.0, 1389858.0, 11565204.0, 82319724.0, 5850908.0, 42723139.0, 44622518.0, 9630959.0, 66460344.0, 326687501.0, 3449299.0, 32956100.0, 292680.0, 95540395.0, 4569087.0, 17351822.0, 14439018.0], \"xaxis\": \"x\", \"yaxis\": \"y\"}],                        {\"barmode\": \"relative\", \"legend\": {\"tracegroupgap\": 0}, \"margin\": {\"t\": 60}, \"template\": {\"data\": {\"bar\": [{\"error_x\": {\"color\": \"#2a3f5f\"}, \"error_y\": {\"color\": \"#2a3f5f\"}, \"marker\": {\"line\": {\"color\": \"#E5ECF6\", \"width\": 0.5}}, \"type\": \"bar\"}], \"barpolar\": [{\"marker\": {\"line\": {\"color\": \"#E5ECF6\", \"width\": 0.5}}, \"type\": \"barpolar\"}], \"carpet\": [{\"aaxis\": {\"endlinecolor\": \"#2a3f5f\", \"gridcolor\": \"white\", \"linecolor\": \"white\", \"minorgridcolor\": \"white\", \"startlinecolor\": \"#2a3f5f\"}, \"baxis\": {\"endlinecolor\": \"#2a3f5f\", \"gridcolor\": \"white\", \"linecolor\": \"white\", \"minorgridcolor\": \"white\", \"startlinecolor\": \"#2a3f5f\"}, \"type\": \"carpet\"}], \"choropleth\": [{\"colorbar\": {\"outlinewidth\": 0, \"ticks\": \"\"}, \"type\": \"choropleth\"}], \"contour\": [{\"colorbar\": {\"outlinewidth\": 0, \"ticks\": \"\"}, \"colorscale\": [[0.0, \"#0d0887\"], [0.1111111111111111, \"#46039f\"], [0.2222222222222222, \"#7201a8\"], [0.3333333333333333, \"#9c179e\"], [0.4444444444444444, \"#bd3786\"], [0.5555555555555556, \"#d8576b\"], [0.6666666666666666, \"#ed7953\"], [0.7777777777777778, \"#fb9f3a\"], [0.8888888888888888, \"#fdca26\"], [1.0, \"#f0f921\"]], \"type\": \"contour\"}], \"contourcarpet\": [{\"colorbar\": {\"outlinewidth\": 0, \"ticks\": \"\"}, \"type\": \"contourcarpet\"}], \"heatmap\": [{\"colorbar\": {\"outlinewidth\": 0, \"ticks\": \"\"}, \"colorscale\": [[0.0, \"#0d0887\"], [0.1111111111111111, \"#46039f\"], [0.2222222222222222, \"#7201a8\"], [0.3333333333333333, \"#9c179e\"], [0.4444444444444444, \"#bd3786\"], [0.5555555555555556, \"#d8576b\"], [0.6666666666666666, \"#ed7953\"], [0.7777777777777778, \"#fb9f3a\"], [0.8888888888888888, \"#fdca26\"], [1.0, \"#f0f921\"]], \"type\": \"heatmap\"}], \"heatmapgl\": [{\"colorbar\": {\"outlinewidth\": 0, \"ticks\": \"\"}, \"colorscale\": [[0.0, \"#0d0887\"], [0.1111111111111111, \"#46039f\"], [0.2222222222222222, \"#7201a8\"], [0.3333333333333333, \"#9c179e\"], [0.4444444444444444, \"#bd3786\"], [0.5555555555555556, \"#d8576b\"], [0.6666666666666666, \"#ed7953\"], [0.7777777777777778, \"#fb9f3a\"], [0.8888888888888888, \"#fdca26\"], [1.0, \"#f0f921\"]], \"type\": \"heatmapgl\"}], \"histogram\": [{\"marker\": {\"colorbar\": {\"outlinewidth\": 0, \"ticks\": \"\"}}, \"type\": \"histogram\"}], \"histogram2d\": [{\"colorbar\": {\"outlinewidth\": 0, \"ticks\": \"\"}, \"colorscale\": [[0.0, \"#0d0887\"], [0.1111111111111111, \"#46039f\"], [0.2222222222222222, \"#7201a8\"], [0.3333333333333333, \"#9c179e\"], [0.4444444444444444, \"#bd3786\"], [0.5555555555555556, \"#d8576b\"], [0.6666666666666666, \"#ed7953\"], [0.7777777777777778, \"#fb9f3a\"], [0.8888888888888888, \"#fdca26\"], [1.0, \"#f0f921\"]], \"type\": \"histogram2d\"}], \"histogram2dcontour\": [{\"colorbar\": {\"outlinewidth\": 0, \"ticks\": \"\"}, \"colorscale\": [[0.0, \"#0d0887\"], [0.1111111111111111, \"#46039f\"], [0.2222222222222222, \"#7201a8\"], [0.3333333333333333, \"#9c179e\"], [0.4444444444444444, \"#bd3786\"], [0.5555555555555556, \"#d8576b\"], [0.6666666666666666, \"#ed7953\"], [0.7777777777777778, \"#fb9f3a\"], [0.8888888888888888, \"#fdca26\"], [1.0, \"#f0f921\"]], \"type\": \"histogram2dcontour\"}], \"mesh3d\": [{\"colorbar\": {\"outlinewidth\": 0, \"ticks\": \"\"}, \"type\": \"mesh3d\"}], \"parcoords\": [{\"line\": {\"colorbar\": {\"outlinewidth\": 0, \"ticks\": \"\"}}, \"type\": \"parcoords\"}], \"pie\": [{\"automargin\": true, \"type\": \"pie\"}], \"scatter\": [{\"marker\": {\"colorbar\": {\"outlinewidth\": 0, \"ticks\": \"\"}}, \"type\": \"scatter\"}], \"scatter3d\": [{\"line\": {\"colorbar\": {\"outlinewidth\": 0, \"ticks\": \"\"}}, \"marker\": {\"colorbar\": {\"outlinewidth\": 0, \"ticks\": \"\"}}, \"type\": \"scatter3d\"}], \"scattercarpet\": [{\"marker\": {\"colorbar\": {\"outlinewidth\": 0, \"ticks\": \"\"}}, \"type\": \"scattercarpet\"}], \"scattergeo\": [{\"marker\": {\"colorbar\": {\"outlinewidth\": 0, \"ticks\": \"\"}}, \"type\": \"scattergeo\"}], \"scattergl\": [{\"marker\": {\"colorbar\": {\"outlinewidth\": 0, \"ticks\": \"\"}}, \"type\": \"scattergl\"}], \"scattermapbox\": [{\"marker\": {\"colorbar\": {\"outlinewidth\": 0, \"ticks\": \"\"}}, \"type\": \"scattermapbox\"}], \"scatterpolar\": [{\"marker\": {\"colorbar\": {\"outlinewidth\": 0, \"ticks\": \"\"}}, \"type\": \"scatterpolar\"}], \"scatterpolargl\": [{\"marker\": {\"colorbar\": {\"outlinewidth\": 0, \"ticks\": \"\"}}, \"type\": \"scatterpolargl\"}], \"scatterternary\": [{\"marker\": {\"colorbar\": {\"outlinewidth\": 0, \"ticks\": \"\"}}, \"type\": \"scatterternary\"}], \"surface\": [{\"colorbar\": {\"outlinewidth\": 0, \"ticks\": \"\"}, \"colorscale\": [[0.0, \"#0d0887\"], [0.1111111111111111, \"#46039f\"], [0.2222222222222222, \"#7201a8\"], [0.3333333333333333, \"#9c179e\"], [0.4444444444444444, \"#bd3786\"], [0.5555555555555556, \"#d8576b\"], [0.6666666666666666, \"#ed7953\"], [0.7777777777777778, \"#fb9f3a\"], [0.8888888888888888, \"#fdca26\"], [1.0, \"#f0f921\"]], \"type\": \"surface\"}], \"table\": [{\"cells\": {\"fill\": {\"color\": \"#EBF0F8\"}, \"line\": {\"color\": \"white\"}}, \"header\": {\"fill\": {\"color\": \"#C8D4E3\"}, \"line\": {\"color\": \"white\"}}, \"type\": \"table\"}]}, \"layout\": {\"annotationdefaults\": {\"arrowcolor\": \"#2a3f5f\", \"arrowhead\": 0, \"arrowwidth\": 1}, \"autotypenumbers\": \"strict\", \"coloraxis\": {\"colorbar\": {\"outlinewidth\": 0, \"ticks\": \"\"}}, \"colorscale\": {\"diverging\": [[0, \"#8e0152\"], [0.1, \"#c51b7d\"], [0.2, \"#de77ae\"], [0.3, \"#f1b6da\"], [0.4, \"#fde0ef\"], [0.5, \"#f7f7f7\"], [0.6, \"#e6f5d0\"], [0.7, \"#b8e186\"], [0.8, \"#7fbc41\"], [0.9, \"#4d9221\"], [1, \"#276419\"]], \"sequential\": [[0.0, \"#0d0887\"], [0.1111111111111111, \"#46039f\"], [0.2222222222222222, \"#7201a8\"], [0.3333333333333333, \"#9c179e\"], [0.4444444444444444, \"#bd3786\"], [0.5555555555555556, \"#d8576b\"], [0.6666666666666666, \"#ed7953\"], [0.7777777777777778, \"#fb9f3a\"], [0.8888888888888888, \"#fdca26\"], [1.0, \"#f0f921\"]], \"sequentialminus\": [[0.0, \"#0d0887\"], [0.1111111111111111, \"#46039f\"], [0.2222222222222222, \"#7201a8\"], [0.3333333333333333, \"#9c179e\"], [0.4444444444444444, \"#bd3786\"], [0.5555555555555556, \"#d8576b\"], [0.6666666666666666, \"#ed7953\"], [0.7777777777777778, \"#fb9f3a\"], [0.8888888888888888, \"#fdca26\"], [1.0, \"#f0f921\"]]}, \"colorway\": [\"#636efa\", \"#EF553B\", \"#00cc96\", \"#ab63fa\", \"#FFA15A\", \"#19d3f3\", \"#FF6692\", \"#B6E880\", \"#FF97FF\", \"#FECB52\"], \"font\": {\"color\": \"#2a3f5f\"}, \"geo\": {\"bgcolor\": \"white\", \"lakecolor\": \"white\", \"landcolor\": \"#E5ECF6\", \"showlakes\": true, \"showland\": true, \"subunitcolor\": \"white\"}, \"hoverlabel\": {\"align\": \"left\"}, \"hovermode\": \"closest\", \"mapbox\": {\"style\": \"light\"}, \"paper_bgcolor\": \"white\", \"plot_bgcolor\": \"#E5ECF6\", \"polar\": {\"angularaxis\": {\"gridcolor\": \"white\", \"linecolor\": \"white\", \"ticks\": \"\"}, \"bgcolor\": \"#E5ECF6\", \"radialaxis\": {\"gridcolor\": \"white\", \"linecolor\": \"white\", \"ticks\": \"\"}}, \"scene\": {\"xaxis\": {\"backgroundcolor\": \"#E5ECF6\", \"gridcolor\": \"white\", \"gridwidth\": 2, \"linecolor\": \"white\", \"showbackground\": true, \"ticks\": \"\", \"zerolinecolor\": \"white\"}, \"yaxis\": {\"backgroundcolor\": \"#E5ECF6\", \"gridcolor\": \"white\", \"gridwidth\": 2, \"linecolor\": \"white\", \"showbackground\": true, \"ticks\": \"\", \"zerolinecolor\": \"white\"}, \"zaxis\": {\"backgroundcolor\": \"#E5ECF6\", \"gridcolor\": \"white\", \"gridwidth\": 2, \"linecolor\": \"white\", \"showbackground\": true, \"ticks\": \"\", \"zerolinecolor\": \"white\"}}, \"shapedefaults\": {\"line\": {\"color\": \"#2a3f5f\"}}, \"ternary\": {\"aaxis\": {\"gridcolor\": \"white\", \"linecolor\": \"white\", \"ticks\": \"\"}, \"baxis\": {\"gridcolor\": \"white\", \"linecolor\": \"white\", \"ticks\": \"\"}, \"bgcolor\": \"#E5ECF6\", \"caxis\": {\"gridcolor\": \"white\", \"linecolor\": \"white\", \"ticks\": \"\"}}, \"title\": {\"x\": 0.05}, \"xaxis\": {\"automargin\": true, \"gridcolor\": \"white\", \"linecolor\": \"white\", \"ticks\": \"\", \"title\": {\"standoff\": 15}, \"zerolinecolor\": \"white\", \"zerolinewidth\": 2}, \"yaxis\": {\"automargin\": true, \"gridcolor\": \"white\", \"linecolor\": \"white\", \"ticks\": \"\", \"title\": {\"standoff\": 15}, \"zerolinecolor\": \"white\", \"zerolinewidth\": 2}}}, \"xaxis\": {\"anchor\": \"y\", \"domain\": [0.0, 1.0], \"title\": {\"text\": \"SP.POP.TOTL\"}}, \"yaxis\": {\"anchor\": \"x\", \"domain\": [0.0, 1.0], \"title\": {\"text\": \"count\"}}},                        {\"responsive\": true}                    ).then(function(){\n                            \nvar gd = document.getElementById('2e9578cd-c476-4674-bb8e-a074e4228f88');\nvar x = new MutationObserver(function (mutations, observer) {{\n        var display = window.getComputedStyle(gd).display;\n        if (!display || display === 'none') {{\n            console.log([gd, 'removed!']);\n            Plotly.purge(gd);\n            observer.disconnect();\n        }}\n}});\n\n// Listen for the removal of the full notebook cells\nvar notebookContainer = gd.closest('#notebook-container');\nif (notebookContainer) {{\n    x.observe(notebookContainer, {childList: true});\n}}\n\n// Listen for the clearing of the current output cell\nvar outputEl = gd.closest('.output');\nif (outputEl) {{\n    x.observe(outputEl, {childList: true});\n}}\n\n                        })                };                            </script>        </div>\n</body>\n</html>"
          },
          "metadata": {},
          "output_type": "display_data"
        }
      ]
    },
    {
      "cell_type": "markdown",
      "source": "## 3 - Bar Chart",
      "metadata": {
        "id": "MrzvejIO8LnB",
        "cell_id": "00011-3e4e5143-9fc9-4e4b-bb7e-96cb3b03c9b4",
        "deepnote_cell_type": "markdown"
      }
    },
    {
      "cell_type": "markdown",
      "source": "### 3.1 Univariate Categorical Variable\nWe will use Bar Chart to depict the frequency distribution of categories (aka **Frequency Table**)",
      "metadata": {
        "id": "mAR4nvd88c5q",
        "cell_id": "00012-aba66bcc-c1b5-4ee0-a7bc-36efc46c9b1e",
        "deepnote_cell_type": "markdown"
      }
    },
    {
      "cell_type": "code",
      "metadata": {
        "colab": {
          "base_uri": "https://localhost:8080/",
          "height": 348
        },
        "id": "NVOzOsNE8JWM",
        "outputId": "74188cb4-88c8-4623-de7c-39f576681a60",
        "cell_id": "00013-b9eed9e0-e69d-4560-9601-6046506db919",
        "deepnote_to_be_reexecuted": false,
        "source_hash": "64dc7034",
        "execution_millis": 24,
        "execution_start": 1617323833583,
        "deepnote_cell_type": "code"
      },
      "source": "# Aggregate the count for each category\ndf_region = df_2018.groupby(\"Region\").count()\ndf_region",
      "execution_count": 14,
      "outputs": [
        {
          "output_type": "execute_result",
          "execution_count": 14,
          "data": {
            "application/vnd.deepnote.dataframe.v2+json": {
              "row_count": 7,
              "column_count": 8,
              "columns": [
                {
                  "name": "Year",
                  "dtype": "int64",
                  "stats": {
                    "unique_count": 7,
                    "nan_count": 0,
                    "min": 3,
                    "max": 49,
                    "histogram": [
                      {
                        "bin_start": 3,
                        "bin_end": 7.6,
                        "count": 1
                      },
                      {
                        "bin_start": 7.6,
                        "bin_end": 12.2,
                        "count": 1
                      },
                      {
                        "bin_start": 12.2,
                        "bin_end": 16.799999999999997,
                        "count": 0
                      },
                      {
                        "bin_start": 16.799999999999997,
                        "bin_end": 21.4,
                        "count": 1
                      },
                      {
                        "bin_start": 21.4,
                        "bin_end": 26,
                        "count": 0
                      },
                      {
                        "bin_start": 26,
                        "bin_end": 30.599999999999998,
                        "count": 2
                      },
                      {
                        "bin_start": 30.599999999999998,
                        "bin_end": 35.199999999999996,
                        "count": 0
                      },
                      {
                        "bin_start": 35.199999999999996,
                        "bin_end": 39.8,
                        "count": 0
                      },
                      {
                        "bin_start": 39.8,
                        "bin_end": 44.4,
                        "count": 0
                      },
                      {
                        "bin_start": 44.4,
                        "bin_end": 49,
                        "count": 2
                      }
                    ]
                  }
                },
                {
                  "name": "SP.POP.TOTL",
                  "dtype": "int64",
                  "stats": {
                    "unique_count": 7,
                    "nan_count": 0,
                    "min": 3,
                    "max": 49,
                    "histogram": [
                      {
                        "bin_start": 3,
                        "bin_end": 7.6,
                        "count": 1
                      },
                      {
                        "bin_start": 7.6,
                        "bin_end": 12.2,
                        "count": 1
                      },
                      {
                        "bin_start": 12.2,
                        "bin_end": 16.799999999999997,
                        "count": 0
                      },
                      {
                        "bin_start": 16.799999999999997,
                        "bin_end": 21.4,
                        "count": 1
                      },
                      {
                        "bin_start": 21.4,
                        "bin_end": 26,
                        "count": 0
                      },
                      {
                        "bin_start": 26,
                        "bin_end": 30.599999999999998,
                        "count": 2
                      },
                      {
                        "bin_start": 30.599999999999998,
                        "bin_end": 35.199999999999996,
                        "count": 0
                      },
                      {
                        "bin_start": 35.199999999999996,
                        "bin_end": 39.8,
                        "count": 0
                      },
                      {
                        "bin_start": 39.8,
                        "bin_end": 44.4,
                        "count": 0
                      },
                      {
                        "bin_start": 44.4,
                        "bin_end": 49,
                        "count": 2
                      }
                    ]
                  }
                },
                {
                  "name": "SP.DYN.LE00.IN",
                  "dtype": "int64",
                  "stats": {
                    "unique_count": 7,
                    "nan_count": 0,
                    "min": 3,
                    "max": 49,
                    "histogram": [
                      {
                        "bin_start": 3,
                        "bin_end": 7.6,
                        "count": 1
                      },
                      {
                        "bin_start": 7.6,
                        "bin_end": 12.2,
                        "count": 1
                      },
                      {
                        "bin_start": 12.2,
                        "bin_end": 16.799999999999997,
                        "count": 0
                      },
                      {
                        "bin_start": 16.799999999999997,
                        "bin_end": 21.4,
                        "count": 1
                      },
                      {
                        "bin_start": 21.4,
                        "bin_end": 26,
                        "count": 0
                      },
                      {
                        "bin_start": 26,
                        "bin_end": 30.599999999999998,
                        "count": 2
                      },
                      {
                        "bin_start": 30.599999999999998,
                        "bin_end": 35.199999999999996,
                        "count": 0
                      },
                      {
                        "bin_start": 35.199999999999996,
                        "bin_end": 39.8,
                        "count": 0
                      },
                      {
                        "bin_start": 39.8,
                        "bin_end": 44.4,
                        "count": 0
                      },
                      {
                        "bin_start": 44.4,
                        "bin_end": 49,
                        "count": 2
                      }
                    ]
                  }
                },
                {
                  "name": "NY.GDP.PCAP.PP.CD",
                  "dtype": "int64",
                  "stats": {
                    "unique_count": 7,
                    "nan_count": 0,
                    "min": 3,
                    "max": 49,
                    "histogram": [
                      {
                        "bin_start": 3,
                        "bin_end": 7.6,
                        "count": 1
                      },
                      {
                        "bin_start": 7.6,
                        "bin_end": 12.2,
                        "count": 1
                      },
                      {
                        "bin_start": 12.2,
                        "bin_end": 16.799999999999997,
                        "count": 0
                      },
                      {
                        "bin_start": 16.799999999999997,
                        "bin_end": 21.4,
                        "count": 1
                      },
                      {
                        "bin_start": 21.4,
                        "bin_end": 26,
                        "count": 0
                      },
                      {
                        "bin_start": 26,
                        "bin_end": 30.599999999999998,
                        "count": 2
                      },
                      {
                        "bin_start": 30.599999999999998,
                        "bin_end": 35.199999999999996,
                        "count": 0
                      },
                      {
                        "bin_start": 35.199999999999996,
                        "bin_end": 39.8,
                        "count": 0
                      },
                      {
                        "bin_start": 39.8,
                        "bin_end": 44.4,
                        "count": 0
                      },
                      {
                        "bin_start": 44.4,
                        "bin_end": 49,
                        "count": 2
                      }
                    ]
                  }
                },
                {
                  "name": "Country Code",
                  "dtype": "int64",
                  "stats": {
                    "unique_count": 7,
                    "nan_count": 0,
                    "min": 3,
                    "max": 49,
                    "histogram": [
                      {
                        "bin_start": 3,
                        "bin_end": 7.6,
                        "count": 1
                      },
                      {
                        "bin_start": 7.6,
                        "bin_end": 12.2,
                        "count": 1
                      },
                      {
                        "bin_start": 12.2,
                        "bin_end": 16.799999999999997,
                        "count": 0
                      },
                      {
                        "bin_start": 16.799999999999997,
                        "bin_end": 21.4,
                        "count": 1
                      },
                      {
                        "bin_start": 21.4,
                        "bin_end": 26,
                        "count": 0
                      },
                      {
                        "bin_start": 26,
                        "bin_end": 30.599999999999998,
                        "count": 2
                      },
                      {
                        "bin_start": 30.599999999999998,
                        "bin_end": 35.199999999999996,
                        "count": 0
                      },
                      {
                        "bin_start": 35.199999999999996,
                        "bin_end": 39.8,
                        "count": 0
                      },
                      {
                        "bin_start": 39.8,
                        "bin_end": 44.4,
                        "count": 0
                      },
                      {
                        "bin_start": 44.4,
                        "bin_end": 49,
                        "count": 2
                      }
                    ]
                  }
                },
                {
                  "name": "Country Name",
                  "dtype": "int64",
                  "stats": {
                    "unique_count": 7,
                    "nan_count": 0,
                    "min": 3,
                    "max": 49,
                    "histogram": [
                      {
                        "bin_start": 3,
                        "bin_end": 7.6,
                        "count": 1
                      },
                      {
                        "bin_start": 7.6,
                        "bin_end": 12.2,
                        "count": 1
                      },
                      {
                        "bin_start": 12.2,
                        "bin_end": 16.799999999999997,
                        "count": 0
                      },
                      {
                        "bin_start": 16.799999999999997,
                        "bin_end": 21.4,
                        "count": 1
                      },
                      {
                        "bin_start": 21.4,
                        "bin_end": 26,
                        "count": 0
                      },
                      {
                        "bin_start": 26,
                        "bin_end": 30.599999999999998,
                        "count": 2
                      },
                      {
                        "bin_start": 30.599999999999998,
                        "bin_end": 35.199999999999996,
                        "count": 0
                      },
                      {
                        "bin_start": 35.199999999999996,
                        "bin_end": 39.8,
                        "count": 0
                      },
                      {
                        "bin_start": 39.8,
                        "bin_end": 44.4,
                        "count": 0
                      },
                      {
                        "bin_start": 44.4,
                        "bin_end": 49,
                        "count": 2
                      }
                    ]
                  }
                },
                {
                  "name": "Income Group",
                  "dtype": "int64",
                  "stats": {
                    "unique_count": 7,
                    "nan_count": 0,
                    "min": 3,
                    "max": 49,
                    "histogram": [
                      {
                        "bin_start": 3,
                        "bin_end": 7.6,
                        "count": 1
                      },
                      {
                        "bin_start": 7.6,
                        "bin_end": 12.2,
                        "count": 1
                      },
                      {
                        "bin_start": 12.2,
                        "bin_end": 16.799999999999997,
                        "count": 0
                      },
                      {
                        "bin_start": 16.799999999999997,
                        "bin_end": 21.4,
                        "count": 1
                      },
                      {
                        "bin_start": 21.4,
                        "bin_end": 26,
                        "count": 0
                      },
                      {
                        "bin_start": 26,
                        "bin_end": 30.599999999999998,
                        "count": 2
                      },
                      {
                        "bin_start": 30.599999999999998,
                        "bin_end": 35.199999999999996,
                        "count": 0
                      },
                      {
                        "bin_start": 35.199999999999996,
                        "bin_end": 39.8,
                        "count": 0
                      },
                      {
                        "bin_start": 39.8,
                        "bin_end": 44.4,
                        "count": 0
                      },
                      {
                        "bin_start": 44.4,
                        "bin_end": 49,
                        "count": 2
                      }
                    ]
                  }
                },
                {
                  "name": "Lending Type",
                  "dtype": "int64",
                  "stats": {
                    "unique_count": 7,
                    "nan_count": 0,
                    "min": 3,
                    "max": 49,
                    "histogram": [
                      {
                        "bin_start": 3,
                        "bin_end": 7.6,
                        "count": 1
                      },
                      {
                        "bin_start": 7.6,
                        "bin_end": 12.2,
                        "count": 1
                      },
                      {
                        "bin_start": 12.2,
                        "bin_end": 16.799999999999997,
                        "count": 0
                      },
                      {
                        "bin_start": 16.799999999999997,
                        "bin_end": 21.4,
                        "count": 1
                      },
                      {
                        "bin_start": 21.4,
                        "bin_end": 26,
                        "count": 0
                      },
                      {
                        "bin_start": 26,
                        "bin_end": 30.599999999999998,
                        "count": 2
                      },
                      {
                        "bin_start": 30.599999999999998,
                        "bin_end": 35.199999999999996,
                        "count": 0
                      },
                      {
                        "bin_start": 35.199999999999996,
                        "bin_end": 39.8,
                        "count": 0
                      },
                      {
                        "bin_start": 39.8,
                        "bin_end": 44.4,
                        "count": 0
                      },
                      {
                        "bin_start": 44.4,
                        "bin_end": 49,
                        "count": 2
                      }
                    ]
                  }
                },
                {
                  "name": "_deepnote_index_column",
                  "dtype": "object"
                }
              ],
              "rows_top": [
                {
                  "Year": 27,
                  "SP.POP.TOTL": 27,
                  "SP.DYN.LE00.IN": 27,
                  "NY.GDP.PCAP.PP.CD": 27,
                  "Country Code": 27,
                  "Country Name": 27,
                  "Income Group": 27,
                  "Lending Type": 27,
                  "_deepnote_index_column": "East Asia & Pacific"
                },
                {
                  "Year": 49,
                  "SP.POP.TOTL": 49,
                  "SP.DYN.LE00.IN": 49,
                  "NY.GDP.PCAP.PP.CD": 49,
                  "Country Code": 49,
                  "Country Name": 49,
                  "Income Group": 49,
                  "Lending Type": 49,
                  "_deepnote_index_column": "Europe & Central Asia"
                },
                {
                  "Year": 30,
                  "SP.POP.TOTL": 30,
                  "SP.DYN.LE00.IN": 30,
                  "NY.GDP.PCAP.PP.CD": 30,
                  "Country Code": 30,
                  "Country Name": 30,
                  "Income Group": 30,
                  "Lending Type": 30,
                  "_deepnote_index_column": "Latin America & Caribbean "
                },
                {
                  "Year": 19,
                  "SP.POP.TOTL": 19,
                  "SP.DYN.LE00.IN": 19,
                  "NY.GDP.PCAP.PP.CD": 19,
                  "Country Code": 19,
                  "Country Name": 19,
                  "Income Group": 19,
                  "Lending Type": 19,
                  "_deepnote_index_column": "Middle East & North Africa"
                },
                {
                  "Year": 3,
                  "SP.POP.TOTL": 3,
                  "SP.DYN.LE00.IN": 3,
                  "NY.GDP.PCAP.PP.CD": 3,
                  "Country Code": 3,
                  "Country Name": 3,
                  "Income Group": 3,
                  "Lending Type": 3,
                  "_deepnote_index_column": "North America"
                },
                {
                  "Year": 8,
                  "SP.POP.TOTL": 8,
                  "SP.DYN.LE00.IN": 8,
                  "NY.GDP.PCAP.PP.CD": 8,
                  "Country Code": 8,
                  "Country Name": 8,
                  "Income Group": 8,
                  "Lending Type": 8,
                  "_deepnote_index_column": "South Asia"
                },
                {
                  "Year": 45,
                  "SP.POP.TOTL": 45,
                  "SP.DYN.LE00.IN": 45,
                  "NY.GDP.PCAP.PP.CD": 45,
                  "Country Code": 45,
                  "Country Name": 45,
                  "Income Group": 45,
                  "Lending Type": 45,
                  "_deepnote_index_column": "Sub-Saharan Africa "
                }
              ],
              "rows_bottom": null
            },
            "text/plain": "                            Year  SP.POP.TOTL  SP.DYN.LE00.IN  \\\nRegion                                                          \nEast Asia & Pacific           27           27              27   \nEurope & Central Asia         49           49              49   \nLatin America & Caribbean     30           30              30   \nMiddle East & North Africa    19           19              19   \nNorth America                  3            3               3   \nSouth Asia                     8            8               8   \nSub-Saharan Africa            45           45              45   \n\n                            NY.GDP.PCAP.PP.CD  Country Code  Country Name  \\\nRegion                                                                      \nEast Asia & Pacific                        27            27            27   \nEurope & Central Asia                      49            49            49   \nLatin America & Caribbean                  30            30            30   \nMiddle East & North Africa                 19            19            19   \nNorth America                               3             3             3   \nSouth Asia                                  8             8             8   \nSub-Saharan Africa                         45            45            45   \n\n                            Income Group  Lending Type  \nRegion                                                  \nEast Asia & Pacific                   27            27  \nEurope & Central Asia                 49            49  \nLatin America & Caribbean             30            30  \nMiddle East & North Africa            19            19  \nNorth America                          3             3  \nSouth Asia                             8             8  \nSub-Saharan Africa                    45            45  ",
            "text/html": "<div>\n<style scoped>\n    .dataframe tbody tr th:only-of-type {\n        vertical-align: middle;\n    }\n\n    .dataframe tbody tr th {\n        vertical-align: top;\n    }\n\n    .dataframe thead th {\n        text-align: right;\n    }\n</style>\n<table border=\"1\" class=\"dataframe\">\n  <thead>\n    <tr style=\"text-align: right;\">\n      <th></th>\n      <th>Year</th>\n      <th>SP.POP.TOTL</th>\n      <th>SP.DYN.LE00.IN</th>\n      <th>NY.GDP.PCAP.PP.CD</th>\n      <th>Country Code</th>\n      <th>Country Name</th>\n      <th>Income Group</th>\n      <th>Lending Type</th>\n    </tr>\n    <tr>\n      <th>Region</th>\n      <th></th>\n      <th></th>\n      <th></th>\n      <th></th>\n      <th></th>\n      <th></th>\n      <th></th>\n      <th></th>\n    </tr>\n  </thead>\n  <tbody>\n    <tr>\n      <th>East Asia &amp; Pacific</th>\n      <td>27</td>\n      <td>27</td>\n      <td>27</td>\n      <td>27</td>\n      <td>27</td>\n      <td>27</td>\n      <td>27</td>\n      <td>27</td>\n    </tr>\n    <tr>\n      <th>Europe &amp; Central Asia</th>\n      <td>49</td>\n      <td>49</td>\n      <td>49</td>\n      <td>49</td>\n      <td>49</td>\n      <td>49</td>\n      <td>49</td>\n      <td>49</td>\n    </tr>\n    <tr>\n      <th>Latin America &amp; Caribbean</th>\n      <td>30</td>\n      <td>30</td>\n      <td>30</td>\n      <td>30</td>\n      <td>30</td>\n      <td>30</td>\n      <td>30</td>\n      <td>30</td>\n    </tr>\n    <tr>\n      <th>Middle East &amp; North Africa</th>\n      <td>19</td>\n      <td>19</td>\n      <td>19</td>\n      <td>19</td>\n      <td>19</td>\n      <td>19</td>\n      <td>19</td>\n      <td>19</td>\n    </tr>\n    <tr>\n      <th>North America</th>\n      <td>3</td>\n      <td>3</td>\n      <td>3</td>\n      <td>3</td>\n      <td>3</td>\n      <td>3</td>\n      <td>3</td>\n      <td>3</td>\n    </tr>\n    <tr>\n      <th>South Asia</th>\n      <td>8</td>\n      <td>8</td>\n      <td>8</td>\n      <td>8</td>\n      <td>8</td>\n      <td>8</td>\n      <td>8</td>\n      <td>8</td>\n    </tr>\n    <tr>\n      <th>Sub-Saharan Africa</th>\n      <td>45</td>\n      <td>45</td>\n      <td>45</td>\n      <td>45</td>\n      <td>45</td>\n      <td>45</td>\n      <td>45</td>\n      <td>45</td>\n    </tr>\n  </tbody>\n</table>\n</div>"
          },
          "metadata": {}
        }
      ]
    },
    {
      "cell_type": "code",
      "source": "",
      "metadata": {
        "tags": [],
        "cell_id": "00014-8dd62d5e-b211-4a9f-8e28-53fde6a68c3c",
        "deepnote_cell_type": "code"
      },
      "outputs": [],
      "execution_count": null
    },
    {
      "cell_type": "code",
      "metadata": {
        "colab": {
          "base_uri": "https://localhost:8080/",
          "height": 317
        },
        "id": "Nm_9vg20-x6p",
        "outputId": "492cd9f7-efd6-485d-abc8-f8144b7fb931",
        "cell_id": "00014-dbd13400-2a6b-4b49-b738-0f72cd3f8de2",
        "deepnote_to_be_reexecuted": false,
        "source_hash": "e276c93e",
        "execution_millis": 27,
        "execution_start": 1617324192158,
        "deepnote_cell_type": "code"
      },
      "source": "df_region = df_region.reset_index()\ndf_region",
      "execution_count": 15,
      "outputs": [
        {
          "output_type": "execute_result",
          "execution_count": 15,
          "data": {
            "application/vnd.deepnote.dataframe.v2+json": {
              "row_count": 7,
              "column_count": 9,
              "columns": [
                {
                  "name": "Region",
                  "dtype": "object",
                  "stats": {
                    "unique_count": 7,
                    "nan_count": 0,
                    "categories": [
                      {
                        "name": "East Asia & Pacific",
                        "count": 1
                      },
                      {
                        "name": "Europe & Central Asia",
                        "count": 1
                      },
                      {
                        "name": "5 others",
                        "count": 5
                      }
                    ]
                  }
                },
                {
                  "name": "Year",
                  "dtype": "int64",
                  "stats": {
                    "unique_count": 7,
                    "nan_count": 0,
                    "min": 3,
                    "max": 49,
                    "histogram": [
                      {
                        "bin_start": 3,
                        "bin_end": 7.6,
                        "count": 1
                      },
                      {
                        "bin_start": 7.6,
                        "bin_end": 12.2,
                        "count": 1
                      },
                      {
                        "bin_start": 12.2,
                        "bin_end": 16.799999999999997,
                        "count": 0
                      },
                      {
                        "bin_start": 16.799999999999997,
                        "bin_end": 21.4,
                        "count": 1
                      },
                      {
                        "bin_start": 21.4,
                        "bin_end": 26,
                        "count": 0
                      },
                      {
                        "bin_start": 26,
                        "bin_end": 30.599999999999998,
                        "count": 2
                      },
                      {
                        "bin_start": 30.599999999999998,
                        "bin_end": 35.199999999999996,
                        "count": 0
                      },
                      {
                        "bin_start": 35.199999999999996,
                        "bin_end": 39.8,
                        "count": 0
                      },
                      {
                        "bin_start": 39.8,
                        "bin_end": 44.4,
                        "count": 0
                      },
                      {
                        "bin_start": 44.4,
                        "bin_end": 49,
                        "count": 2
                      }
                    ]
                  }
                },
                {
                  "name": "SP.POP.TOTL",
                  "dtype": "int64",
                  "stats": {
                    "unique_count": 7,
                    "nan_count": 0,
                    "min": 3,
                    "max": 49,
                    "histogram": [
                      {
                        "bin_start": 3,
                        "bin_end": 7.6,
                        "count": 1
                      },
                      {
                        "bin_start": 7.6,
                        "bin_end": 12.2,
                        "count": 1
                      },
                      {
                        "bin_start": 12.2,
                        "bin_end": 16.799999999999997,
                        "count": 0
                      },
                      {
                        "bin_start": 16.799999999999997,
                        "bin_end": 21.4,
                        "count": 1
                      },
                      {
                        "bin_start": 21.4,
                        "bin_end": 26,
                        "count": 0
                      },
                      {
                        "bin_start": 26,
                        "bin_end": 30.599999999999998,
                        "count": 2
                      },
                      {
                        "bin_start": 30.599999999999998,
                        "bin_end": 35.199999999999996,
                        "count": 0
                      },
                      {
                        "bin_start": 35.199999999999996,
                        "bin_end": 39.8,
                        "count": 0
                      },
                      {
                        "bin_start": 39.8,
                        "bin_end": 44.4,
                        "count": 0
                      },
                      {
                        "bin_start": 44.4,
                        "bin_end": 49,
                        "count": 2
                      }
                    ]
                  }
                },
                {
                  "name": "SP.DYN.LE00.IN",
                  "dtype": "int64",
                  "stats": {
                    "unique_count": 7,
                    "nan_count": 0,
                    "min": 3,
                    "max": 49,
                    "histogram": [
                      {
                        "bin_start": 3,
                        "bin_end": 7.6,
                        "count": 1
                      },
                      {
                        "bin_start": 7.6,
                        "bin_end": 12.2,
                        "count": 1
                      },
                      {
                        "bin_start": 12.2,
                        "bin_end": 16.799999999999997,
                        "count": 0
                      },
                      {
                        "bin_start": 16.799999999999997,
                        "bin_end": 21.4,
                        "count": 1
                      },
                      {
                        "bin_start": 21.4,
                        "bin_end": 26,
                        "count": 0
                      },
                      {
                        "bin_start": 26,
                        "bin_end": 30.599999999999998,
                        "count": 2
                      },
                      {
                        "bin_start": 30.599999999999998,
                        "bin_end": 35.199999999999996,
                        "count": 0
                      },
                      {
                        "bin_start": 35.199999999999996,
                        "bin_end": 39.8,
                        "count": 0
                      },
                      {
                        "bin_start": 39.8,
                        "bin_end": 44.4,
                        "count": 0
                      },
                      {
                        "bin_start": 44.4,
                        "bin_end": 49,
                        "count": 2
                      }
                    ]
                  }
                },
                {
                  "name": "NY.GDP.PCAP.PP.CD",
                  "dtype": "int64",
                  "stats": {
                    "unique_count": 7,
                    "nan_count": 0,
                    "min": 3,
                    "max": 49,
                    "histogram": [
                      {
                        "bin_start": 3,
                        "bin_end": 7.6,
                        "count": 1
                      },
                      {
                        "bin_start": 7.6,
                        "bin_end": 12.2,
                        "count": 1
                      },
                      {
                        "bin_start": 12.2,
                        "bin_end": 16.799999999999997,
                        "count": 0
                      },
                      {
                        "bin_start": 16.799999999999997,
                        "bin_end": 21.4,
                        "count": 1
                      },
                      {
                        "bin_start": 21.4,
                        "bin_end": 26,
                        "count": 0
                      },
                      {
                        "bin_start": 26,
                        "bin_end": 30.599999999999998,
                        "count": 2
                      },
                      {
                        "bin_start": 30.599999999999998,
                        "bin_end": 35.199999999999996,
                        "count": 0
                      },
                      {
                        "bin_start": 35.199999999999996,
                        "bin_end": 39.8,
                        "count": 0
                      },
                      {
                        "bin_start": 39.8,
                        "bin_end": 44.4,
                        "count": 0
                      },
                      {
                        "bin_start": 44.4,
                        "bin_end": 49,
                        "count": 2
                      }
                    ]
                  }
                },
                {
                  "name": "Country Code",
                  "dtype": "int64",
                  "stats": {
                    "unique_count": 7,
                    "nan_count": 0,
                    "min": 3,
                    "max": 49,
                    "histogram": [
                      {
                        "bin_start": 3,
                        "bin_end": 7.6,
                        "count": 1
                      },
                      {
                        "bin_start": 7.6,
                        "bin_end": 12.2,
                        "count": 1
                      },
                      {
                        "bin_start": 12.2,
                        "bin_end": 16.799999999999997,
                        "count": 0
                      },
                      {
                        "bin_start": 16.799999999999997,
                        "bin_end": 21.4,
                        "count": 1
                      },
                      {
                        "bin_start": 21.4,
                        "bin_end": 26,
                        "count": 0
                      },
                      {
                        "bin_start": 26,
                        "bin_end": 30.599999999999998,
                        "count": 2
                      },
                      {
                        "bin_start": 30.599999999999998,
                        "bin_end": 35.199999999999996,
                        "count": 0
                      },
                      {
                        "bin_start": 35.199999999999996,
                        "bin_end": 39.8,
                        "count": 0
                      },
                      {
                        "bin_start": 39.8,
                        "bin_end": 44.4,
                        "count": 0
                      },
                      {
                        "bin_start": 44.4,
                        "bin_end": 49,
                        "count": 2
                      }
                    ]
                  }
                },
                {
                  "name": "Country Name",
                  "dtype": "int64",
                  "stats": {
                    "unique_count": 7,
                    "nan_count": 0,
                    "min": 3,
                    "max": 49,
                    "histogram": [
                      {
                        "bin_start": 3,
                        "bin_end": 7.6,
                        "count": 1
                      },
                      {
                        "bin_start": 7.6,
                        "bin_end": 12.2,
                        "count": 1
                      },
                      {
                        "bin_start": 12.2,
                        "bin_end": 16.799999999999997,
                        "count": 0
                      },
                      {
                        "bin_start": 16.799999999999997,
                        "bin_end": 21.4,
                        "count": 1
                      },
                      {
                        "bin_start": 21.4,
                        "bin_end": 26,
                        "count": 0
                      },
                      {
                        "bin_start": 26,
                        "bin_end": 30.599999999999998,
                        "count": 2
                      },
                      {
                        "bin_start": 30.599999999999998,
                        "bin_end": 35.199999999999996,
                        "count": 0
                      },
                      {
                        "bin_start": 35.199999999999996,
                        "bin_end": 39.8,
                        "count": 0
                      },
                      {
                        "bin_start": 39.8,
                        "bin_end": 44.4,
                        "count": 0
                      },
                      {
                        "bin_start": 44.4,
                        "bin_end": 49,
                        "count": 2
                      }
                    ]
                  }
                },
                {
                  "name": "Income Group",
                  "dtype": "int64",
                  "stats": {
                    "unique_count": 7,
                    "nan_count": 0,
                    "min": 3,
                    "max": 49,
                    "histogram": [
                      {
                        "bin_start": 3,
                        "bin_end": 7.6,
                        "count": 1
                      },
                      {
                        "bin_start": 7.6,
                        "bin_end": 12.2,
                        "count": 1
                      },
                      {
                        "bin_start": 12.2,
                        "bin_end": 16.799999999999997,
                        "count": 0
                      },
                      {
                        "bin_start": 16.799999999999997,
                        "bin_end": 21.4,
                        "count": 1
                      },
                      {
                        "bin_start": 21.4,
                        "bin_end": 26,
                        "count": 0
                      },
                      {
                        "bin_start": 26,
                        "bin_end": 30.599999999999998,
                        "count": 2
                      },
                      {
                        "bin_start": 30.599999999999998,
                        "bin_end": 35.199999999999996,
                        "count": 0
                      },
                      {
                        "bin_start": 35.199999999999996,
                        "bin_end": 39.8,
                        "count": 0
                      },
                      {
                        "bin_start": 39.8,
                        "bin_end": 44.4,
                        "count": 0
                      },
                      {
                        "bin_start": 44.4,
                        "bin_end": 49,
                        "count": 2
                      }
                    ]
                  }
                },
                {
                  "name": "Lending Type",
                  "dtype": "int64",
                  "stats": {
                    "unique_count": 7,
                    "nan_count": 0,
                    "min": 3,
                    "max": 49,
                    "histogram": [
                      {
                        "bin_start": 3,
                        "bin_end": 7.6,
                        "count": 1
                      },
                      {
                        "bin_start": 7.6,
                        "bin_end": 12.2,
                        "count": 1
                      },
                      {
                        "bin_start": 12.2,
                        "bin_end": 16.799999999999997,
                        "count": 0
                      },
                      {
                        "bin_start": 16.799999999999997,
                        "bin_end": 21.4,
                        "count": 1
                      },
                      {
                        "bin_start": 21.4,
                        "bin_end": 26,
                        "count": 0
                      },
                      {
                        "bin_start": 26,
                        "bin_end": 30.599999999999998,
                        "count": 2
                      },
                      {
                        "bin_start": 30.599999999999998,
                        "bin_end": 35.199999999999996,
                        "count": 0
                      },
                      {
                        "bin_start": 35.199999999999996,
                        "bin_end": 39.8,
                        "count": 0
                      },
                      {
                        "bin_start": 39.8,
                        "bin_end": 44.4,
                        "count": 0
                      },
                      {
                        "bin_start": 44.4,
                        "bin_end": 49,
                        "count": 2
                      }
                    ]
                  }
                },
                {
                  "name": "_deepnote_index_column",
                  "dtype": "int64"
                }
              ],
              "rows_top": [
                {
                  "Region": "East Asia & Pacific",
                  "Year": 27,
                  "SP.POP.TOTL": 27,
                  "SP.DYN.LE00.IN": 27,
                  "NY.GDP.PCAP.PP.CD": 27,
                  "Country Code": 27,
                  "Country Name": 27,
                  "Income Group": 27,
                  "Lending Type": 27,
                  "_deepnote_index_column": 0
                },
                {
                  "Region": "Europe & Central Asia",
                  "Year": 49,
                  "SP.POP.TOTL": 49,
                  "SP.DYN.LE00.IN": 49,
                  "NY.GDP.PCAP.PP.CD": 49,
                  "Country Code": 49,
                  "Country Name": 49,
                  "Income Group": 49,
                  "Lending Type": 49,
                  "_deepnote_index_column": 1
                },
                {
                  "Region": "Latin America & Caribbean ",
                  "Year": 30,
                  "SP.POP.TOTL": 30,
                  "SP.DYN.LE00.IN": 30,
                  "NY.GDP.PCAP.PP.CD": 30,
                  "Country Code": 30,
                  "Country Name": 30,
                  "Income Group": 30,
                  "Lending Type": 30,
                  "_deepnote_index_column": 2
                },
                {
                  "Region": "Middle East & North Africa",
                  "Year": 19,
                  "SP.POP.TOTL": 19,
                  "SP.DYN.LE00.IN": 19,
                  "NY.GDP.PCAP.PP.CD": 19,
                  "Country Code": 19,
                  "Country Name": 19,
                  "Income Group": 19,
                  "Lending Type": 19,
                  "_deepnote_index_column": 3
                },
                {
                  "Region": "North America",
                  "Year": 3,
                  "SP.POP.TOTL": 3,
                  "SP.DYN.LE00.IN": 3,
                  "NY.GDP.PCAP.PP.CD": 3,
                  "Country Code": 3,
                  "Country Name": 3,
                  "Income Group": 3,
                  "Lending Type": 3,
                  "_deepnote_index_column": 4
                },
                {
                  "Region": "South Asia",
                  "Year": 8,
                  "SP.POP.TOTL": 8,
                  "SP.DYN.LE00.IN": 8,
                  "NY.GDP.PCAP.PP.CD": 8,
                  "Country Code": 8,
                  "Country Name": 8,
                  "Income Group": 8,
                  "Lending Type": 8,
                  "_deepnote_index_column": 5
                },
                {
                  "Region": "Sub-Saharan Africa ",
                  "Year": 45,
                  "SP.POP.TOTL": 45,
                  "SP.DYN.LE00.IN": 45,
                  "NY.GDP.PCAP.PP.CD": 45,
                  "Country Code": 45,
                  "Country Name": 45,
                  "Income Group": 45,
                  "Lending Type": 45,
                  "_deepnote_index_column": 6
                }
              ],
              "rows_bottom": null
            },
            "text/plain": "                       Region  Year  SP.POP.TOTL  SP.DYN.LE00.IN  \\\n0         East Asia & Pacific    27           27              27   \n1       Europe & Central Asia    49           49              49   \n2  Latin America & Caribbean     30           30              30   \n3  Middle East & North Africa    19           19              19   \n4               North America     3            3               3   \n5                  South Asia     8            8               8   \n6         Sub-Saharan Africa     45           45              45   \n\n   NY.GDP.PCAP.PP.CD  Country Code  Country Name  Income Group  Lending Type  \n0                 27            27            27            27            27  \n1                 49            49            49            49            49  \n2                 30            30            30            30            30  \n3                 19            19            19            19            19  \n4                  3             3             3             3             3  \n5                  8             8             8             8             8  \n6                 45            45            45            45            45  ",
            "text/html": "<div>\n<style scoped>\n    .dataframe tbody tr th:only-of-type {\n        vertical-align: middle;\n    }\n\n    .dataframe tbody tr th {\n        vertical-align: top;\n    }\n\n    .dataframe thead th {\n        text-align: right;\n    }\n</style>\n<table border=\"1\" class=\"dataframe\">\n  <thead>\n    <tr style=\"text-align: right;\">\n      <th></th>\n      <th>Region</th>\n      <th>Year</th>\n      <th>SP.POP.TOTL</th>\n      <th>SP.DYN.LE00.IN</th>\n      <th>NY.GDP.PCAP.PP.CD</th>\n      <th>Country Code</th>\n      <th>Country Name</th>\n      <th>Income Group</th>\n      <th>Lending Type</th>\n    </tr>\n  </thead>\n  <tbody>\n    <tr>\n      <th>0</th>\n      <td>East Asia &amp; Pacific</td>\n      <td>27</td>\n      <td>27</td>\n      <td>27</td>\n      <td>27</td>\n      <td>27</td>\n      <td>27</td>\n      <td>27</td>\n      <td>27</td>\n    </tr>\n    <tr>\n      <th>1</th>\n      <td>Europe &amp; Central Asia</td>\n      <td>49</td>\n      <td>49</td>\n      <td>49</td>\n      <td>49</td>\n      <td>49</td>\n      <td>49</td>\n      <td>49</td>\n      <td>49</td>\n    </tr>\n    <tr>\n      <th>2</th>\n      <td>Latin America &amp; Caribbean</td>\n      <td>30</td>\n      <td>30</td>\n      <td>30</td>\n      <td>30</td>\n      <td>30</td>\n      <td>30</td>\n      <td>30</td>\n      <td>30</td>\n    </tr>\n    <tr>\n      <th>3</th>\n      <td>Middle East &amp; North Africa</td>\n      <td>19</td>\n      <td>19</td>\n      <td>19</td>\n      <td>19</td>\n      <td>19</td>\n      <td>19</td>\n      <td>19</td>\n      <td>19</td>\n    </tr>\n    <tr>\n      <th>4</th>\n      <td>North America</td>\n      <td>3</td>\n      <td>3</td>\n      <td>3</td>\n      <td>3</td>\n      <td>3</td>\n      <td>3</td>\n      <td>3</td>\n      <td>3</td>\n    </tr>\n    <tr>\n      <th>5</th>\n      <td>South Asia</td>\n      <td>8</td>\n      <td>8</td>\n      <td>8</td>\n      <td>8</td>\n      <td>8</td>\n      <td>8</td>\n      <td>8</td>\n      <td>8</td>\n    </tr>\n    <tr>\n      <th>6</th>\n      <td>Sub-Saharan Africa</td>\n      <td>45</td>\n      <td>45</td>\n      <td>45</td>\n      <td>45</td>\n      <td>45</td>\n      <td>45</td>\n      <td>45</td>\n      <td>45</td>\n    </tr>\n  </tbody>\n</table>\n</div>"
          },
          "metadata": {}
        }
      ]
    },
    {
      "cell_type": "code",
      "metadata": {
        "colab": {
          "base_uri": "https://localhost:8080/",
          "height": 542
        },
        "id": "7KxidgmT-vmi",
        "outputId": "f8c32638-3b2a-4d30-81ec-fb054b69cfea",
        "cell_id": "00015-ba30c00d-9a49-49f4-bb50-e69b50b8c961",
        "deepnote_to_be_reexecuted": false,
        "source_hash": "2291e44a",
        "execution_start": 1617324195788,
        "execution_millis": 136,
        "deepnote_cell_type": "code"
      },
      "source": "fig = px.bar(data_frame=df_region, \n             x=\"Region\", y=\"Year\",  \n             color=\"Region\",\n             )\nfig.show()",
      "execution_count": 16,
      "outputs": [
        {
          "data": {
            "text/html": "<html>\n<head><meta charset=\"utf-8\" /></head>\n<body>\n    <div>            <script src=\"https://cdnjs.cloudflare.com/ajax/libs/mathjax/2.7.5/MathJax.js?config=TeX-AMS-MML_SVG\"></script><script type=\"text/javascript\">if (window.MathJax) {MathJax.Hub.Config({SVG: {font: \"STIX-Web\"}});}</script>                <script type=\"text/javascript\">window.PlotlyConfig = {MathJaxConfig: 'local'};</script>\n        <script src=\"https://cdn.plot.ly/plotly-latest.min.js\"></script>                <div id=\"b3413340-eceb-4d08-9b67-f4b7fa07e327\" class=\"plotly-graph-div\" style=\"height:525px; width:100%;\"></div>            <script type=\"text/javascript\">                                    window.PLOTLYENV=window.PLOTLYENV || {};                                    if (document.getElementById(\"b3413340-eceb-4d08-9b67-f4b7fa07e327\")) {                    Plotly.newPlot(                        \"b3413340-eceb-4d08-9b67-f4b7fa07e327\",                        [{\"alignmentgroup\": \"True\", \"hovertemplate\": \"Region=%{x}<br>Year=%{y}<extra></extra>\", \"legendgroup\": \"East Asia & Pacific\", \"marker\": {\"color\": \"#636efa\"}, \"name\": \"East Asia & Pacific\", \"offsetgroup\": \"East Asia & Pacific\", \"orientation\": \"v\", \"showlegend\": true, \"textposition\": \"auto\", \"type\": \"bar\", \"x\": [\"East Asia & Pacific\"], \"xaxis\": \"x\", \"y\": [27], \"yaxis\": \"y\"}, {\"alignmentgroup\": \"True\", \"hovertemplate\": \"Region=%{x}<br>Year=%{y}<extra></extra>\", \"legendgroup\": \"Europe & Central Asia\", \"marker\": {\"color\": \"#EF553B\"}, \"name\": \"Europe & Central Asia\", \"offsetgroup\": \"Europe & Central Asia\", \"orientation\": \"v\", \"showlegend\": true, \"textposition\": \"auto\", \"type\": \"bar\", \"x\": [\"Europe & Central Asia\"], \"xaxis\": \"x\", \"y\": [49], \"yaxis\": \"y\"}, {\"alignmentgroup\": \"True\", \"hovertemplate\": \"Region=%{x}<br>Year=%{y}<extra></extra>\", \"legendgroup\": \"Latin America & Caribbean \", \"marker\": {\"color\": \"#00cc96\"}, \"name\": \"Latin America & Caribbean \", \"offsetgroup\": \"Latin America & Caribbean \", \"orientation\": \"v\", \"showlegend\": true, \"textposition\": \"auto\", \"type\": \"bar\", \"x\": [\"Latin America & Caribbean \"], \"xaxis\": \"x\", \"y\": [30], \"yaxis\": \"y\"}, {\"alignmentgroup\": \"True\", \"hovertemplate\": \"Region=%{x}<br>Year=%{y}<extra></extra>\", \"legendgroup\": \"Middle East & North Africa\", \"marker\": {\"color\": \"#ab63fa\"}, \"name\": \"Middle East & North Africa\", \"offsetgroup\": \"Middle East & North Africa\", \"orientation\": \"v\", \"showlegend\": true, \"textposition\": \"auto\", \"type\": \"bar\", \"x\": [\"Middle East & North Africa\"], \"xaxis\": \"x\", \"y\": [19], \"yaxis\": \"y\"}, {\"alignmentgroup\": \"True\", \"hovertemplate\": \"Region=%{x}<br>Year=%{y}<extra></extra>\", \"legendgroup\": \"North America\", \"marker\": {\"color\": \"#FFA15A\"}, \"name\": \"North America\", \"offsetgroup\": \"North America\", \"orientation\": \"v\", \"showlegend\": true, \"textposition\": \"auto\", \"type\": \"bar\", \"x\": [\"North America\"], \"xaxis\": \"x\", \"y\": [3], \"yaxis\": \"y\"}, {\"alignmentgroup\": \"True\", \"hovertemplate\": \"Region=%{x}<br>Year=%{y}<extra></extra>\", \"legendgroup\": \"South Asia\", \"marker\": {\"color\": \"#19d3f3\"}, \"name\": \"South Asia\", \"offsetgroup\": \"South Asia\", \"orientation\": \"v\", \"showlegend\": true, \"textposition\": \"auto\", \"type\": \"bar\", \"x\": [\"South Asia\"], \"xaxis\": \"x\", \"y\": [8], \"yaxis\": \"y\"}, {\"alignmentgroup\": \"True\", \"hovertemplate\": \"Region=%{x}<br>Year=%{y}<extra></extra>\", \"legendgroup\": \"Sub-Saharan Africa \", \"marker\": {\"color\": \"#FF6692\"}, \"name\": \"Sub-Saharan Africa \", \"offsetgroup\": \"Sub-Saharan Africa \", \"orientation\": \"v\", \"showlegend\": true, \"textposition\": \"auto\", \"type\": \"bar\", \"x\": [\"Sub-Saharan Africa \"], \"xaxis\": \"x\", \"y\": [45], \"yaxis\": \"y\"}],                        {\"barmode\": \"relative\", \"legend\": {\"title\": {\"text\": \"Region\"}, \"tracegroupgap\": 0}, \"margin\": {\"t\": 60}, \"template\": {\"data\": {\"bar\": [{\"error_x\": {\"color\": \"#2a3f5f\"}, \"error_y\": {\"color\": \"#2a3f5f\"}, \"marker\": {\"line\": {\"color\": \"#E5ECF6\", \"width\": 0.5}}, \"type\": \"bar\"}], \"barpolar\": [{\"marker\": {\"line\": {\"color\": \"#E5ECF6\", \"width\": 0.5}}, \"type\": \"barpolar\"}], \"carpet\": [{\"aaxis\": {\"endlinecolor\": \"#2a3f5f\", \"gridcolor\": \"white\", \"linecolor\": \"white\", \"minorgridcolor\": \"white\", \"startlinecolor\": \"#2a3f5f\"}, \"baxis\": {\"endlinecolor\": \"#2a3f5f\", \"gridcolor\": \"white\", \"linecolor\": \"white\", \"minorgridcolor\": \"white\", \"startlinecolor\": \"#2a3f5f\"}, \"type\": \"carpet\"}], \"choropleth\": [{\"colorbar\": {\"outlinewidth\": 0, \"ticks\": \"\"}, \"type\": \"choropleth\"}], \"contour\": [{\"colorbar\": {\"outlinewidth\": 0, \"ticks\": \"\"}, \"colorscale\": [[0.0, \"#0d0887\"], [0.1111111111111111, \"#46039f\"], [0.2222222222222222, \"#7201a8\"], [0.3333333333333333, \"#9c179e\"], [0.4444444444444444, \"#bd3786\"], [0.5555555555555556, \"#d8576b\"], [0.6666666666666666, \"#ed7953\"], [0.7777777777777778, \"#fb9f3a\"], [0.8888888888888888, \"#fdca26\"], [1.0, \"#f0f921\"]], \"type\": \"contour\"}], \"contourcarpet\": [{\"colorbar\": {\"outlinewidth\": 0, \"ticks\": \"\"}, \"type\": \"contourcarpet\"}], \"heatmap\": [{\"colorbar\": {\"outlinewidth\": 0, \"ticks\": \"\"}, \"colorscale\": [[0.0, \"#0d0887\"], [0.1111111111111111, \"#46039f\"], [0.2222222222222222, \"#7201a8\"], [0.3333333333333333, \"#9c179e\"], [0.4444444444444444, \"#bd3786\"], [0.5555555555555556, \"#d8576b\"], [0.6666666666666666, \"#ed7953\"], [0.7777777777777778, \"#fb9f3a\"], [0.8888888888888888, \"#fdca26\"], [1.0, \"#f0f921\"]], \"type\": \"heatmap\"}], \"heatmapgl\": [{\"colorbar\": {\"outlinewidth\": 0, \"ticks\": \"\"}, \"colorscale\": [[0.0, \"#0d0887\"], [0.1111111111111111, \"#46039f\"], [0.2222222222222222, \"#7201a8\"], [0.3333333333333333, \"#9c179e\"], [0.4444444444444444, \"#bd3786\"], [0.5555555555555556, \"#d8576b\"], [0.6666666666666666, \"#ed7953\"], [0.7777777777777778, \"#fb9f3a\"], [0.8888888888888888, \"#fdca26\"], [1.0, \"#f0f921\"]], \"type\": \"heatmapgl\"}], \"histogram\": [{\"marker\": {\"colorbar\": {\"outlinewidth\": 0, \"ticks\": \"\"}}, \"type\": \"histogram\"}], \"histogram2d\": [{\"colorbar\": {\"outlinewidth\": 0, \"ticks\": \"\"}, \"colorscale\": [[0.0, \"#0d0887\"], [0.1111111111111111, \"#46039f\"], [0.2222222222222222, \"#7201a8\"], [0.3333333333333333, \"#9c179e\"], [0.4444444444444444, \"#bd3786\"], [0.5555555555555556, \"#d8576b\"], [0.6666666666666666, \"#ed7953\"], [0.7777777777777778, \"#fb9f3a\"], [0.8888888888888888, \"#fdca26\"], [1.0, \"#f0f921\"]], \"type\": \"histogram2d\"}], \"histogram2dcontour\": [{\"colorbar\": {\"outlinewidth\": 0, \"ticks\": \"\"}, \"colorscale\": [[0.0, \"#0d0887\"], [0.1111111111111111, \"#46039f\"], [0.2222222222222222, \"#7201a8\"], [0.3333333333333333, \"#9c179e\"], [0.4444444444444444, \"#bd3786\"], [0.5555555555555556, \"#d8576b\"], [0.6666666666666666, \"#ed7953\"], [0.7777777777777778, \"#fb9f3a\"], [0.8888888888888888, \"#fdca26\"], [1.0, \"#f0f921\"]], \"type\": \"histogram2dcontour\"}], \"mesh3d\": [{\"colorbar\": {\"outlinewidth\": 0, \"ticks\": \"\"}, \"type\": \"mesh3d\"}], \"parcoords\": [{\"line\": {\"colorbar\": {\"outlinewidth\": 0, \"ticks\": \"\"}}, \"type\": \"parcoords\"}], \"pie\": [{\"automargin\": true, \"type\": \"pie\"}], \"scatter\": [{\"marker\": {\"colorbar\": {\"outlinewidth\": 0, \"ticks\": \"\"}}, \"type\": \"scatter\"}], \"scatter3d\": [{\"line\": {\"colorbar\": {\"outlinewidth\": 0, \"ticks\": \"\"}}, \"marker\": {\"colorbar\": {\"outlinewidth\": 0, \"ticks\": \"\"}}, \"type\": \"scatter3d\"}], \"scattercarpet\": [{\"marker\": {\"colorbar\": {\"outlinewidth\": 0, \"ticks\": \"\"}}, \"type\": \"scattercarpet\"}], \"scattergeo\": [{\"marker\": {\"colorbar\": {\"outlinewidth\": 0, \"ticks\": \"\"}}, \"type\": \"scattergeo\"}], \"scattergl\": [{\"marker\": {\"colorbar\": {\"outlinewidth\": 0, \"ticks\": \"\"}}, \"type\": \"scattergl\"}], \"scattermapbox\": [{\"marker\": {\"colorbar\": {\"outlinewidth\": 0, \"ticks\": \"\"}}, \"type\": \"scattermapbox\"}], \"scatterpolar\": [{\"marker\": {\"colorbar\": {\"outlinewidth\": 0, \"ticks\": \"\"}}, \"type\": \"scatterpolar\"}], \"scatterpolargl\": [{\"marker\": {\"colorbar\": {\"outlinewidth\": 0, \"ticks\": \"\"}}, \"type\": \"scatterpolargl\"}], \"scatterternary\": [{\"marker\": {\"colorbar\": {\"outlinewidth\": 0, \"ticks\": \"\"}}, \"type\": \"scatterternary\"}], \"surface\": [{\"colorbar\": {\"outlinewidth\": 0, \"ticks\": \"\"}, \"colorscale\": [[0.0, \"#0d0887\"], [0.1111111111111111, \"#46039f\"], [0.2222222222222222, \"#7201a8\"], [0.3333333333333333, \"#9c179e\"], [0.4444444444444444, \"#bd3786\"], [0.5555555555555556, \"#d8576b\"], [0.6666666666666666, \"#ed7953\"], [0.7777777777777778, \"#fb9f3a\"], [0.8888888888888888, \"#fdca26\"], [1.0, \"#f0f921\"]], \"type\": \"surface\"}], \"table\": [{\"cells\": {\"fill\": {\"color\": \"#EBF0F8\"}, \"line\": {\"color\": \"white\"}}, \"header\": {\"fill\": {\"color\": \"#C8D4E3\"}, \"line\": {\"color\": \"white\"}}, \"type\": \"table\"}]}, \"layout\": {\"annotationdefaults\": {\"arrowcolor\": \"#2a3f5f\", \"arrowhead\": 0, \"arrowwidth\": 1}, \"autotypenumbers\": \"strict\", \"coloraxis\": {\"colorbar\": {\"outlinewidth\": 0, \"ticks\": \"\"}}, \"colorscale\": {\"diverging\": [[0, \"#8e0152\"], [0.1, \"#c51b7d\"], [0.2, \"#de77ae\"], [0.3, \"#f1b6da\"], [0.4, \"#fde0ef\"], [0.5, \"#f7f7f7\"], [0.6, \"#e6f5d0\"], [0.7, \"#b8e186\"], [0.8, \"#7fbc41\"], [0.9, \"#4d9221\"], [1, \"#276419\"]], \"sequential\": [[0.0, \"#0d0887\"], [0.1111111111111111, \"#46039f\"], [0.2222222222222222, \"#7201a8\"], [0.3333333333333333, \"#9c179e\"], [0.4444444444444444, \"#bd3786\"], [0.5555555555555556, \"#d8576b\"], [0.6666666666666666, \"#ed7953\"], [0.7777777777777778, \"#fb9f3a\"], [0.8888888888888888, \"#fdca26\"], [1.0, \"#f0f921\"]], \"sequentialminus\": [[0.0, \"#0d0887\"], [0.1111111111111111, \"#46039f\"], [0.2222222222222222, \"#7201a8\"], [0.3333333333333333, \"#9c179e\"], [0.4444444444444444, \"#bd3786\"], [0.5555555555555556, \"#d8576b\"], [0.6666666666666666, \"#ed7953\"], [0.7777777777777778, \"#fb9f3a\"], [0.8888888888888888, \"#fdca26\"], [1.0, \"#f0f921\"]]}, \"colorway\": [\"#636efa\", \"#EF553B\", \"#00cc96\", \"#ab63fa\", \"#FFA15A\", \"#19d3f3\", \"#FF6692\", \"#B6E880\", \"#FF97FF\", \"#FECB52\"], \"font\": {\"color\": \"#2a3f5f\"}, \"geo\": {\"bgcolor\": \"white\", \"lakecolor\": \"white\", \"landcolor\": \"#E5ECF6\", \"showlakes\": true, \"showland\": true, \"subunitcolor\": \"white\"}, \"hoverlabel\": {\"align\": \"left\"}, \"hovermode\": \"closest\", \"mapbox\": {\"style\": \"light\"}, \"paper_bgcolor\": \"white\", \"plot_bgcolor\": \"#E5ECF6\", \"polar\": {\"angularaxis\": {\"gridcolor\": \"white\", \"linecolor\": \"white\", \"ticks\": \"\"}, \"bgcolor\": \"#E5ECF6\", \"radialaxis\": {\"gridcolor\": \"white\", \"linecolor\": \"white\", \"ticks\": \"\"}}, \"scene\": {\"xaxis\": {\"backgroundcolor\": \"#E5ECF6\", \"gridcolor\": \"white\", \"gridwidth\": 2, \"linecolor\": \"white\", \"showbackground\": true, \"ticks\": \"\", \"zerolinecolor\": \"white\"}, \"yaxis\": {\"backgroundcolor\": \"#E5ECF6\", \"gridcolor\": \"white\", \"gridwidth\": 2, \"linecolor\": \"white\", \"showbackground\": true, \"ticks\": \"\", \"zerolinecolor\": \"white\"}, \"zaxis\": {\"backgroundcolor\": \"#E5ECF6\", \"gridcolor\": \"white\", \"gridwidth\": 2, \"linecolor\": \"white\", \"showbackground\": true, \"ticks\": \"\", \"zerolinecolor\": \"white\"}}, \"shapedefaults\": {\"line\": {\"color\": \"#2a3f5f\"}}, \"ternary\": {\"aaxis\": {\"gridcolor\": \"white\", \"linecolor\": \"white\", \"ticks\": \"\"}, \"baxis\": {\"gridcolor\": \"white\", \"linecolor\": \"white\", \"ticks\": \"\"}, \"bgcolor\": \"#E5ECF6\", \"caxis\": {\"gridcolor\": \"white\", \"linecolor\": \"white\", \"ticks\": \"\"}}, \"title\": {\"x\": 0.05}, \"xaxis\": {\"automargin\": true, \"gridcolor\": \"white\", \"linecolor\": \"white\", \"ticks\": \"\", \"title\": {\"standoff\": 15}, \"zerolinecolor\": \"white\", \"zerolinewidth\": 2}, \"yaxis\": {\"automargin\": true, \"gridcolor\": \"white\", \"linecolor\": \"white\", \"ticks\": \"\", \"title\": {\"standoff\": 15}, \"zerolinecolor\": \"white\", \"zerolinewidth\": 2}}}, \"xaxis\": {\"anchor\": \"y\", \"categoryarray\": [\"East Asia & Pacific\", \"Europe & Central Asia\", \"Latin America & Caribbean \", \"Middle East & North Africa\", \"North America\", \"South Asia\", \"Sub-Saharan Africa \"], \"categoryorder\": \"array\", \"domain\": [0.0, 1.0], \"title\": {\"text\": \"Region\"}}, \"yaxis\": {\"anchor\": \"x\", \"domain\": [0.0, 1.0], \"title\": {\"text\": \"Year\"}}},                        {\"responsive\": true}                    ).then(function(){\n                            \nvar gd = document.getElementById('b3413340-eceb-4d08-9b67-f4b7fa07e327');\nvar x = new MutationObserver(function (mutations, observer) {{\n        var display = window.getComputedStyle(gd).display;\n        if (!display || display === 'none') {{\n            console.log([gd, 'removed!']);\n            Plotly.purge(gd);\n            observer.disconnect();\n        }}\n}});\n\n// Listen for the removal of the full notebook cells\nvar notebookContainer = gd.closest('#notebook-container');\nif (notebookContainer) {{\n    x.observe(notebookContainer, {childList: true});\n}}\n\n// Listen for the clearing of the current output cell\nvar outputEl = gd.closest('.output');\nif (outputEl) {{\n    x.observe(outputEl, {childList: true});\n}}\n\n                        })                };                            </script>        </div>\n</body>\n</html>"
          },
          "metadata": {},
          "output_type": "display_data"
        }
      ]
    },
    {
      "cell_type": "markdown",
      "source": "### 3.2 - Bivariate\n- One categorial variable\n- One numerical variable",
      "metadata": {
        "id": "lY6kJM-B_T1H",
        "cell_id": "00016-28304783-881e-4370-8988-7733bcae6020",
        "deepnote_cell_type": "markdown"
      }
    },
    {
      "cell_type": "markdown",
      "source": "",
      "metadata": {
        "id": "W4KJky7l8Z2L",
        "cell_id": "00017-dadf8dc8-ef78-4266-9fa0-56f120328b1f",
        "deepnote_cell_type": "markdown"
      }
    },
    {
      "cell_type": "code",
      "metadata": {
        "colab": {
          "base_uri": "https://localhost:8080/",
          "height": 817
        },
        "id": "rIIvZLVN5a6z",
        "outputId": "85b0d655-904b-4a5a-d575-1b3502d29617",
        "cell_id": "00018-134f4f28-4830-43aa-bc14-d0f9740465fc",
        "deepnote_to_be_reexecuted": false,
        "source_hash": "2ee34f70",
        "execution_start": 1617324199712,
        "execution_millis": 128,
        "deepnote_cell_type": "code"
      },
      "source": "# This Bar Chart shows how populated each region is.\n\nfig = px.bar(data_frame=df_2018, \n             x=\"Region\", y=\"SP.POP.TOTL\", \n             hover_name=\"Country Name\", \n             color=\"Region\",\n             height=800\n             )\nfig.show()",
      "execution_count": 17,
      "outputs": [
        {
          "data": {
            "text/html": "<html>\n<head><meta charset=\"utf-8\" /></head>\n<body>\n    <div>            <script src=\"https://cdnjs.cloudflare.com/ajax/libs/mathjax/2.7.5/MathJax.js?config=TeX-AMS-MML_SVG\"></script><script type=\"text/javascript\">if (window.MathJax) {MathJax.Hub.Config({SVG: {font: \"STIX-Web\"}});}</script>                <script type=\"text/javascript\">window.PlotlyConfig = {MathJaxConfig: 'local'};</script>\n        <script src=\"https://cdn.plot.ly/plotly-latest.min.js\"></script>                <div id=\"28e5b4f0-60e7-4fa2-b3cb-f816d192d003\" class=\"plotly-graph-div\" style=\"height:800px; width:100%;\"></div>            <script type=\"text/javascript\">                                    window.PLOTLYENV=window.PLOTLYENV || {};                                    if (document.getElementById(\"28e5b4f0-60e7-4fa2-b3cb-f816d192d003\")) {                    Plotly.newPlot(                        \"28e5b4f0-60e7-4fa2-b3cb-f816d192d003\",                        [{\"alignmentgroup\": \"True\", \"hovertemplate\": \"<b>%{hovertext}</b><br><br>Region=%{x}<br>SP.POP.TOTL=%{y}<extra></extra>\", \"hovertext\": [\"Afghanistan\", \"Bangladesh\", \"Bhutan\", \"India\", \"Maldives\", \"Nepal\", \"Pakistan\", \"Sri Lanka\"], \"legendgroup\": \"South Asia\", \"marker\": {\"color\": \"#636efa\"}, \"name\": \"South Asia\", \"offsetgroup\": \"South Asia\", \"orientation\": \"v\", \"showlegend\": true, \"textposition\": \"auto\", \"type\": \"bar\", \"x\": [\"South Asia\", \"South Asia\", \"South Asia\", \"South Asia\", \"South Asia\", \"South Asia\", \"South Asia\", \"South Asia\"], \"xaxis\": \"x\", \"y\": [37172386.0, 161356039.0, 754394.0, 1352617328.0, 515696.0, 28087871.0, 212215030.0, 21670000.0], \"yaxis\": \"y\"}, {\"alignmentgroup\": \"True\", \"hovertemplate\": \"<b>%{hovertext}</b><br><br>Region=%{x}<br>SP.POP.TOTL=%{y}<extra></extra>\", \"hovertext\": [\"Albania\", \"Armenia\", \"Austria\", \"Azerbaijan\", \"Belarus\", \"Belgium\", \"Bosnia and Herzegovina\", \"Bulgaria\", \"Croatia\", \"Cyprus\", \"Czech Republic\", \"Denmark\", \"Estonia\", \"Finland\", \"France\", \"Georgia\", \"Germany\", \"Greece\", \"Hungary\", \"Iceland\", \"Ireland\", \"Italy\", \"Kazakhstan\", \"Kosovo\", \"Kyrgyz Republic\", \"Latvia\", \"Lithuania\", \"Luxembourg\", \"Moldova\", \"Montenegro\", \"Netherlands\", \"North Macedonia\", \"Norway\", \"Poland\", \"Portugal\", \"Romania\", \"Russian Federation\", \"Serbia\", \"Slovak Republic\", \"Slovenia\", \"Spain\", \"Sweden\", \"Switzerland\", \"Tajikistan\", \"Turkey\", \"Turkmenistan\", \"Ukraine\", \"United Kingdom\", \"Uzbekistan\"], \"legendgroup\": \"Europe & Central Asia\", \"marker\": {\"color\": \"#EF553B\"}, \"name\": \"Europe & Central Asia\", \"offsetgroup\": \"Europe & Central Asia\", \"orientation\": \"v\", \"showlegend\": true, \"textposition\": \"auto\", \"type\": \"bar\", \"x\": [\"Europe & Central Asia\", \"Europe & Central Asia\", \"Europe & Central Asia\", \"Europe & Central Asia\", \"Europe & Central Asia\", \"Europe & Central Asia\", \"Europe & Central Asia\", \"Europe & Central Asia\", \"Europe & Central Asia\", \"Europe & Central Asia\", \"Europe & Central Asia\", \"Europe & Central Asia\", \"Europe & Central Asia\", \"Europe & Central Asia\", \"Europe & Central Asia\", \"Europe & Central Asia\", \"Europe & Central Asia\", \"Europe & Central Asia\", \"Europe & Central Asia\", \"Europe & Central Asia\", \"Europe & Central Asia\", \"Europe & Central Asia\", \"Europe & Central Asia\", \"Europe & Central Asia\", \"Europe & Central Asia\", \"Europe & Central Asia\", \"Europe & Central Asia\", \"Europe & Central Asia\", \"Europe & Central Asia\", \"Europe & Central Asia\", \"Europe & Central Asia\", \"Europe & Central Asia\", \"Europe & Central Asia\", \"Europe & Central Asia\", \"Europe & Central Asia\", \"Europe & Central Asia\", \"Europe & Central Asia\", \"Europe & Central Asia\", \"Europe & Central Asia\", \"Europe & Central Asia\", \"Europe & Central Asia\", \"Europe & Central Asia\", \"Europe & Central Asia\", \"Europe & Central Asia\", \"Europe & Central Asia\", \"Europe & Central Asia\", \"Europe & Central Asia\", \"Europe & Central Asia\", \"Europe & Central Asia\"], \"xaxis\": \"x\", \"y\": [2866376.0, 2951776.0, 8840521.0, 9939771.0, 9483499.0, 11427054.0, 3323929.0, 7025037.0, 4087843.0, 1189265.0, 10629928.0, 5793636.0, 1321977.0, 5515525.0, 66965912.0, 3726549.0, 82905782.0, 10732882.0, 9775564.0, 352721.0, 4867316.0, 60421760.0, 18276498.5, 1797085.0, 6322800.0, 1927174.0, 2801543.0, 607950.0, 2706049.0, 622227.0, 17231624.0, 2082958.0, 5311916.0, 37974750.0, 10283822.0, 19472545.0, 144477860.0, 6982604.0, 5446771.0, 2073894.0, 46797754.0, 10175214.0, 8514329.0, 9100837.0, 82319724.0, 5850908.0, 44622518.0, 66460344.0, 32956100.0], \"yaxis\": \"y\"}, {\"alignmentgroup\": \"True\", \"hovertemplate\": \"<b>%{hovertext}</b><br><br>Region=%{x}<br>SP.POP.TOTL=%{y}<extra></extra>\", \"hovertext\": [\"Algeria\", \"Bahrain\", \"Djibouti\", \"Egypt, Arab Rep.\", \"Iran, Islamic Rep.\", \"Iraq\", \"Israel\", \"Jordan\", \"Kuwait\", \"Lebanon\", \"Libya\", \"Malta\", \"Morocco\", \"Oman\", \"Qatar\", \"Saudi Arabia\", \"Tunisia\", \"United Arab Emirates\", \"West Bank and Gaza\"], \"legendgroup\": \"Middle East & North Africa\", \"marker\": {\"color\": \"#00cc96\"}, \"name\": \"Middle East & North Africa\", \"offsetgroup\": \"Middle East & North Africa\", \"orientation\": \"v\", \"showlegend\": true, \"textposition\": \"auto\", \"type\": \"bar\", \"x\": [\"Middle East & North Africa\", \"Middle East & North Africa\", \"Middle East & North Africa\", \"Middle East & North Africa\", \"Middle East & North Africa\", \"Middle East & North Africa\", \"Middle East & North Africa\", \"Middle East & North Africa\", \"Middle East & North Africa\", \"Middle East & North Africa\", \"Middle East & North Africa\", \"Middle East & North Africa\", \"Middle East & North Africa\", \"Middle East & North Africa\", \"Middle East & North Africa\", \"Middle East & North Africa\", \"Middle East & North Africa\", \"Middle East & North Africa\", \"Middle East & North Africa\"], \"xaxis\": \"x\", \"y\": [42228429.0, 1569439.0, 958920.0, 98423595.0, 81800269.0, 38433600.0, 8882800.0, 9956011.0, 4137312.0, 6848925.0, 6678567.0, 484630.0, 36029138.0, 4829483.0, 2781677.0, 33699947.0, 11565204.0, 9630959.0, 4569087.0], \"yaxis\": \"y\"}, {\"alignmentgroup\": \"True\", \"hovertemplate\": \"<b>%{hovertext}</b><br><br>Region=%{x}<br>SP.POP.TOTL=%{y}<extra></extra>\", \"hovertext\": [\"Angola\", \"Benin\", \"Botswana\", \"Burkina Faso\", \"Burundi\", \"Cabo Verde\", \"Cameroon\", \"Central African Republic\", \"Chad\", \"Comoros\", \"Congo, Dem. Rep.\", \"Congo, Rep.\", \"Cote d'Ivoire\", \"Equatorial Guinea\", \"Eswatini\", \"Ethiopia\", \"Gabon\", \"Gambia, The\", \"Ghana\", \"Guinea\", \"Guinea-Bissau\", \"Kenya\", \"Lesotho\", \"Liberia\", \"Madagascar\", \"Malawi\", \"Mali\", \"Mauritania\", \"Mauritius\", \"Mozambique\", \"Namibia\", \"Niger\", \"Nigeria\", \"Rwanda\", \"Sao Tome and Principe\", \"Senegal\", \"Seychelles\", \"Sierra Leone\", \"South Africa\", \"Sudan\", \"Tanzania\", \"Togo\", \"Uganda\", \"Zambia\", \"Zimbabwe\"], \"legendgroup\": \"Sub-Saharan Africa \", \"marker\": {\"color\": \"#ab63fa\"}, \"name\": \"Sub-Saharan Africa \", \"offsetgroup\": \"Sub-Saharan Africa \", \"orientation\": \"v\", \"showlegend\": true, \"textposition\": \"auto\", \"type\": \"bar\", \"x\": [\"Sub-Saharan Africa \", \"Sub-Saharan Africa \", \"Sub-Saharan Africa \", \"Sub-Saharan Africa \", \"Sub-Saharan Africa \", \"Sub-Saharan Africa \", \"Sub-Saharan Africa \", \"Sub-Saharan Africa \", \"Sub-Saharan Africa \", \"Sub-Saharan Africa \", \"Sub-Saharan Africa \", \"Sub-Saharan Africa \", \"Sub-Saharan Africa \", \"Sub-Saharan Africa \", \"Sub-Saharan Africa \", \"Sub-Saharan Africa \", \"Sub-Saharan Africa \", \"Sub-Saharan Africa \", \"Sub-Saharan Africa \", \"Sub-Saharan Africa \", \"Sub-Saharan Africa \", \"Sub-Saharan Africa \", \"Sub-Saharan Africa \", \"Sub-Saharan Africa \", \"Sub-Saharan Africa \", \"Sub-Saharan Africa \", \"Sub-Saharan Africa \", \"Sub-Saharan Africa \", \"Sub-Saharan Africa \", \"Sub-Saharan Africa \", \"Sub-Saharan Africa \", \"Sub-Saharan Africa \", \"Sub-Saharan Africa \", \"Sub-Saharan Africa \", \"Sub-Saharan Africa \", \"Sub-Saharan Africa \", \"Sub-Saharan Africa \", \"Sub-Saharan Africa \", \"Sub-Saharan Africa \", \"Sub-Saharan Africa \", \"Sub-Saharan Africa \", \"Sub-Saharan Africa \", \"Sub-Saharan Africa \", \"Sub-Saharan Africa \", \"Sub-Saharan Africa \"], \"xaxis\": \"x\", \"y\": [30809762.0, 11485048.0, 2254126.0, 19751535.0, 11175378.0, 543767.0, 25216237.0, 4666377.0, 15477751.0, 832322.0, 84068091.0, 5244363.0, 25069229.0, 1308974.0, 1136191.0, 109224559.0, 2119275.0, 2280102.0, 29767108.0, 12414318.0, 1874309.0, 51393010.0, 2108132.0, 4818977.0, 26262368.0, 18143315.0, 19077690.0, 4403319.0, 1265303.0, 29495962.0, 2448255.0, 22442948.0, 195874740.0, 12301939.0, 211028.0, 15854360.0, 96762.0, 7650154.0, 57779622.0, 41801533.0, 56318348.0, 7889094.0, 42723139.0, 17351822.0, 14439018.0], \"yaxis\": \"y\"}, {\"alignmentgroup\": \"True\", \"hovertemplate\": \"<b>%{hovertext}</b><br><br>Region=%{x}<br>SP.POP.TOTL=%{y}<extra></extra>\", \"hovertext\": [\"Antigua and Barbuda\", \"Argentina\", \"Bahamas, The\", \"Barbados\", \"Belize\", \"Bolivia\", \"Brazil\", \"Chile\", \"Colombia\", \"Costa Rica\", \"Dominican Republic\", \"Ecuador\", \"El Salvador\", \"Grenada\", \"Guatemala\", \"Guyana\", \"Haiti\", \"Honduras\", \"Jamaica\", \"Mexico\", \"Nicaragua\", \"Panama\", \"Paraguay\", \"Peru\", \"Puerto Rico\", \"St. Lucia\", \"St. Vincent and the Grenadines\", \"Suriname\", \"Trinidad and Tobago\", \"Uruguay\"], \"legendgroup\": \"Latin America & Caribbean \", \"marker\": {\"color\": \"#FFA15A\"}, \"name\": \"Latin America & Caribbean \", \"offsetgroup\": \"Latin America & Caribbean \", \"orientation\": \"v\", \"showlegend\": true, \"textposition\": \"auto\", \"type\": \"bar\", \"x\": [\"Latin America & Caribbean \", \"Latin America & Caribbean \", \"Latin America & Caribbean \", \"Latin America & Caribbean \", \"Latin America & Caribbean \", \"Latin America & Caribbean \", \"Latin America & Caribbean \", \"Latin America & Caribbean \", \"Latin America & Caribbean \", \"Latin America & Caribbean \", \"Latin America & Caribbean \", \"Latin America & Caribbean \", \"Latin America & Caribbean \", \"Latin America & Caribbean \", \"Latin America & Caribbean \", \"Latin America & Caribbean \", \"Latin America & Caribbean \", \"Latin America & Caribbean \", \"Latin America & Caribbean \", \"Latin America & Caribbean \", \"Latin America & Caribbean \", \"Latin America & Caribbean \", \"Latin America & Caribbean \", \"Latin America & Caribbean \", \"Latin America & Caribbean \", \"Latin America & Caribbean \", \"Latin America & Caribbean \", \"Latin America & Caribbean \", \"Latin America & Caribbean \", \"Latin America & Caribbean \"], \"xaxis\": \"x\", \"y\": [96286.0, 44494502.0, 385640.0, 286641.0, 383071.0, 11353142.0, 209469333.0, 18729160.0, 49661056.0, 4999441.0, 10627165.0, 17084357.0, 6420744.0, 111454.0, 16346950.0, 779004.0, 11123176.0, 9587522.0, 2934855.0, 126190788.0, 6465513.0, 4176873.0, 6956071.0, 31989256.0, 3193354.0, 181889.0, 110210.0, 575987.0, 1389858.0, 3449299.0], \"yaxis\": \"y\"}, {\"alignmentgroup\": \"True\", \"hovertemplate\": \"<b>%{hovertext}</b><br><br>Region=%{x}<br>SP.POP.TOTL=%{y}<extra></extra>\", \"hovertext\": [\"Australia\", \"Brunei Darussalam\", \"Cambodia\", \"China\", \"Fiji\", \"Hong Kong SAR, China\", \"Indonesia\", \"Japan\", \"Kiribati\", \"Korea, Rep.\", \"Lao PDR\", \"Macao SAR, China\", \"Malaysia\", \"Micronesia, Fed. Sts.\", \"Mongolia\", \"Myanmar\", \"New Zealand\", \"Papua New Guinea\", \"Philippines\", \"Samoa\", \"Singapore\", \"Solomon Islands\", \"Thailand\", \"Timor-Leste\", \"Tonga\", \"Vanuatu\", \"Vietnam\"], \"legendgroup\": \"East Asia & Pacific\", \"marker\": {\"color\": \"#19d3f3\"}, \"name\": \"East Asia & Pacific\", \"offsetgroup\": \"East Asia & Pacific\", \"orientation\": \"v\", \"showlegend\": true, \"textposition\": \"auto\", \"type\": \"bar\", \"x\": [\"East Asia & Pacific\", \"East Asia & Pacific\", \"East Asia & Pacific\", \"East Asia & Pacific\", \"East Asia & Pacific\", \"East Asia & Pacific\", \"East Asia & Pacific\", \"East Asia & Pacific\", \"East Asia & Pacific\", \"East Asia & Pacific\", \"East Asia & Pacific\", \"East Asia & Pacific\", \"East Asia & Pacific\", \"East Asia & Pacific\", \"East Asia & Pacific\", \"East Asia & Pacific\", \"East Asia & Pacific\", \"East Asia & Pacific\", \"East Asia & Pacific\", \"East Asia & Pacific\", \"East Asia & Pacific\", \"East Asia & Pacific\", \"East Asia & Pacific\", \"East Asia & Pacific\", \"East Asia & Pacific\", \"East Asia & Pacific\", \"East Asia & Pacific\"], \"xaxis\": \"x\", \"y\": [24982688.0, 428962.0, 16249798.0, 1392730000.0, 883483.0, 7451000.0, 267663435.0, 126529100.0, 115847.0, 51606633.0, 7061507.0, 631636.0, 31528585.0, 112640.0, 3170208.0, 53708395.0, 4841000.0, 8606316.0, 106651922.0, 196130.0, 5638676.0, 652858.0, 69428524.0, 1267972.0, 103197.0, 292680.0, 95540395.0], \"yaxis\": \"y\"}, {\"alignmentgroup\": \"True\", \"hovertemplate\": \"<b>%{hovertext}</b><br><br>Region=%{x}<br>SP.POP.TOTL=%{y}<extra></extra>\", \"hovertext\": [\"Bermuda\", \"Canada\", \"United States\"], \"legendgroup\": \"North America\", \"marker\": {\"color\": \"#FF6692\"}, \"name\": \"North America\", \"offsetgroup\": \"North America\", \"orientation\": \"v\", \"showlegend\": true, \"textposition\": \"auto\", \"type\": \"bar\", \"x\": [\"North America\", \"North America\", \"North America\"], \"xaxis\": \"x\", \"y\": [63920.0, 37057765.0, 326687501.0], \"yaxis\": \"y\"}],                        {\"barmode\": \"relative\", \"height\": 800, \"legend\": {\"title\": {\"text\": \"Region\"}, \"tracegroupgap\": 0}, \"margin\": {\"t\": 60}, \"template\": {\"data\": {\"bar\": [{\"error_x\": {\"color\": \"#2a3f5f\"}, \"error_y\": {\"color\": \"#2a3f5f\"}, \"marker\": {\"line\": {\"color\": \"#E5ECF6\", \"width\": 0.5}}, \"type\": \"bar\"}], \"barpolar\": [{\"marker\": {\"line\": {\"color\": \"#E5ECF6\", \"width\": 0.5}}, \"type\": \"barpolar\"}], \"carpet\": [{\"aaxis\": {\"endlinecolor\": \"#2a3f5f\", \"gridcolor\": \"white\", \"linecolor\": \"white\", \"minorgridcolor\": \"white\", \"startlinecolor\": \"#2a3f5f\"}, \"baxis\": {\"endlinecolor\": \"#2a3f5f\", \"gridcolor\": \"white\", \"linecolor\": \"white\", \"minorgridcolor\": \"white\", \"startlinecolor\": \"#2a3f5f\"}, \"type\": \"carpet\"}], \"choropleth\": [{\"colorbar\": {\"outlinewidth\": 0, \"ticks\": \"\"}, \"type\": \"choropleth\"}], \"contour\": [{\"colorbar\": {\"outlinewidth\": 0, \"ticks\": \"\"}, \"colorscale\": [[0.0, \"#0d0887\"], [0.1111111111111111, \"#46039f\"], [0.2222222222222222, \"#7201a8\"], [0.3333333333333333, \"#9c179e\"], [0.4444444444444444, \"#bd3786\"], [0.5555555555555556, \"#d8576b\"], [0.6666666666666666, \"#ed7953\"], [0.7777777777777778, \"#fb9f3a\"], [0.8888888888888888, \"#fdca26\"], [1.0, \"#f0f921\"]], \"type\": \"contour\"}], \"contourcarpet\": [{\"colorbar\": {\"outlinewidth\": 0, \"ticks\": \"\"}, \"type\": \"contourcarpet\"}], \"heatmap\": [{\"colorbar\": {\"outlinewidth\": 0, \"ticks\": \"\"}, \"colorscale\": [[0.0, \"#0d0887\"], [0.1111111111111111, \"#46039f\"], [0.2222222222222222, \"#7201a8\"], [0.3333333333333333, \"#9c179e\"], [0.4444444444444444, \"#bd3786\"], [0.5555555555555556, \"#d8576b\"], [0.6666666666666666, \"#ed7953\"], [0.7777777777777778, \"#fb9f3a\"], [0.8888888888888888, \"#fdca26\"], [1.0, \"#f0f921\"]], \"type\": \"heatmap\"}], \"heatmapgl\": [{\"colorbar\": {\"outlinewidth\": 0, \"ticks\": \"\"}, \"colorscale\": [[0.0, \"#0d0887\"], [0.1111111111111111, \"#46039f\"], [0.2222222222222222, \"#7201a8\"], [0.3333333333333333, \"#9c179e\"], [0.4444444444444444, \"#bd3786\"], [0.5555555555555556, \"#d8576b\"], [0.6666666666666666, \"#ed7953\"], [0.7777777777777778, \"#fb9f3a\"], [0.8888888888888888, \"#fdca26\"], [1.0, \"#f0f921\"]], \"type\": \"heatmapgl\"}], \"histogram\": [{\"marker\": {\"colorbar\": {\"outlinewidth\": 0, \"ticks\": \"\"}}, \"type\": \"histogram\"}], \"histogram2d\": [{\"colorbar\": {\"outlinewidth\": 0, \"ticks\": \"\"}, \"colorscale\": [[0.0, \"#0d0887\"], [0.1111111111111111, \"#46039f\"], [0.2222222222222222, \"#7201a8\"], [0.3333333333333333, \"#9c179e\"], [0.4444444444444444, \"#bd3786\"], [0.5555555555555556, \"#d8576b\"], [0.6666666666666666, \"#ed7953\"], [0.7777777777777778, \"#fb9f3a\"], [0.8888888888888888, \"#fdca26\"], [1.0, \"#f0f921\"]], \"type\": \"histogram2d\"}], \"histogram2dcontour\": [{\"colorbar\": {\"outlinewidth\": 0, \"ticks\": \"\"}, \"colorscale\": [[0.0, \"#0d0887\"], [0.1111111111111111, \"#46039f\"], [0.2222222222222222, \"#7201a8\"], [0.3333333333333333, \"#9c179e\"], [0.4444444444444444, \"#bd3786\"], [0.5555555555555556, \"#d8576b\"], [0.6666666666666666, \"#ed7953\"], [0.7777777777777778, \"#fb9f3a\"], [0.8888888888888888, \"#fdca26\"], [1.0, \"#f0f921\"]], \"type\": \"histogram2dcontour\"}], \"mesh3d\": [{\"colorbar\": {\"outlinewidth\": 0, \"ticks\": \"\"}, \"type\": \"mesh3d\"}], \"parcoords\": [{\"line\": {\"colorbar\": {\"outlinewidth\": 0, \"ticks\": \"\"}}, \"type\": \"parcoords\"}], \"pie\": [{\"automargin\": true, \"type\": \"pie\"}], \"scatter\": [{\"marker\": {\"colorbar\": {\"outlinewidth\": 0, \"ticks\": \"\"}}, \"type\": \"scatter\"}], \"scatter3d\": [{\"line\": {\"colorbar\": {\"outlinewidth\": 0, \"ticks\": \"\"}}, \"marker\": {\"colorbar\": {\"outlinewidth\": 0, \"ticks\": \"\"}}, \"type\": \"scatter3d\"}], \"scattercarpet\": [{\"marker\": {\"colorbar\": {\"outlinewidth\": 0, \"ticks\": \"\"}}, \"type\": \"scattercarpet\"}], \"scattergeo\": [{\"marker\": {\"colorbar\": {\"outlinewidth\": 0, \"ticks\": \"\"}}, \"type\": \"scattergeo\"}], \"scattergl\": [{\"marker\": {\"colorbar\": {\"outlinewidth\": 0, \"ticks\": \"\"}}, \"type\": \"scattergl\"}], \"scattermapbox\": [{\"marker\": {\"colorbar\": {\"outlinewidth\": 0, \"ticks\": \"\"}}, \"type\": \"scattermapbox\"}], \"scatterpolar\": [{\"marker\": {\"colorbar\": {\"outlinewidth\": 0, \"ticks\": \"\"}}, \"type\": \"scatterpolar\"}], \"scatterpolargl\": [{\"marker\": {\"colorbar\": {\"outlinewidth\": 0, \"ticks\": \"\"}}, \"type\": \"scatterpolargl\"}], \"scatterternary\": [{\"marker\": {\"colorbar\": {\"outlinewidth\": 0, \"ticks\": \"\"}}, \"type\": \"scatterternary\"}], \"surface\": [{\"colorbar\": {\"outlinewidth\": 0, \"ticks\": \"\"}, \"colorscale\": [[0.0, \"#0d0887\"], [0.1111111111111111, \"#46039f\"], [0.2222222222222222, \"#7201a8\"], [0.3333333333333333, \"#9c179e\"], [0.4444444444444444, \"#bd3786\"], [0.5555555555555556, \"#d8576b\"], [0.6666666666666666, \"#ed7953\"], [0.7777777777777778, \"#fb9f3a\"], [0.8888888888888888, \"#fdca26\"], [1.0, \"#f0f921\"]], \"type\": \"surface\"}], \"table\": [{\"cells\": {\"fill\": {\"color\": \"#EBF0F8\"}, \"line\": {\"color\": \"white\"}}, \"header\": {\"fill\": {\"color\": \"#C8D4E3\"}, \"line\": {\"color\": \"white\"}}, \"type\": \"table\"}]}, \"layout\": {\"annotationdefaults\": {\"arrowcolor\": \"#2a3f5f\", \"arrowhead\": 0, \"arrowwidth\": 1}, \"autotypenumbers\": \"strict\", \"coloraxis\": {\"colorbar\": {\"outlinewidth\": 0, \"ticks\": \"\"}}, \"colorscale\": {\"diverging\": [[0, \"#8e0152\"], [0.1, \"#c51b7d\"], [0.2, \"#de77ae\"], [0.3, \"#f1b6da\"], [0.4, \"#fde0ef\"], [0.5, \"#f7f7f7\"], [0.6, \"#e6f5d0\"], [0.7, \"#b8e186\"], [0.8, \"#7fbc41\"], [0.9, \"#4d9221\"], [1, \"#276419\"]], \"sequential\": [[0.0, \"#0d0887\"], [0.1111111111111111, \"#46039f\"], [0.2222222222222222, \"#7201a8\"], [0.3333333333333333, \"#9c179e\"], [0.4444444444444444, \"#bd3786\"], [0.5555555555555556, \"#d8576b\"], [0.6666666666666666, \"#ed7953\"], [0.7777777777777778, \"#fb9f3a\"], [0.8888888888888888, \"#fdca26\"], [1.0, \"#f0f921\"]], \"sequentialminus\": [[0.0, \"#0d0887\"], [0.1111111111111111, \"#46039f\"], [0.2222222222222222, \"#7201a8\"], [0.3333333333333333, \"#9c179e\"], [0.4444444444444444, \"#bd3786\"], [0.5555555555555556, \"#d8576b\"], [0.6666666666666666, \"#ed7953\"], [0.7777777777777778, \"#fb9f3a\"], [0.8888888888888888, \"#fdca26\"], [1.0, \"#f0f921\"]]}, \"colorway\": [\"#636efa\", \"#EF553B\", \"#00cc96\", \"#ab63fa\", \"#FFA15A\", \"#19d3f3\", \"#FF6692\", \"#B6E880\", \"#FF97FF\", \"#FECB52\"], \"font\": {\"color\": \"#2a3f5f\"}, \"geo\": {\"bgcolor\": \"white\", \"lakecolor\": \"white\", \"landcolor\": \"#E5ECF6\", \"showlakes\": true, \"showland\": true, \"subunitcolor\": \"white\"}, \"hoverlabel\": {\"align\": \"left\"}, \"hovermode\": \"closest\", \"mapbox\": {\"style\": \"light\"}, \"paper_bgcolor\": \"white\", \"plot_bgcolor\": \"#E5ECF6\", \"polar\": {\"angularaxis\": {\"gridcolor\": \"white\", \"linecolor\": \"white\", \"ticks\": \"\"}, \"bgcolor\": \"#E5ECF6\", \"radialaxis\": {\"gridcolor\": \"white\", \"linecolor\": \"white\", \"ticks\": \"\"}}, \"scene\": {\"xaxis\": {\"backgroundcolor\": \"#E5ECF6\", \"gridcolor\": \"white\", \"gridwidth\": 2, \"linecolor\": \"white\", \"showbackground\": true, \"ticks\": \"\", \"zerolinecolor\": \"white\"}, \"yaxis\": {\"backgroundcolor\": \"#E5ECF6\", \"gridcolor\": \"white\", \"gridwidth\": 2, \"linecolor\": \"white\", \"showbackground\": true, \"ticks\": \"\", \"zerolinecolor\": \"white\"}, \"zaxis\": {\"backgroundcolor\": \"#E5ECF6\", \"gridcolor\": \"white\", \"gridwidth\": 2, \"linecolor\": \"white\", \"showbackground\": true, \"ticks\": \"\", \"zerolinecolor\": \"white\"}}, \"shapedefaults\": {\"line\": {\"color\": \"#2a3f5f\"}}, \"ternary\": {\"aaxis\": {\"gridcolor\": \"white\", \"linecolor\": \"white\", \"ticks\": \"\"}, \"baxis\": {\"gridcolor\": \"white\", \"linecolor\": \"white\", \"ticks\": \"\"}, \"bgcolor\": \"#E5ECF6\", \"caxis\": {\"gridcolor\": \"white\", \"linecolor\": \"white\", \"ticks\": \"\"}}, \"title\": {\"x\": 0.05}, \"xaxis\": {\"automargin\": true, \"gridcolor\": \"white\", \"linecolor\": \"white\", \"ticks\": \"\", \"title\": {\"standoff\": 15}, \"zerolinecolor\": \"white\", \"zerolinewidth\": 2}, \"yaxis\": {\"automargin\": true, \"gridcolor\": \"white\", \"linecolor\": \"white\", \"ticks\": \"\", \"title\": {\"standoff\": 15}, \"zerolinecolor\": \"white\", \"zerolinewidth\": 2}}}, \"xaxis\": {\"anchor\": \"y\", \"categoryarray\": [\"South Asia\", \"Europe & Central Asia\", \"Middle East & North Africa\", \"Sub-Saharan Africa \", \"Latin America & Caribbean \", \"East Asia & Pacific\", \"North America\"], \"categoryorder\": \"array\", \"domain\": [0.0, 1.0], \"title\": {\"text\": \"Region\"}}, \"yaxis\": {\"anchor\": \"x\", \"domain\": [0.0, 1.0], \"title\": {\"text\": \"SP.POP.TOTL\"}}},                        {\"responsive\": true}                    ).then(function(){\n                            \nvar gd = document.getElementById('28e5b4f0-60e7-4fa2-b3cb-f816d192d003');\nvar x = new MutationObserver(function (mutations, observer) {{\n        var display = window.getComputedStyle(gd).display;\n        if (!display || display === 'none') {{\n            console.log([gd, 'removed!']);\n            Plotly.purge(gd);\n            observer.disconnect();\n        }}\n}});\n\n// Listen for the removal of the full notebook cells\nvar notebookContainer = gd.closest('#notebook-container');\nif (notebookContainer) {{\n    x.observe(notebookContainer, {childList: true});\n}}\n\n// Listen for the clearing of the current output cell\nvar outputEl = gd.closest('.output');\nif (outputEl) {{\n    x.observe(outputEl, {childList: true});\n}}\n\n                        })                };                            </script>        </div>\n</body>\n</html>"
          },
          "metadata": {},
          "output_type": "display_data"
        }
      ]
    },
    {
      "cell_type": "code",
      "source": "fig.write_html(\"myhisto.html\")",
      "metadata": {
        "tags": [],
        "cell_id": "00019-69e5317e-c819-40f9-933c-6333d78967ad",
        "deepnote_to_be_reexecuted": false,
        "source_hash": "6e32187",
        "execution_start": 1617324204637,
        "execution_millis": 22,
        "deepnote_cell_type": "code"
      },
      "outputs": [],
      "execution_count": 18
    },
    {
      "cell_type": "code",
      "metadata": {
        "id": "Z76RBOC5BKIK",
        "cell_id": "00019-9fe489c3-9f73-4d68-89c6-8d64d5d3f14c",
        "deepnote_to_be_reexecuted": false,
        "source_hash": "db9a0087",
        "execution_start": 1617324206980,
        "execution_millis": 6,
        "deepnote_cell_type": "code"
      },
      "source": "How about Life Expendency?",
      "execution_count": 19,
      "outputs": [
        {
          "name": "stdout",
          "text": "Object `Expendency` not found.\n",
          "output_type": "stream"
        }
      ]
    },
    {
      "cell_type": "code",
      "metadata": {
        "colab": {
          "base_uri": "https://localhost:8080/",
          "height": 617
        },
        "id": "ZN27CsV9BVyB",
        "outputId": "24676f4d-5ac5-42b5-d0be-49843431ce22",
        "cell_id": "00020-ec740303-7874-4f1c-bf65-5d07dec18e11",
        "deepnote_to_be_reexecuted": false,
        "source_hash": "f195c7e2",
        "execution_millis": 28,
        "execution_start": 1617324214326,
        "deepnote_cell_type": "code"
      },
      "source": "# This Bar Chart does not make much sense. \n# It does not help us compare the longevity of people in each region\n\nfig = px.bar(data_frame=df_2018, \n             x=\"Region\", y=\"SP.DYN.LE00.IN\", \n             hover_name=\"Country Name\", \n             color=\"Region\",\n             height=600\n             )\nfig.show()",
      "execution_count": 21,
      "outputs": [
        {
          "data": {
            "text/html": "<html>\n<head><meta charset=\"utf-8\" /></head>\n<body>\n    <div>            <script src=\"https://cdnjs.cloudflare.com/ajax/libs/mathjax/2.7.5/MathJax.js?config=TeX-AMS-MML_SVG\"></script><script type=\"text/javascript\">if (window.MathJax) {MathJax.Hub.Config({SVG: {font: \"STIX-Web\"}});}</script>                <script type=\"text/javascript\">window.PlotlyConfig = {MathJaxConfig: 'local'};</script>\n        <script src=\"https://cdn.plot.ly/plotly-latest.min.js\"></script>                <div id=\"844dedf8-b93c-48fb-b3a4-fabcd45119e7\" class=\"plotly-graph-div\" style=\"height:600px; width:100%;\"></div>            <script type=\"text/javascript\">                                    window.PLOTLYENV=window.PLOTLYENV || {};                                    if (document.getElementById(\"844dedf8-b93c-48fb-b3a4-fabcd45119e7\")) {                    Plotly.newPlot(                        \"844dedf8-b93c-48fb-b3a4-fabcd45119e7\",                        [{\"alignmentgroup\": \"True\", \"hovertemplate\": \"<b>%{hovertext}</b><br><br>Region=%{x}<br>SP.DYN.LE00.IN=%{y}<extra></extra>\", \"hovertext\": [\"Afghanistan\", \"Bangladesh\", \"Bhutan\", \"India\", \"Maldives\", \"Nepal\", \"Pakistan\", \"Sri Lanka\"], \"legendgroup\": \"South Asia\", \"marker\": {\"color\": \"#636efa\"}, \"name\": \"South Asia\", \"offsetgroup\": \"South Asia\", \"orientation\": \"v\", \"showlegend\": true, \"textposition\": \"auto\", \"type\": \"bar\", \"x\": [\"South Asia\", \"South Asia\", \"South Asia\", \"South Asia\", \"South Asia\", \"South Asia\", \"South Asia\", \"South Asia\"], \"xaxis\": \"x\", \"y\": [64.486, 72.32, 71.46, 69.416, 78.627, 70.478, 67.114, 76.812], \"yaxis\": \"y\"}, {\"alignmentgroup\": \"True\", \"hovertemplate\": \"<b>%{hovertext}</b><br><br>Region=%{x}<br>SP.DYN.LE00.IN=%{y}<extra></extra>\", \"hovertext\": [\"Albania\", \"Armenia\", \"Austria\", \"Azerbaijan\", \"Belarus\", \"Belgium\", \"Bosnia and Herzegovina\", \"Bulgaria\", \"Croatia\", \"Cyprus\", \"Czech Republic\", \"Denmark\", \"Estonia\", \"Finland\", \"France\", \"Georgia\", \"Germany\", \"Greece\", \"Hungary\", \"Iceland\", \"Ireland\", \"Italy\", \"Kazakhstan\", \"Kosovo\", \"Kyrgyz Republic\", \"Latvia\", \"Lithuania\", \"Luxembourg\", \"Moldova\", \"Montenegro\", \"Netherlands\", \"North Macedonia\", \"Norway\", \"Poland\", \"Portugal\", \"Romania\", \"Russian Federation\", \"Serbia\", \"Slovak Republic\", \"Slovenia\", \"Spain\", \"Sweden\", \"Switzerland\", \"Tajikistan\", \"Turkey\", \"Turkmenistan\", \"Ukraine\", \"United Kingdom\", \"Uzbekistan\"], \"legendgroup\": \"Europe & Central Asia\", \"marker\": {\"color\": \"#EF553B\"}, \"name\": \"Europe & Central Asia\", \"offsetgroup\": \"Europe & Central Asia\", \"orientation\": \"v\", \"showlegend\": true, \"textposition\": \"auto\", \"type\": \"bar\", \"x\": [\"Europe & Central Asia\", \"Europe & Central Asia\", \"Europe & Central Asia\", \"Europe & Central Asia\", \"Europe & Central Asia\", \"Europe & Central Asia\", \"Europe & Central Asia\", \"Europe & Central Asia\", \"Europe & Central Asia\", \"Europe & Central Asia\", \"Europe & Central Asia\", \"Europe & Central Asia\", \"Europe & Central Asia\", \"Europe & Central Asia\", \"Europe & Central Asia\", \"Europe & Central Asia\", \"Europe & Central Asia\", \"Europe & Central Asia\", \"Europe & Central Asia\", \"Europe & Central Asia\", \"Europe & Central Asia\", \"Europe & Central Asia\", \"Europe & Central Asia\", \"Europe & Central Asia\", \"Europe & Central Asia\", \"Europe & Central Asia\", \"Europe & Central Asia\", \"Europe & Central Asia\", \"Europe & Central Asia\", \"Europe & Central Asia\", \"Europe & Central Asia\", \"Europe & Central Asia\", \"Europe & Central Asia\", \"Europe & Central Asia\", \"Europe & Central Asia\", \"Europe & Central Asia\", \"Europe & Central Asia\", \"Europe & Central Asia\", \"Europe & Central Asia\", \"Europe & Central Asia\", \"Europe & Central Asia\", \"Europe & Central Asia\", \"Europe & Central Asia\", \"Europe & Central Asia\", \"Europe & Central Asia\", \"Europe & Central Asia\", \"Europe & Central Asia\", \"Europe & Central Asia\", \"Europe & Central Asia\"], \"xaxis\": \"x\", \"y\": [78.458, 74.945, 81.6926829268, 72.864, 74.1756097561, 81.5951219512, 77.262, 74.9634146341, 78.0707317073, 80.828, 79.0292682927, 80.9536585366, 78.243902439, 81.7341463415, 82.7243902439, 73.6, 80.8926829268, 81.787804878, 76.0658536585, 82.8609756098, 82.256097561, 83.3463414634, 73.15, 72.1951219512, 71.4, 74.7829268293, 75.6804878049, 82.2951219512, 71.808, 76.77, 81.812195122, 75.688, 82.7585365854, 77.6024390244, 81.3243902439, 75.3585365854, 72.6573170732, 75.8902439024, 77.2658536585, 81.3780487805, 83.4317073171, 82.5585365854, 83.7536585366, 70.879, 77.437, 68.073, 71.5826829268, 81.256097561, 71.573], \"yaxis\": \"y\"}, {\"alignmentgroup\": \"True\", \"hovertemplate\": \"<b>%{hovertext}</b><br><br>Region=%{x}<br>SP.DYN.LE00.IN=%{y}<extra></extra>\", \"hovertext\": [\"Algeria\", \"Bahrain\", \"Djibouti\", \"Egypt, Arab Rep.\", \"Iran, Islamic Rep.\", \"Iraq\", \"Israel\", \"Jordan\", \"Kuwait\", \"Lebanon\", \"Libya\", \"Malta\", \"Morocco\", \"Oman\", \"Qatar\", \"Saudi Arabia\", \"Tunisia\", \"United Arab Emirates\", \"West Bank and Gaza\"], \"legendgroup\": \"Middle East & North Africa\", \"marker\": {\"color\": \"#00cc96\"}, \"name\": \"Middle East & North Africa\", \"offsetgroup\": \"Middle East & North Africa\", \"orientation\": \"v\", \"showlegend\": true, \"textposition\": \"auto\", \"type\": \"bar\", \"x\": [\"Middle East & North Africa\", \"Middle East & North Africa\", \"Middle East & North Africa\", \"Middle East & North Africa\", \"Middle East & North Africa\", \"Middle East & North Africa\", \"Middle East & North Africa\", \"Middle East & North Africa\", \"Middle East & North Africa\", \"Middle East & North Africa\", \"Middle East & North Africa\", \"Middle East & North Africa\", \"Middle East & North Africa\", \"Middle East & North Africa\", \"Middle East & North Africa\", \"Middle East & North Africa\", \"Middle East & North Africa\", \"Middle East & North Africa\", \"Middle East & North Africa\"], \"xaxis\": \"x\", \"y\": [76.693, 77.163, 66.582, 71.825, 76.479, 70.454, 82.8024390244, 74.405, 75.398, 78.875, 72.724, 82.4487804878, 76.453, 77.633, 80.1, 74.998, 76.505, 77.814, 73.895], \"yaxis\": \"y\"}, {\"alignmentgroup\": \"True\", \"hovertemplate\": \"<b>%{hovertext}</b><br><br>Region=%{x}<br>SP.DYN.LE00.IN=%{y}<extra></extra>\", \"hovertext\": [\"Angola\", \"Benin\", \"Botswana\", \"Burkina Faso\", \"Burundi\", \"Cabo Verde\", \"Cameroon\", \"Central African Republic\", \"Chad\", \"Comoros\", \"Congo, Dem. Rep.\", \"Congo, Rep.\", \"Cote d'Ivoire\", \"Equatorial Guinea\", \"Eswatini\", \"Ethiopia\", \"Gabon\", \"Gambia, The\", \"Ghana\", \"Guinea\", \"Guinea-Bissau\", \"Kenya\", \"Lesotho\", \"Liberia\", \"Madagascar\", \"Malawi\", \"Mali\", \"Mauritania\", \"Mauritius\", \"Mozambique\", \"Namibia\", \"Niger\", \"Nigeria\", \"Rwanda\", \"Sao Tome and Principe\", \"Senegal\", \"Seychelles\", \"Sierra Leone\", \"South Africa\", \"Sudan\", \"Tanzania\", \"Togo\", \"Uganda\", \"Zambia\", \"Zimbabwe\"], \"legendgroup\": \"Sub-Saharan Africa \", \"marker\": {\"color\": \"#ab63fa\"}, \"name\": \"Sub-Saharan Africa \", \"offsetgroup\": \"Sub-Saharan Africa \", \"orientation\": \"v\", \"showlegend\": true, \"textposition\": \"auto\", \"type\": \"bar\", \"x\": [\"Sub-Saharan Africa \", \"Sub-Saharan Africa \", \"Sub-Saharan Africa \", \"Sub-Saharan Africa \", \"Sub-Saharan Africa \", \"Sub-Saharan Africa \", \"Sub-Saharan Africa \", \"Sub-Saharan Africa \", \"Sub-Saharan Africa \", \"Sub-Saharan Africa \", \"Sub-Saharan Africa \", \"Sub-Saharan Africa \", \"Sub-Saharan Africa \", \"Sub-Saharan Africa \", \"Sub-Saharan Africa \", \"Sub-Saharan Africa \", \"Sub-Saharan Africa \", \"Sub-Saharan Africa \", \"Sub-Saharan Africa \", \"Sub-Saharan Africa \", \"Sub-Saharan Africa \", \"Sub-Saharan Africa \", \"Sub-Saharan Africa \", \"Sub-Saharan Africa \", \"Sub-Saharan Africa \", \"Sub-Saharan Africa \", \"Sub-Saharan Africa \", \"Sub-Saharan Africa \", \"Sub-Saharan Africa \", \"Sub-Saharan Africa \", \"Sub-Saharan Africa \", \"Sub-Saharan Africa \", \"Sub-Saharan Africa \", \"Sub-Saharan Africa \", \"Sub-Saharan Africa \", \"Sub-Saharan Africa \", \"Sub-Saharan Africa \", \"Sub-Saharan Africa \", \"Sub-Saharan Africa \", \"Sub-Saharan Africa \", \"Sub-Saharan Africa \", \"Sub-Saharan Africa \", \"Sub-Saharan Africa \", \"Sub-Saharan Africa \", \"Sub-Saharan Africa \"], \"xaxis\": \"x\", \"y\": [60.782, 61.47, 69.275, 61.174, 61.247, 72.782, 58.921, 52.805, 53.977, 64.118, 60.368, 64.29, 57.422, 58.402, 59.401, 66.24, 66.187, 61.735, 63.78, 61.185, 58.003, 66.342, 53.705, 63.73, 66.681, 63.798, 58.893, 64.704, 74.4163414634, 60.163, 63.373, 62.024, 54.332, 68.7, 70.17, 67.665, 72.8414634146, 54.309, 63.857, 65.095, 65.015, 60.76, 62.973, 63.51, 61.195], \"yaxis\": \"y\"}, {\"alignmentgroup\": \"True\", \"hovertemplate\": \"<b>%{hovertext}</b><br><br>Region=%{x}<br>SP.DYN.LE00.IN=%{y}<extra></extra>\", \"hovertext\": [\"Antigua and Barbuda\", \"Argentina\", \"Bahamas, The\", \"Barbados\", \"Belize\", \"Bolivia\", \"Brazil\", \"Chile\", \"Colombia\", \"Costa Rica\", \"Dominican Republic\", \"Ecuador\", \"El Salvador\", \"Grenada\", \"Guatemala\", \"Guyana\", \"Haiti\", \"Honduras\", \"Jamaica\", \"Mexico\", \"Nicaragua\", \"Panama\", \"Paraguay\", \"Peru\", \"Puerto Rico\", \"St. Lucia\", \"St. Vincent and the Grenadines\", \"Suriname\", \"Trinidad and Tobago\", \"Uruguay\"], \"legendgroup\": \"Latin America & Caribbean \", \"marker\": {\"color\": \"#FFA15A\"}, \"name\": \"Latin America & Caribbean \", \"offsetgroup\": \"Latin America & Caribbean \", \"orientation\": \"v\", \"showlegend\": true, \"textposition\": \"auto\", \"type\": \"bar\", \"x\": [\"Latin America & Caribbean \", \"Latin America & Caribbean \", \"Latin America & Caribbean \", \"Latin America & Caribbean \", \"Latin America & Caribbean \", \"Latin America & Caribbean \", \"Latin America & Caribbean \", \"Latin America & Caribbean \", \"Latin America & Caribbean \", \"Latin America & Caribbean \", \"Latin America & Caribbean \", \"Latin America & Caribbean \", \"Latin America & Caribbean \", \"Latin America & Caribbean \", \"Latin America & Caribbean \", \"Latin America & Caribbean \", \"Latin America & Caribbean \", \"Latin America & Caribbean \", \"Latin America & Caribbean \", \"Latin America & Caribbean \", \"Latin America & Caribbean \", \"Latin America & Caribbean \", \"Latin America & Caribbean \", \"Latin America & Caribbean \", \"Latin America & Caribbean \", \"Latin America & Caribbean \", \"Latin America & Caribbean \", \"Latin America & Caribbean \", \"Latin America & Caribbean \", \"Latin America & Caribbean \"], \"xaxis\": \"x\", \"y\": [76.885, 76.52, 73.752, 79.081, 74.496, 71.239, 75.672, 80.042, 77.109, 80.095, 73.892, 76.8, 73.096, 72.384, 74.063, 69.774, 63.66, 75.088, 74.368, 74.992, 74.275, 78.329, 74.131, 76.516, 79.778195122, 76.057, 72.415, 71.57, 73.38, 77.77], \"yaxis\": \"y\"}, {\"alignmentgroup\": \"True\", \"hovertemplate\": \"<b>%{hovertext}</b><br><br>Region=%{x}<br>SP.DYN.LE00.IN=%{y}<extra></extra>\", \"hovertext\": [\"Australia\", \"Brunei Darussalam\", \"Cambodia\", \"China\", \"Fiji\", \"Hong Kong SAR, China\", \"Indonesia\", \"Japan\", \"Kiribati\", \"Korea, Rep.\", \"Lao PDR\", \"Macao SAR, China\", \"Malaysia\", \"Micronesia, Fed. Sts.\", \"Mongolia\", \"Myanmar\", \"New Zealand\", \"Papua New Guinea\", \"Philippines\", \"Samoa\", \"Singapore\", \"Solomon Islands\", \"Thailand\", \"Timor-Leste\", \"Tonga\", \"Vanuatu\", \"Vietnam\"], \"legendgroup\": \"East Asia & Pacific\", \"marker\": {\"color\": \"#19d3f3\"}, \"name\": \"East Asia & Pacific\", \"offsetgroup\": \"East Asia & Pacific\", \"orientation\": \"v\", \"showlegend\": true, \"textposition\": \"auto\", \"type\": \"bar\", \"x\": [\"East Asia & Pacific\", \"East Asia & Pacific\", \"East Asia & Pacific\", \"East Asia & Pacific\", \"East Asia & Pacific\", \"East Asia & Pacific\", \"East Asia & Pacific\", \"East Asia & Pacific\", \"East Asia & Pacific\", \"East Asia & Pacific\", \"East Asia & Pacific\", \"East Asia & Pacific\", \"East Asia & Pacific\", \"East Asia & Pacific\", \"East Asia & Pacific\", \"East Asia & Pacific\", \"East Asia & Pacific\", \"East Asia & Pacific\", \"East Asia & Pacific\", \"East Asia & Pacific\", \"East Asia & Pacific\", \"East Asia & Pacific\", \"East Asia & Pacific\", \"East Asia & Pacific\", \"East Asia & Pacific\", \"East Asia & Pacific\", \"East Asia & Pacific\"], \"xaxis\": \"x\", \"y\": [82.7487804878, 75.722, 69.57, 76.704, 67.341, 84.9341463415, 71.509, 84.2109756098, 68.116, 82.6268292683, 67.61, 84.118, 75.997, 67.755, 69.689, 66.867, 81.8585365854, 64.263, 71.095, 73.187, 83.1463414634, 72.835, 76.931, 69.26, 70.801, 70.323, 75.317], \"yaxis\": \"y\"}, {\"alignmentgroup\": \"True\", \"hovertemplate\": \"<b>%{hovertext}</b><br><br>Region=%{x}<br>SP.DYN.LE00.IN=%{y}<extra></extra>\", \"hovertext\": [\"Bermuda\", \"Canada\", \"United States\"], \"legendgroup\": \"North America\", \"marker\": {\"color\": \"#FF6692\"}, \"name\": \"North America\", \"offsetgroup\": \"North America\", \"orientation\": \"v\", \"showlegend\": true, \"textposition\": \"auto\", \"type\": \"bar\", \"x\": [\"North America\", \"North America\", \"North America\"], \"xaxis\": \"x\", \"y\": [81.6517073171, 81.9487804878, 78.5390243902], \"yaxis\": \"y\"}],                        {\"barmode\": \"relative\", \"height\": 600, \"legend\": {\"title\": {\"text\": \"Region\"}, \"tracegroupgap\": 0}, \"margin\": {\"t\": 60}, \"template\": {\"data\": {\"bar\": [{\"error_x\": {\"color\": \"#2a3f5f\"}, \"error_y\": {\"color\": \"#2a3f5f\"}, \"marker\": {\"line\": {\"color\": \"#E5ECF6\", \"width\": 0.5}}, \"type\": \"bar\"}], \"barpolar\": [{\"marker\": {\"line\": {\"color\": \"#E5ECF6\", \"width\": 0.5}}, \"type\": \"barpolar\"}], \"carpet\": [{\"aaxis\": {\"endlinecolor\": \"#2a3f5f\", \"gridcolor\": \"white\", \"linecolor\": \"white\", \"minorgridcolor\": \"white\", \"startlinecolor\": \"#2a3f5f\"}, \"baxis\": {\"endlinecolor\": \"#2a3f5f\", \"gridcolor\": \"white\", \"linecolor\": \"white\", \"minorgridcolor\": \"white\", \"startlinecolor\": \"#2a3f5f\"}, \"type\": \"carpet\"}], \"choropleth\": [{\"colorbar\": {\"outlinewidth\": 0, \"ticks\": \"\"}, \"type\": \"choropleth\"}], \"contour\": [{\"colorbar\": {\"outlinewidth\": 0, \"ticks\": \"\"}, \"colorscale\": [[0.0, \"#0d0887\"], [0.1111111111111111, \"#46039f\"], [0.2222222222222222, \"#7201a8\"], [0.3333333333333333, \"#9c179e\"], [0.4444444444444444, \"#bd3786\"], [0.5555555555555556, \"#d8576b\"], [0.6666666666666666, \"#ed7953\"], [0.7777777777777778, \"#fb9f3a\"], [0.8888888888888888, \"#fdca26\"], [1.0, \"#f0f921\"]], \"type\": \"contour\"}], \"contourcarpet\": [{\"colorbar\": {\"outlinewidth\": 0, \"ticks\": \"\"}, \"type\": \"contourcarpet\"}], \"heatmap\": [{\"colorbar\": {\"outlinewidth\": 0, \"ticks\": \"\"}, \"colorscale\": [[0.0, \"#0d0887\"], [0.1111111111111111, \"#46039f\"], [0.2222222222222222, \"#7201a8\"], [0.3333333333333333, \"#9c179e\"], [0.4444444444444444, \"#bd3786\"], [0.5555555555555556, \"#d8576b\"], [0.6666666666666666, \"#ed7953\"], [0.7777777777777778, \"#fb9f3a\"], [0.8888888888888888, \"#fdca26\"], [1.0, \"#f0f921\"]], \"type\": \"heatmap\"}], \"heatmapgl\": [{\"colorbar\": {\"outlinewidth\": 0, \"ticks\": \"\"}, \"colorscale\": [[0.0, \"#0d0887\"], [0.1111111111111111, \"#46039f\"], [0.2222222222222222, \"#7201a8\"], [0.3333333333333333, \"#9c179e\"], [0.4444444444444444, \"#bd3786\"], [0.5555555555555556, \"#d8576b\"], [0.6666666666666666, \"#ed7953\"], [0.7777777777777778, \"#fb9f3a\"], [0.8888888888888888, \"#fdca26\"], [1.0, \"#f0f921\"]], \"type\": \"heatmapgl\"}], \"histogram\": [{\"marker\": {\"colorbar\": {\"outlinewidth\": 0, \"ticks\": \"\"}}, \"type\": \"histogram\"}], \"histogram2d\": [{\"colorbar\": {\"outlinewidth\": 0, \"ticks\": \"\"}, \"colorscale\": [[0.0, \"#0d0887\"], [0.1111111111111111, \"#46039f\"], [0.2222222222222222, \"#7201a8\"], [0.3333333333333333, \"#9c179e\"], [0.4444444444444444, \"#bd3786\"], [0.5555555555555556, \"#d8576b\"], [0.6666666666666666, \"#ed7953\"], [0.7777777777777778, \"#fb9f3a\"], [0.8888888888888888, \"#fdca26\"], [1.0, \"#f0f921\"]], \"type\": \"histogram2d\"}], \"histogram2dcontour\": [{\"colorbar\": {\"outlinewidth\": 0, \"ticks\": \"\"}, \"colorscale\": [[0.0, \"#0d0887\"], [0.1111111111111111, \"#46039f\"], [0.2222222222222222, \"#7201a8\"], [0.3333333333333333, \"#9c179e\"], [0.4444444444444444, \"#bd3786\"], [0.5555555555555556, \"#d8576b\"], [0.6666666666666666, \"#ed7953\"], [0.7777777777777778, \"#fb9f3a\"], [0.8888888888888888, \"#fdca26\"], [1.0, \"#f0f921\"]], \"type\": \"histogram2dcontour\"}], \"mesh3d\": [{\"colorbar\": {\"outlinewidth\": 0, \"ticks\": \"\"}, \"type\": \"mesh3d\"}], \"parcoords\": [{\"line\": {\"colorbar\": {\"outlinewidth\": 0, \"ticks\": \"\"}}, \"type\": \"parcoords\"}], \"pie\": [{\"automargin\": true, \"type\": \"pie\"}], \"scatter\": [{\"marker\": {\"colorbar\": {\"outlinewidth\": 0, \"ticks\": \"\"}}, \"type\": \"scatter\"}], \"scatter3d\": [{\"line\": {\"colorbar\": {\"outlinewidth\": 0, \"ticks\": \"\"}}, \"marker\": {\"colorbar\": {\"outlinewidth\": 0, \"ticks\": \"\"}}, \"type\": \"scatter3d\"}], \"scattercarpet\": [{\"marker\": {\"colorbar\": {\"outlinewidth\": 0, \"ticks\": \"\"}}, \"type\": \"scattercarpet\"}], \"scattergeo\": [{\"marker\": {\"colorbar\": {\"outlinewidth\": 0, \"ticks\": \"\"}}, \"type\": \"scattergeo\"}], \"scattergl\": [{\"marker\": {\"colorbar\": {\"outlinewidth\": 0, \"ticks\": \"\"}}, \"type\": \"scattergl\"}], \"scattermapbox\": [{\"marker\": {\"colorbar\": {\"outlinewidth\": 0, \"ticks\": \"\"}}, \"type\": \"scattermapbox\"}], \"scatterpolar\": [{\"marker\": {\"colorbar\": {\"outlinewidth\": 0, \"ticks\": \"\"}}, \"type\": \"scatterpolar\"}], \"scatterpolargl\": [{\"marker\": {\"colorbar\": {\"outlinewidth\": 0, \"ticks\": \"\"}}, \"type\": \"scatterpolargl\"}], \"scatterternary\": [{\"marker\": {\"colorbar\": {\"outlinewidth\": 0, \"ticks\": \"\"}}, \"type\": \"scatterternary\"}], \"surface\": [{\"colorbar\": {\"outlinewidth\": 0, \"ticks\": \"\"}, \"colorscale\": [[0.0, \"#0d0887\"], [0.1111111111111111, \"#46039f\"], [0.2222222222222222, \"#7201a8\"], [0.3333333333333333, \"#9c179e\"], [0.4444444444444444, \"#bd3786\"], [0.5555555555555556, \"#d8576b\"], [0.6666666666666666, \"#ed7953\"], [0.7777777777777778, \"#fb9f3a\"], [0.8888888888888888, \"#fdca26\"], [1.0, \"#f0f921\"]], \"type\": \"surface\"}], \"table\": [{\"cells\": {\"fill\": {\"color\": \"#EBF0F8\"}, \"line\": {\"color\": \"white\"}}, \"header\": {\"fill\": {\"color\": \"#C8D4E3\"}, \"line\": {\"color\": \"white\"}}, \"type\": \"table\"}]}, \"layout\": {\"annotationdefaults\": {\"arrowcolor\": \"#2a3f5f\", \"arrowhead\": 0, \"arrowwidth\": 1}, \"autotypenumbers\": \"strict\", \"coloraxis\": {\"colorbar\": {\"outlinewidth\": 0, \"ticks\": \"\"}}, \"colorscale\": {\"diverging\": [[0, \"#8e0152\"], [0.1, \"#c51b7d\"], [0.2, \"#de77ae\"], [0.3, \"#f1b6da\"], [0.4, \"#fde0ef\"], [0.5, \"#f7f7f7\"], [0.6, \"#e6f5d0\"], [0.7, \"#b8e186\"], [0.8, \"#7fbc41\"], [0.9, \"#4d9221\"], [1, \"#276419\"]], \"sequential\": [[0.0, \"#0d0887\"], [0.1111111111111111, \"#46039f\"], [0.2222222222222222, \"#7201a8\"], [0.3333333333333333, \"#9c179e\"], [0.4444444444444444, \"#bd3786\"], [0.5555555555555556, \"#d8576b\"], [0.6666666666666666, \"#ed7953\"], [0.7777777777777778, \"#fb9f3a\"], [0.8888888888888888, \"#fdca26\"], [1.0, \"#f0f921\"]], \"sequentialminus\": [[0.0, \"#0d0887\"], [0.1111111111111111, \"#46039f\"], [0.2222222222222222, \"#7201a8\"], [0.3333333333333333, \"#9c179e\"], [0.4444444444444444, \"#bd3786\"], [0.5555555555555556, \"#d8576b\"], [0.6666666666666666, \"#ed7953\"], [0.7777777777777778, \"#fb9f3a\"], [0.8888888888888888, \"#fdca26\"], [1.0, \"#f0f921\"]]}, \"colorway\": [\"#636efa\", \"#EF553B\", \"#00cc96\", \"#ab63fa\", \"#FFA15A\", \"#19d3f3\", \"#FF6692\", \"#B6E880\", \"#FF97FF\", \"#FECB52\"], \"font\": {\"color\": \"#2a3f5f\"}, \"geo\": {\"bgcolor\": \"white\", \"lakecolor\": \"white\", \"landcolor\": \"#E5ECF6\", \"showlakes\": true, \"showland\": true, \"subunitcolor\": \"white\"}, \"hoverlabel\": {\"align\": \"left\"}, \"hovermode\": \"closest\", \"mapbox\": {\"style\": \"light\"}, \"paper_bgcolor\": \"white\", \"plot_bgcolor\": \"#E5ECF6\", \"polar\": {\"angularaxis\": {\"gridcolor\": \"white\", \"linecolor\": \"white\", \"ticks\": \"\"}, \"bgcolor\": \"#E5ECF6\", \"radialaxis\": {\"gridcolor\": \"white\", \"linecolor\": \"white\", \"ticks\": \"\"}}, \"scene\": {\"xaxis\": {\"backgroundcolor\": \"#E5ECF6\", \"gridcolor\": \"white\", \"gridwidth\": 2, \"linecolor\": \"white\", \"showbackground\": true, \"ticks\": \"\", \"zerolinecolor\": \"white\"}, \"yaxis\": {\"backgroundcolor\": \"#E5ECF6\", \"gridcolor\": \"white\", \"gridwidth\": 2, \"linecolor\": \"white\", \"showbackground\": true, \"ticks\": \"\", \"zerolinecolor\": \"white\"}, \"zaxis\": {\"backgroundcolor\": \"#E5ECF6\", \"gridcolor\": \"white\", \"gridwidth\": 2, \"linecolor\": \"white\", \"showbackground\": true, \"ticks\": \"\", \"zerolinecolor\": \"white\"}}, \"shapedefaults\": {\"line\": {\"color\": \"#2a3f5f\"}}, \"ternary\": {\"aaxis\": {\"gridcolor\": \"white\", \"linecolor\": \"white\", \"ticks\": \"\"}, \"baxis\": {\"gridcolor\": \"white\", \"linecolor\": \"white\", \"ticks\": \"\"}, \"bgcolor\": \"#E5ECF6\", \"caxis\": {\"gridcolor\": \"white\", \"linecolor\": \"white\", \"ticks\": \"\"}}, \"title\": {\"x\": 0.05}, \"xaxis\": {\"automargin\": true, \"gridcolor\": \"white\", \"linecolor\": \"white\", \"ticks\": \"\", \"title\": {\"standoff\": 15}, \"zerolinecolor\": \"white\", \"zerolinewidth\": 2}, \"yaxis\": {\"automargin\": true, \"gridcolor\": \"white\", \"linecolor\": \"white\", \"ticks\": \"\", \"title\": {\"standoff\": 15}, \"zerolinecolor\": \"white\", \"zerolinewidth\": 2}}}, \"xaxis\": {\"anchor\": \"y\", \"categoryarray\": [\"South Asia\", \"Europe & Central Asia\", \"Middle East & North Africa\", \"Sub-Saharan Africa \", \"Latin America & Caribbean \", \"East Asia & Pacific\", \"North America\"], \"categoryorder\": \"array\", \"domain\": [0.0, 1.0], \"title\": {\"text\": \"Region\"}}, \"yaxis\": {\"anchor\": \"x\", \"domain\": [0.0, 1.0], \"title\": {\"text\": \"SP.DYN.LE00.IN\"}}},                        {\"responsive\": true}                    ).then(function(){\n                            \nvar gd = document.getElementById('844dedf8-b93c-48fb-b3a4-fabcd45119e7');\nvar x = new MutationObserver(function (mutations, observer) {{\n        var display = window.getComputedStyle(gd).display;\n        if (!display || display === 'none') {{\n            console.log([gd, 'removed!']);\n            Plotly.purge(gd);\n            observer.disconnect();\n        }}\n}});\n\n// Listen for the removal of the full notebook cells\nvar notebookContainer = gd.closest('#notebook-container');\nif (notebookContainer) {{\n    x.observe(notebookContainer, {childList: true});\n}}\n\n// Listen for the clearing of the current output cell\nvar outputEl = gd.closest('.output');\nif (outputEl) {{\n    x.observe(outputEl, {childList: true});\n}}\n\n                        })                };                            </script>        </div>\n</body>\n</html>"
          },
          "metadata": {},
          "output_type": "display_data"
        }
      ]
    },
    {
      "cell_type": "code",
      "metadata": {
        "colab": {
          "base_uri": "https://localhost:8080/",
          "height": 266
        },
        "id": "gNcgzIRiCWFo",
        "outputId": "ef7329fd-d857-43f3-8e93-6fd5982e4976",
        "cell_id": "00021-94aa0053-6456-4930-a315-39dab69b15e5",
        "deepnote_to_be_reexecuted": false,
        "source_hash": "3f2f091",
        "execution_start": 1617324218589,
        "execution_millis": 31,
        "deepnote_cell_type": "code"
      },
      "source": "df_life = df_2018.groupby(\"Region\").mean().reset_index()\ndf_life",
      "execution_count": 22,
      "outputs": [
        {
          "output_type": "execute_result",
          "execution_count": 22,
          "data": {
            "application/vnd.deepnote.dataframe.v2+json": {
              "row_count": 7,
              "column_count": 5,
              "columns": [
                {
                  "name": "Region",
                  "dtype": "object",
                  "stats": {
                    "unique_count": 7,
                    "nan_count": 0,
                    "categories": [
                      {
                        "name": "East Asia & Pacific",
                        "count": 1
                      },
                      {
                        "name": "Europe & Central Asia",
                        "count": 1
                      },
                      {
                        "name": "5 others",
                        "count": 5
                      }
                    ]
                  }
                },
                {
                  "name": "Year",
                  "dtype": "int64",
                  "stats": {
                    "unique_count": 1,
                    "nan_count": 0,
                    "min": 2018,
                    "max": 2018,
                    "histogram": [
                      {
                        "bin_start": 2017.5,
                        "bin_end": 2017.6,
                        "count": 0
                      },
                      {
                        "bin_start": 2017.6,
                        "bin_end": 2017.7,
                        "count": 0
                      },
                      {
                        "bin_start": 2017.7,
                        "bin_end": 2017.8,
                        "count": 0
                      },
                      {
                        "bin_start": 2017.8,
                        "bin_end": 2017.9,
                        "count": 0
                      },
                      {
                        "bin_start": 2017.9,
                        "bin_end": 2018,
                        "count": 0
                      },
                      {
                        "bin_start": 2018,
                        "bin_end": 2018.1,
                        "count": 7
                      },
                      {
                        "bin_start": 2018.1,
                        "bin_end": 2018.2,
                        "count": 0
                      },
                      {
                        "bin_start": 2018.2,
                        "bin_end": 2018.3,
                        "count": 0
                      },
                      {
                        "bin_start": 2018.3,
                        "bin_end": 2018.4,
                        "count": 0
                      },
                      {
                        "bin_start": 2018.4,
                        "bin_end": 2018.5,
                        "count": 0
                      }
                    ]
                  }
                },
                {
                  "name": "SP.POP.TOTL",
                  "dtype": "float64",
                  "stats": {
                    "unique_count": 7,
                    "nan_count": 0,
                    "min": 18721273.908163264,
                    "max": 226798593,
                    "histogram": [
                      {
                        "bin_start": 18721273.908163264,
                        "bin_end": 39529005.81734694,
                        "count": 4
                      },
                      {
                        "bin_start": 39529005.81734694,
                        "bin_end": 60336737.72653061,
                        "count": 0
                      },
                      {
                        "bin_start": 60336737.72653061,
                        "bin_end": 81144469.63571429,
                        "count": 0
                      },
                      {
                        "bin_start": 81144469.63571429,
                        "bin_end": 101952201.54489796,
                        "count": 1
                      },
                      {
                        "bin_start": 101952201.54489796,
                        "bin_end": 122759933.45408164,
                        "count": 1
                      },
                      {
                        "bin_start": 122759933.45408164,
                        "bin_end": 143567665.3632653,
                        "count": 0
                      },
                      {
                        "bin_start": 143567665.3632653,
                        "bin_end": 164375397.27244896,
                        "count": 0
                      },
                      {
                        "bin_start": 164375397.27244896,
                        "bin_end": 185183129.18163264,
                        "count": 0
                      },
                      {
                        "bin_start": 185183129.18163264,
                        "bin_end": 205990861.09081632,
                        "count": 0
                      },
                      {
                        "bin_start": 205990861.09081632,
                        "bin_end": 226798593,
                        "count": 1
                      }
                    ]
                  }
                },
                {
                  "name": "SP.DYN.LE00.IN",
                  "dtype": "float64",
                  "stats": {
                    "unique_count": 7,
                    "nan_count": 0,
                    "min": 62.70701788617779,
                    "max": 80.7131707317,
                    "histogram": [
                      {
                        "bin_start": 62.70701788617779,
                        "bin_end": 64.50763317073,
                        "count": 1
                      },
                      {
                        "bin_start": 64.50763317073,
                        "bin_end": 66.30824845528223,
                        "count": 0
                      },
                      {
                        "bin_start": 66.30824845528223,
                        "bin_end": 68.10886373983445,
                        "count": 0
                      },
                      {
                        "bin_start": 68.10886373983445,
                        "bin_end": 69.90947902438667,
                        "count": 0
                      },
                      {
                        "bin_start": 69.90947902438667,
                        "bin_end": 71.71009430893889,
                        "count": 1
                      },
                      {
                        "bin_start": 71.71009430893889,
                        "bin_end": 73.51070959349111,
                        "count": 0
                      },
                      {
                        "bin_start": 73.51070959349111,
                        "bin_end": 75.31132487804334,
                        "count": 2
                      },
                      {
                        "bin_start": 75.31132487804334,
                        "bin_end": 77.11194016259556,
                        "count": 1
                      },
                      {
                        "bin_start": 77.11194016259556,
                        "bin_end": 78.91255544714778,
                        "count": 1
                      },
                      {
                        "bin_start": 78.91255544714778,
                        "bin_end": 80.7131707317,
                        "count": 1
                      }
                    ]
                  }
                },
                {
                  "name": "NY.GDP.PCAP.PP.CD",
                  "dtype": "float64",
                  "stats": {
                    "unique_count": 7,
                    "nan_count": 0,
                    "min": 5490.209762099863,
                    "max": 65780.04612621963,
                    "histogram": [
                      {
                        "bin_start": 5490.209762099863,
                        "bin_end": 11519.193398511841,
                        "count": 2
                      },
                      {
                        "bin_start": 11519.193398511841,
                        "bin_end": 17548.177034923818,
                        "count": 1
                      },
                      {
                        "bin_start": 17548.177034923818,
                        "bin_end": 23577.160671335798,
                        "count": 0
                      },
                      {
                        "bin_start": 23577.160671335798,
                        "bin_end": 29606.144307747774,
                        "count": 2
                      },
                      {
                        "bin_start": 29606.144307747774,
                        "bin_end": 35635.12794415975,
                        "count": 0
                      },
                      {
                        "bin_start": 35635.12794415975,
                        "bin_end": 41664.11158057173,
                        "count": 1
                      },
                      {
                        "bin_start": 41664.11158057173,
                        "bin_end": 47693.095216983704,
                        "count": 0
                      },
                      {
                        "bin_start": 47693.095216983704,
                        "bin_end": 53722.07885339568,
                        "count": 0
                      },
                      {
                        "bin_start": 53722.07885339568,
                        "bin_end": 59751.06248980766,
                        "count": 0
                      },
                      {
                        "bin_start": 59751.06248980766,
                        "bin_end": 65780.04612621963,
                        "count": 1
                      }
                    ]
                  }
                },
                {
                  "name": "_deepnote_index_column",
                  "dtype": "int64"
                }
              ],
              "rows_top": [
                {
                  "Region": "East Asia & Pacific",
                  "Year": 2018,
                  "SP.POP.TOTL": 84373095.81481482,
                  "SP.DYN.LE00.IN": 74.24205962059999,
                  "NY.GDP.PCAP.PP.CD": 26244.05708754145,
                  "_deepnote_index_column": 0
                },
                {
                  "Region": "Europe & Central Asia",
                  "Year": 2018,
                  "SP.POP.TOTL": 18721273.908163264,
                  "SP.DYN.LE00.IN": 77.7288078646102,
                  "NY.GDP.PCAP.PP.CD": 36017.48315212187,
                  "_deepnote_index_column": 1
                },
                {
                  "Region": "Latin America & Caribbean ",
                  "Year": 2018,
                  "SP.POP.TOTL": 19985086.566666666,
                  "SP.DYN.LE00.IN": 74.90763983740001,
                  "NY.GDP.PCAP.PP.CD": 16698.310454729977,
                  "_deepnote_index_column": 2
                },
                {
                  "Region": "Middle East & North Africa",
                  "Year": 2018,
                  "SP.POP.TOTL": 21237262.736842107,
                  "SP.DYN.LE00.IN": 75.96037997432633,
                  "NY.GDP.PCAP.PP.CD": 28751.646553435363,
                  "_deepnote_index_column": 3
                },
                {
                  "Region": "North America",
                  "Year": 2018,
                  "SP.POP.TOTL": 121269728.66666667,
                  "SP.DYN.LE00.IN": 80.7131707317,
                  "NY.GDP.PCAP.PP.CD": 65780.04612621963,
                  "_deepnote_index_column": 4
                },
                {
                  "Region": "South Asia",
                  "Year": 2018,
                  "SP.POP.TOTL": 226798593,
                  "SP.DYN.LE00.IN": 71.339125,
                  "NY.GDP.PCAP.PP.CD": 8191.477151775189,
                  "_deepnote_index_column": 5
                },
                {
                  "Region": "Sub-Saharan Africa ",
                  "Year": 2018,
                  "SP.POP.TOTL": 23308214.666666668,
                  "SP.DYN.LE00.IN": 62.70701788617779,
                  "NY.GDP.PCAP.PP.CD": 5490.209762099863,
                  "_deepnote_index_column": 6
                }
              ],
              "rows_bottom": null
            },
            "text/plain": "                       Region  Year   SP.POP.TOTL  SP.DYN.LE00.IN  \\\n0         East Asia & Pacific  2018  8.437310e+07       74.242060   \n1       Europe & Central Asia  2018  1.872127e+07       77.728808   \n2  Latin America & Caribbean   2018  1.998509e+07       74.907640   \n3  Middle East & North Africa  2018  2.123726e+07       75.960380   \n4               North America  2018  1.212697e+08       80.713171   \n5                  South Asia  2018  2.267986e+08       71.339125   \n6         Sub-Saharan Africa   2018  2.330821e+07       62.707018   \n\n   NY.GDP.PCAP.PP.CD  \n0       26244.057088  \n1       36017.483152  \n2       16698.310455  \n3       28751.646553  \n4       65780.046126  \n5        8191.477152  \n6        5490.209762  ",
            "text/html": "<div>\n<style scoped>\n    .dataframe tbody tr th:only-of-type {\n        vertical-align: middle;\n    }\n\n    .dataframe tbody tr th {\n        vertical-align: top;\n    }\n\n    .dataframe thead th {\n        text-align: right;\n    }\n</style>\n<table border=\"1\" class=\"dataframe\">\n  <thead>\n    <tr style=\"text-align: right;\">\n      <th></th>\n      <th>Region</th>\n      <th>Year</th>\n      <th>SP.POP.TOTL</th>\n      <th>SP.DYN.LE00.IN</th>\n      <th>NY.GDP.PCAP.PP.CD</th>\n    </tr>\n  </thead>\n  <tbody>\n    <tr>\n      <th>0</th>\n      <td>East Asia &amp; Pacific</td>\n      <td>2018</td>\n      <td>8.437310e+07</td>\n      <td>74.242060</td>\n      <td>26244.057088</td>\n    </tr>\n    <tr>\n      <th>1</th>\n      <td>Europe &amp; Central Asia</td>\n      <td>2018</td>\n      <td>1.872127e+07</td>\n      <td>77.728808</td>\n      <td>36017.483152</td>\n    </tr>\n    <tr>\n      <th>2</th>\n      <td>Latin America &amp; Caribbean</td>\n      <td>2018</td>\n      <td>1.998509e+07</td>\n      <td>74.907640</td>\n      <td>16698.310455</td>\n    </tr>\n    <tr>\n      <th>3</th>\n      <td>Middle East &amp; North Africa</td>\n      <td>2018</td>\n      <td>2.123726e+07</td>\n      <td>75.960380</td>\n      <td>28751.646553</td>\n    </tr>\n    <tr>\n      <th>4</th>\n      <td>North America</td>\n      <td>2018</td>\n      <td>1.212697e+08</td>\n      <td>80.713171</td>\n      <td>65780.046126</td>\n    </tr>\n    <tr>\n      <th>5</th>\n      <td>South Asia</td>\n      <td>2018</td>\n      <td>2.267986e+08</td>\n      <td>71.339125</td>\n      <td>8191.477152</td>\n    </tr>\n    <tr>\n      <th>6</th>\n      <td>Sub-Saharan Africa</td>\n      <td>2018</td>\n      <td>2.330821e+07</td>\n      <td>62.707018</td>\n      <td>5490.209762</td>\n    </tr>\n  </tbody>\n</table>\n</div>"
          },
          "metadata": {}
        }
      ]
    },
    {
      "cell_type": "code",
      "metadata": {
        "colab": {
          "base_uri": "https://localhost:8080/",
          "height": 542
        },
        "id": "zsfS7nSMCsTn",
        "outputId": "46cd8157-3726-45a7-8147-d11be91b531c",
        "cell_id": "00022-43216762-54bf-456d-a68d-2918c0c2dd4b",
        "deepnote_to_be_reexecuted": false,
        "source_hash": "7279f713",
        "execution_start": 1617324221619,
        "execution_millis": 58,
        "deepnote_cell_type": "code"
      },
      "source": "# This Bar Chart make sense. \n# It help us compare the longevity of people in each region\n\nfig = px.bar(data_frame=df_life, \n             x=\"Region\", y=\"SP.DYN.LE00.IN\", \n             color=\"Region\"\n             )\nfig.show()",
      "execution_count": 23,
      "outputs": [
        {
          "data": {
            "text/html": "<html>\n<head><meta charset=\"utf-8\" /></head>\n<body>\n    <div>            <script src=\"https://cdnjs.cloudflare.com/ajax/libs/mathjax/2.7.5/MathJax.js?config=TeX-AMS-MML_SVG\"></script><script type=\"text/javascript\">if (window.MathJax) {MathJax.Hub.Config({SVG: {font: \"STIX-Web\"}});}</script>                <script type=\"text/javascript\">window.PlotlyConfig = {MathJaxConfig: 'local'};</script>\n        <script src=\"https://cdn.plot.ly/plotly-latest.min.js\"></script>                <div id=\"bbd83a36-3ccd-4f2e-a3ad-99c1ab42d40d\" class=\"plotly-graph-div\" style=\"height:525px; width:100%;\"></div>            <script type=\"text/javascript\">                                    window.PLOTLYENV=window.PLOTLYENV || {};                                    if (document.getElementById(\"bbd83a36-3ccd-4f2e-a3ad-99c1ab42d40d\")) {                    Plotly.newPlot(                        \"bbd83a36-3ccd-4f2e-a3ad-99c1ab42d40d\",                        [{\"alignmentgroup\": \"True\", \"hovertemplate\": \"Region=%{x}<br>SP.DYN.LE00.IN=%{y}<extra></extra>\", \"legendgroup\": \"East Asia & Pacific\", \"marker\": {\"color\": \"#636efa\"}, \"name\": \"East Asia & Pacific\", \"offsetgroup\": \"East Asia & Pacific\", \"orientation\": \"v\", \"showlegend\": true, \"textposition\": \"auto\", \"type\": \"bar\", \"x\": [\"East Asia & Pacific\"], \"xaxis\": \"x\", \"y\": [74.24205962059999], \"yaxis\": \"y\"}, {\"alignmentgroup\": \"True\", \"hovertemplate\": \"Region=%{x}<br>SP.DYN.LE00.IN=%{y}<extra></extra>\", \"legendgroup\": \"Europe & Central Asia\", \"marker\": {\"color\": \"#EF553B\"}, \"name\": \"Europe & Central Asia\", \"offsetgroup\": \"Europe & Central Asia\", \"orientation\": \"v\", \"showlegend\": true, \"textposition\": \"auto\", \"type\": \"bar\", \"x\": [\"Europe & Central Asia\"], \"xaxis\": \"x\", \"y\": [77.7288078646102], \"yaxis\": \"y\"}, {\"alignmentgroup\": \"True\", \"hovertemplate\": \"Region=%{x}<br>SP.DYN.LE00.IN=%{y}<extra></extra>\", \"legendgroup\": \"Latin America & Caribbean \", \"marker\": {\"color\": \"#00cc96\"}, \"name\": \"Latin America & Caribbean \", \"offsetgroup\": \"Latin America & Caribbean \", \"orientation\": \"v\", \"showlegend\": true, \"textposition\": \"auto\", \"type\": \"bar\", \"x\": [\"Latin America & Caribbean \"], \"xaxis\": \"x\", \"y\": [74.90763983740001], \"yaxis\": \"y\"}, {\"alignmentgroup\": \"True\", \"hovertemplate\": \"Region=%{x}<br>SP.DYN.LE00.IN=%{y}<extra></extra>\", \"legendgroup\": \"Middle East & North Africa\", \"marker\": {\"color\": \"#ab63fa\"}, \"name\": \"Middle East & North Africa\", \"offsetgroup\": \"Middle East & North Africa\", \"orientation\": \"v\", \"showlegend\": true, \"textposition\": \"auto\", \"type\": \"bar\", \"x\": [\"Middle East & North Africa\"], \"xaxis\": \"x\", \"y\": [75.96037997432633], \"yaxis\": \"y\"}, {\"alignmentgroup\": \"True\", \"hovertemplate\": \"Region=%{x}<br>SP.DYN.LE00.IN=%{y}<extra></extra>\", \"legendgroup\": \"North America\", \"marker\": {\"color\": \"#FFA15A\"}, \"name\": \"North America\", \"offsetgroup\": \"North America\", \"orientation\": \"v\", \"showlegend\": true, \"textposition\": \"auto\", \"type\": \"bar\", \"x\": [\"North America\"], \"xaxis\": \"x\", \"y\": [80.7131707317], \"yaxis\": \"y\"}, {\"alignmentgroup\": \"True\", \"hovertemplate\": \"Region=%{x}<br>SP.DYN.LE00.IN=%{y}<extra></extra>\", \"legendgroup\": \"South Asia\", \"marker\": {\"color\": \"#19d3f3\"}, \"name\": \"South Asia\", \"offsetgroup\": \"South Asia\", \"orientation\": \"v\", \"showlegend\": true, \"textposition\": \"auto\", \"type\": \"bar\", \"x\": [\"South Asia\"], \"xaxis\": \"x\", \"y\": [71.339125], \"yaxis\": \"y\"}, {\"alignmentgroup\": \"True\", \"hovertemplate\": \"Region=%{x}<br>SP.DYN.LE00.IN=%{y}<extra></extra>\", \"legendgroup\": \"Sub-Saharan Africa \", \"marker\": {\"color\": \"#FF6692\"}, \"name\": \"Sub-Saharan Africa \", \"offsetgroup\": \"Sub-Saharan Africa \", \"orientation\": \"v\", \"showlegend\": true, \"textposition\": \"auto\", \"type\": \"bar\", \"x\": [\"Sub-Saharan Africa \"], \"xaxis\": \"x\", \"y\": [62.70701788617779], \"yaxis\": \"y\"}],                        {\"barmode\": \"relative\", \"legend\": {\"title\": {\"text\": \"Region\"}, \"tracegroupgap\": 0}, \"margin\": {\"t\": 60}, \"template\": {\"data\": {\"bar\": [{\"error_x\": {\"color\": \"#2a3f5f\"}, \"error_y\": {\"color\": \"#2a3f5f\"}, \"marker\": {\"line\": {\"color\": \"#E5ECF6\", \"width\": 0.5}}, \"type\": \"bar\"}], \"barpolar\": [{\"marker\": {\"line\": {\"color\": \"#E5ECF6\", \"width\": 0.5}}, \"type\": \"barpolar\"}], \"carpet\": [{\"aaxis\": {\"endlinecolor\": \"#2a3f5f\", \"gridcolor\": \"white\", \"linecolor\": \"white\", \"minorgridcolor\": \"white\", \"startlinecolor\": \"#2a3f5f\"}, \"baxis\": {\"endlinecolor\": \"#2a3f5f\", \"gridcolor\": \"white\", \"linecolor\": \"white\", \"minorgridcolor\": \"white\", \"startlinecolor\": \"#2a3f5f\"}, \"type\": \"carpet\"}], \"choropleth\": [{\"colorbar\": {\"outlinewidth\": 0, \"ticks\": \"\"}, \"type\": \"choropleth\"}], \"contour\": [{\"colorbar\": {\"outlinewidth\": 0, \"ticks\": \"\"}, \"colorscale\": [[0.0, \"#0d0887\"], [0.1111111111111111, \"#46039f\"], [0.2222222222222222, \"#7201a8\"], [0.3333333333333333, \"#9c179e\"], [0.4444444444444444, \"#bd3786\"], [0.5555555555555556, \"#d8576b\"], [0.6666666666666666, \"#ed7953\"], [0.7777777777777778, \"#fb9f3a\"], [0.8888888888888888, \"#fdca26\"], [1.0, \"#f0f921\"]], \"type\": \"contour\"}], \"contourcarpet\": [{\"colorbar\": {\"outlinewidth\": 0, \"ticks\": \"\"}, \"type\": \"contourcarpet\"}], \"heatmap\": [{\"colorbar\": {\"outlinewidth\": 0, \"ticks\": \"\"}, \"colorscale\": [[0.0, \"#0d0887\"], [0.1111111111111111, \"#46039f\"], [0.2222222222222222, \"#7201a8\"], [0.3333333333333333, \"#9c179e\"], [0.4444444444444444, \"#bd3786\"], [0.5555555555555556, \"#d8576b\"], [0.6666666666666666, \"#ed7953\"], [0.7777777777777778, \"#fb9f3a\"], [0.8888888888888888, \"#fdca26\"], [1.0, \"#f0f921\"]], \"type\": \"heatmap\"}], \"heatmapgl\": [{\"colorbar\": {\"outlinewidth\": 0, \"ticks\": \"\"}, \"colorscale\": [[0.0, \"#0d0887\"], [0.1111111111111111, \"#46039f\"], [0.2222222222222222, \"#7201a8\"], [0.3333333333333333, \"#9c179e\"], [0.4444444444444444, \"#bd3786\"], [0.5555555555555556, \"#d8576b\"], [0.6666666666666666, \"#ed7953\"], [0.7777777777777778, \"#fb9f3a\"], [0.8888888888888888, \"#fdca26\"], [1.0, \"#f0f921\"]], \"type\": \"heatmapgl\"}], \"histogram\": [{\"marker\": {\"colorbar\": {\"outlinewidth\": 0, \"ticks\": \"\"}}, \"type\": \"histogram\"}], \"histogram2d\": [{\"colorbar\": {\"outlinewidth\": 0, \"ticks\": \"\"}, \"colorscale\": [[0.0, \"#0d0887\"], [0.1111111111111111, \"#46039f\"], [0.2222222222222222, \"#7201a8\"], [0.3333333333333333, \"#9c179e\"], [0.4444444444444444, \"#bd3786\"], [0.5555555555555556, \"#d8576b\"], [0.6666666666666666, \"#ed7953\"], [0.7777777777777778, \"#fb9f3a\"], [0.8888888888888888, \"#fdca26\"], [1.0, \"#f0f921\"]], \"type\": \"histogram2d\"}], \"histogram2dcontour\": [{\"colorbar\": {\"outlinewidth\": 0, \"ticks\": \"\"}, \"colorscale\": [[0.0, \"#0d0887\"], [0.1111111111111111, \"#46039f\"], [0.2222222222222222, \"#7201a8\"], [0.3333333333333333, \"#9c179e\"], [0.4444444444444444, \"#bd3786\"], [0.5555555555555556, \"#d8576b\"], [0.6666666666666666, \"#ed7953\"], [0.7777777777777778, \"#fb9f3a\"], [0.8888888888888888, \"#fdca26\"], [1.0, \"#f0f921\"]], \"type\": \"histogram2dcontour\"}], \"mesh3d\": [{\"colorbar\": {\"outlinewidth\": 0, \"ticks\": \"\"}, \"type\": \"mesh3d\"}], \"parcoords\": [{\"line\": {\"colorbar\": {\"outlinewidth\": 0, \"ticks\": \"\"}}, \"type\": \"parcoords\"}], \"pie\": [{\"automargin\": true, \"type\": \"pie\"}], \"scatter\": [{\"marker\": {\"colorbar\": {\"outlinewidth\": 0, \"ticks\": \"\"}}, \"type\": \"scatter\"}], \"scatter3d\": [{\"line\": {\"colorbar\": {\"outlinewidth\": 0, \"ticks\": \"\"}}, \"marker\": {\"colorbar\": {\"outlinewidth\": 0, \"ticks\": \"\"}}, \"type\": \"scatter3d\"}], \"scattercarpet\": [{\"marker\": {\"colorbar\": {\"outlinewidth\": 0, \"ticks\": \"\"}}, \"type\": \"scattercarpet\"}], \"scattergeo\": [{\"marker\": {\"colorbar\": {\"outlinewidth\": 0, \"ticks\": \"\"}}, \"type\": \"scattergeo\"}], \"scattergl\": [{\"marker\": {\"colorbar\": {\"outlinewidth\": 0, \"ticks\": \"\"}}, \"type\": \"scattergl\"}], \"scattermapbox\": [{\"marker\": {\"colorbar\": {\"outlinewidth\": 0, \"ticks\": \"\"}}, \"type\": \"scattermapbox\"}], \"scatterpolar\": [{\"marker\": {\"colorbar\": {\"outlinewidth\": 0, \"ticks\": \"\"}}, \"type\": \"scatterpolar\"}], \"scatterpolargl\": [{\"marker\": {\"colorbar\": {\"outlinewidth\": 0, \"ticks\": \"\"}}, \"type\": \"scatterpolargl\"}], \"scatterternary\": [{\"marker\": {\"colorbar\": {\"outlinewidth\": 0, \"ticks\": \"\"}}, \"type\": \"scatterternary\"}], \"surface\": [{\"colorbar\": {\"outlinewidth\": 0, \"ticks\": \"\"}, \"colorscale\": [[0.0, \"#0d0887\"], [0.1111111111111111, \"#46039f\"], [0.2222222222222222, \"#7201a8\"], [0.3333333333333333, \"#9c179e\"], [0.4444444444444444, \"#bd3786\"], [0.5555555555555556, \"#d8576b\"], [0.6666666666666666, \"#ed7953\"], [0.7777777777777778, \"#fb9f3a\"], [0.8888888888888888, \"#fdca26\"], [1.0, \"#f0f921\"]], \"type\": \"surface\"}], \"table\": [{\"cells\": {\"fill\": {\"color\": \"#EBF0F8\"}, \"line\": {\"color\": \"white\"}}, \"header\": {\"fill\": {\"color\": \"#C8D4E3\"}, \"line\": {\"color\": \"white\"}}, \"type\": \"table\"}]}, \"layout\": {\"annotationdefaults\": {\"arrowcolor\": \"#2a3f5f\", \"arrowhead\": 0, \"arrowwidth\": 1}, \"autotypenumbers\": \"strict\", \"coloraxis\": {\"colorbar\": {\"outlinewidth\": 0, \"ticks\": \"\"}}, \"colorscale\": {\"diverging\": [[0, \"#8e0152\"], [0.1, \"#c51b7d\"], [0.2, \"#de77ae\"], [0.3, \"#f1b6da\"], [0.4, \"#fde0ef\"], [0.5, \"#f7f7f7\"], [0.6, \"#e6f5d0\"], [0.7, \"#b8e186\"], [0.8, \"#7fbc41\"], [0.9, \"#4d9221\"], [1, \"#276419\"]], \"sequential\": [[0.0, \"#0d0887\"], [0.1111111111111111, \"#46039f\"], [0.2222222222222222, \"#7201a8\"], [0.3333333333333333, \"#9c179e\"], [0.4444444444444444, \"#bd3786\"], [0.5555555555555556, \"#d8576b\"], [0.6666666666666666, \"#ed7953\"], [0.7777777777777778, \"#fb9f3a\"], [0.8888888888888888, \"#fdca26\"], [1.0, \"#f0f921\"]], \"sequentialminus\": [[0.0, \"#0d0887\"], [0.1111111111111111, \"#46039f\"], [0.2222222222222222, \"#7201a8\"], [0.3333333333333333, \"#9c179e\"], [0.4444444444444444, \"#bd3786\"], [0.5555555555555556, \"#d8576b\"], [0.6666666666666666, \"#ed7953\"], [0.7777777777777778, \"#fb9f3a\"], [0.8888888888888888, \"#fdca26\"], [1.0, \"#f0f921\"]]}, \"colorway\": [\"#636efa\", \"#EF553B\", \"#00cc96\", \"#ab63fa\", \"#FFA15A\", \"#19d3f3\", \"#FF6692\", \"#B6E880\", \"#FF97FF\", \"#FECB52\"], \"font\": {\"color\": \"#2a3f5f\"}, \"geo\": {\"bgcolor\": \"white\", \"lakecolor\": \"white\", \"landcolor\": \"#E5ECF6\", \"showlakes\": true, \"showland\": true, \"subunitcolor\": \"white\"}, \"hoverlabel\": {\"align\": \"left\"}, \"hovermode\": \"closest\", \"mapbox\": {\"style\": \"light\"}, \"paper_bgcolor\": \"white\", \"plot_bgcolor\": \"#E5ECF6\", \"polar\": {\"angularaxis\": {\"gridcolor\": \"white\", \"linecolor\": \"white\", \"ticks\": \"\"}, \"bgcolor\": \"#E5ECF6\", \"radialaxis\": {\"gridcolor\": \"white\", \"linecolor\": \"white\", \"ticks\": \"\"}}, \"scene\": {\"xaxis\": {\"backgroundcolor\": \"#E5ECF6\", \"gridcolor\": \"white\", \"gridwidth\": 2, \"linecolor\": \"white\", \"showbackground\": true, \"ticks\": \"\", \"zerolinecolor\": \"white\"}, \"yaxis\": {\"backgroundcolor\": \"#E5ECF6\", \"gridcolor\": \"white\", \"gridwidth\": 2, \"linecolor\": \"white\", \"showbackground\": true, \"ticks\": \"\", \"zerolinecolor\": \"white\"}, \"zaxis\": {\"backgroundcolor\": \"#E5ECF6\", \"gridcolor\": \"white\", \"gridwidth\": 2, \"linecolor\": \"white\", \"showbackground\": true, \"ticks\": \"\", \"zerolinecolor\": \"white\"}}, \"shapedefaults\": {\"line\": {\"color\": \"#2a3f5f\"}}, \"ternary\": {\"aaxis\": {\"gridcolor\": \"white\", \"linecolor\": \"white\", \"ticks\": \"\"}, \"baxis\": {\"gridcolor\": \"white\", \"linecolor\": \"white\", \"ticks\": \"\"}, \"bgcolor\": \"#E5ECF6\", \"caxis\": {\"gridcolor\": \"white\", \"linecolor\": \"white\", \"ticks\": \"\"}}, \"title\": {\"x\": 0.05}, \"xaxis\": {\"automargin\": true, \"gridcolor\": \"white\", \"linecolor\": \"white\", \"ticks\": \"\", \"title\": {\"standoff\": 15}, \"zerolinecolor\": \"white\", \"zerolinewidth\": 2}, \"yaxis\": {\"automargin\": true, \"gridcolor\": \"white\", \"linecolor\": \"white\", \"ticks\": \"\", \"title\": {\"standoff\": 15}, \"zerolinecolor\": \"white\", \"zerolinewidth\": 2}}}, \"xaxis\": {\"anchor\": \"y\", \"categoryarray\": [\"East Asia & Pacific\", \"Europe & Central Asia\", \"Latin America & Caribbean \", \"Middle East & North Africa\", \"North America\", \"South Asia\", \"Sub-Saharan Africa \"], \"categoryorder\": \"array\", \"domain\": [0.0, 1.0], \"title\": {\"text\": \"Region\"}}, \"yaxis\": {\"anchor\": \"x\", \"domain\": [0.0, 1.0], \"title\": {\"text\": \"SP.DYN.LE00.IN\"}}},                        {\"responsive\": true}                    ).then(function(){\n                            \nvar gd = document.getElementById('bbd83a36-3ccd-4f2e-a3ad-99c1ab42d40d');\nvar x = new MutationObserver(function (mutations, observer) {{\n        var display = window.getComputedStyle(gd).display;\n        if (!display || display === 'none') {{\n            console.log([gd, 'removed!']);\n            Plotly.purge(gd);\n            observer.disconnect();\n        }}\n}});\n\n// Listen for the removal of the full notebook cells\nvar notebookContainer = gd.closest('#notebook-container');\nif (notebookContainer) {{\n    x.observe(notebookContainer, {childList: true});\n}}\n\n// Listen for the clearing of the current output cell\nvar outputEl = gd.closest('.output');\nif (outputEl) {{\n    x.observe(outputEl, {childList: true});\n}}\n\n                        })                };                            </script>        </div>\n</body>\n</html>"
          },
          "metadata": {},
          "output_type": "display_data"
        }
      ]
    },
    {
      "cell_type": "markdown",
      "source": "<a style='text-decoration:none;line-height:16px;display:flex;color:#5B5B62;padding:10px;justify-content:end;' href='https://deepnote.com?utm_source=created-in-deepnote-cell&projectId=57ac4a6a-839d-4eca-921d-e3f52b412e2a' target=\"_blank\">\n<img alt='Created in deepnote.com' style='display:inline;max-height:16px;margin:0px;margin-right:7.5px;' src='data:image/svg+xml;base64,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' > </img>\nCreated in <span style='font-weight:600;margin-left:4px;'>Deepnote</span></a>",
      "metadata": {
        "tags": [],
        "created_in_deepnote_cell": true,
        "deepnote_cell_type": "markdown"
      }
    }
  ],
  "nbformat": 4,
  "nbformat_minor": 0,
  "metadata": {
    "colab": {
      "name": "plotly_express_world_dev.ipynb",
      "provenance": [],
      "toc_visible": true
    },
    "kernelspec": {
      "name": "python3",
      "display_name": "Python 3"
    },
    "language_info": {
      "name": "python"
    },
    "deepnote_notebook_id": "c96c7288-5b4e-4687-a987-50c592219f08",
    "deepnote": {},
    "deepnote_execution_queue": []
  }
}